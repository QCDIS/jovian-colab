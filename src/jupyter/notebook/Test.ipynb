{
 "cells": [
  {
   "cell_type": "markdown",
   "id": "8f2cefb5-a6b1-40e3-9a65-8408264410eb",
   "metadata": {},
   "source": [
    "## Behavior Tests\n",
    "This notebook is used to test the behavior (not the performance) of the prototype. We use two tests: crypto only and file sharing via IPFS. Both tests store the results in a .csv file, which we will then plot."
   ]
  },
  {
   "cell_type": "markdown",
   "id": "f1173dc7-75cf-408e-8d9d-409072db1672",
   "metadata": {
    "tags": []
   },
   "source": [
    "### Generate test files containing random data"
   ]
  },
  {
   "cell_type": "code",
   "execution_count": 72,
   "id": "4ae3a5d7-b465-41cf-b4f7-5a7bf2bb5742",
   "metadata": {},
   "outputs": [
    {
     "name": "stdout",
     "output_type": "stream",
     "text": [
      "Generating...\n",
      "Done!\n"
     ]
    }
   ],
   "source": [
    "print('Generating...')\n",
    "!head -c 1048576 </dev/urandom >testfile_1_MiB.bin\n",
    "!head -c 10485760 </dev/urandom >testfile_10_MiB.bin\n",
    "!head -c 104857600 </dev/urandom >testfile_100_MiB.bin\n",
    "!head -c 524288000 </dev/urandom >testfile_500_MiB.bin\n",
    "!head -c 1073741824 </dev/urandom >testfile_1_GiB.bin\n",
    "#!head -c 5368709120 </dev/urandom >testfile_5_GiB.bin\n",
    "!sha256sum testfile_1_MiB.bin|cut -d' ' -f1 > testfile_1_MiB.bin.sha256sum\n",
    "!sha256sum testfile_10_MiB.bin|cut -d' ' -f1 > testfile_10_MiB.bin.sha256sum\n",
    "!sha256sum testfile_100_MiB.bin|cut -d' ' -f1 > testfile_100_MiB.bin.sha256sum\n",
    "!sha256sum testfile_500_MiB.bin|cut -d' ' -f1 > testfile_500_MiB.bin.sha256sum\n",
    "!sha256sum testfile_1_GiB.bin|cut -d' ' -f1 > testfile_1_GiB.bin.sha256sum\n",
    "#!sha256sum testfile_5_GiB.bin|cut -d' ' -f1 > testfile_5_GiB.bin.sha256sum\n",
    "print('Done!')"
   ]
  },
  {
   "cell_type": "markdown",
   "id": "c1e2d31f-0c60-4c81-bd99-9b79c8038125",
   "metadata": {
    "tags": []
   },
   "source": [
    "### Generate baseline crypto results\n",
    "This test will encrypt/decrypt the various test files using multiple ciphers via the IPFS client Python module. This gives us a baseline to compare the IPFS results against."
   ]
  },
  {
   "cell_type": "code",
   "execution_count": 73,
   "id": "91428840-8bca-4aa4-8d50-81bd9d288c30",
   "metadata": {},
   "outputs": [
    {
     "name": "stdout",
     "output_type": "stream",
     "text": [
      "Processing crypto baseline...\n",
      "Done!\n"
     ]
    }
   ],
   "source": [
    "import jcipfsclient as ipfs\n",
    "import time\n",
    "\n",
    "# Test configuration\n",
    "files = ['testfile_1_MiB.bin','testfile_10_MiB.bin','testfile_100_MiB.bin','testfile_500_MiB.bin']\n",
    "ciphers = ['plain','ChaCha20','Salsa20','AES_256_CTR']\n",
    "rounds = 10\n",
    "\n",
    "print('Processing crypto baseline...')\n",
    "\n",
    "with open('baseline_crypto_duration_results.csv', 'w') as results:\n",
    "  # .csv header\n",
    "  delimiter = ';'\n",
    "  results.write('File;SHA256;Cipher;Round;Time_Encrypt_Wall_Start;Time_Encrypt_Wall_Stop;Time_Decrypt_Wall_Start;Time_Decrypt_Wall_Stop;Time_Encrypt_Duration_Wall;Time_Decrypt_Duration_Wall;Time_Encrypt_Duration_Cpu;Time_Decrypt_Duration_Cpu;Time_Total_Duration_Wall;Time_Total_Duration_Cpu;Match\\n')\n",
    "\n",
    "  # Run the test\n",
    "  for cipherMode in ciphers:\n",
    "    for file in files:\n",
    "      for round in range(0, rounds):\n",
    "        chunkSize = 1024*1024*10\n",
    "        base64Key = ipfs.genKey(cipherMode)\n",
    "        \n",
    "        # Encrypt file\n",
    "        filenameEncrypted = file + '.encrypted'\n",
    "        with open(file, 'rb') as fileOriginal:\n",
    "          with open(filenameEncrypted, 'wb') as fileEncrypted:\n",
    "            timestampEncryptWallStart = time.time()\n",
    "            timestampEncryptCpuStart = time.process_time()\n",
    "            for chunk in ipfs.encrypt(fileOriginal, base64Key, chunkSize, cipherMode):\n",
    "              fileEncrypted.write(chunk)\n",
    "            timestampEncryptCpuStop = time.process_time()\n",
    "            timestampEncryptWallStop = time.time()\n",
    "            timestampEncryptCpuDuration = timestampEncryptCpuStop - timestampEncryptCpuStart\n",
    "            timestampEncryptWallDuration = timestampEncryptWallStop - timestampEncryptWallStart\n",
    "        \n",
    "        # Decrypt file\n",
    "        filenameDecrypted = file + '.decrypted'\n",
    "        with open(filenameEncrypted, 'rb') as fileEncrypted:\n",
    "          with open(filenameDecrypted, 'wb') as fileDecrypted:\n",
    "            timestampDecryptWallStart = time.time()\n",
    "            timestampDecryptCpuStart = time.process_time()\n",
    "            for chunk in ipfs.decrypt_from_file(fileEncrypted, base64Key, chunkSize, cipherMode):\n",
    "              fileDecrypted.write(chunk)\n",
    "            timestampDecryptCpuStop = time.process_time()\n",
    "            timestampDecryptWallStop = time.time()\n",
    "            timestampDecryptCpuDuration = timestampDecryptCpuStop - timestampDecryptCpuStart\n",
    "            timestampDecryptWallDuration = timestampDecryptWallStop - timestampDecryptWallStart\n",
    "      \n",
    "        # Compare decrypted file to original (hash has to be the same)\n",
    "        same = '?'\n",
    "        hashFileDecrypted = !sha256sum $filenameDecrypted|cut -d' ' -f1\n",
    "        hashFileDecrypted = hashFileDecrypted.nlstr.rstrip()\n",
    "        with open(file + '.sha256sum', 'r') as fileOriginalHash:\n",
    "          hashOriginal = fileOriginalHash.readlines()\n",
    "          hashOriginal = hashOriginal[0].rstrip()\n",
    "          if hashFileDecrypted == hashOriginal:\n",
    "            same = 'yes'\n",
    "          else:\n",
    "            same = 'no'\n",
    "            print('Warning: hash mismatch between original and decrypted (file: \\'' + file + '\\', cipher: ' + cipherMode + ')!')\n",
    "        \n",
    "        # Write results to .csv file and clean up test files / storage\n",
    "        results.write(file + delimiter + hashOriginal + delimiter + cipherMode + delimiter + str(round) + delimiter + str(timestampEncryptWallStart) + delimiter + str(timestampEncryptWallStop) + delimiter + str(timestampDecryptWallStart) + delimiter + str(timestampDecryptWallStop) + delimiter + str(timestampEncryptWallDuration) + delimiter + str(timestampDecryptWallDuration) + delimiter + str(timestampEncryptCpuDuration) + delimiter + str(timestampDecryptCpuDuration) + delimiter + str(timestampEncryptWallDuration + timestampDecryptWallDuration) + delimiter + str(timestampEncryptCpuDuration + timestampDecryptCpuDuration) + delimiter + same + '\\n')\n",
    "        !rm $filenameEncrypted $filenameDecrypted\n",
    "\n",
    "print('Done!')"
   ]
  },
  {
   "cell_type": "markdown",
   "id": "b38bd70d-4052-4803-8682-a324d0f216fe",
   "metadata": {
    "tags": []
   },
   "source": [
    "### Generate inter-notebook results\n",
    "This test will exchange the various test files between two JupyterLab instances using IPFS (and encryption/decryption) via the IPFS client Python module. We will launch a web server on a second JupyterLab instance that allows for automated testing (i.e. remote control of the second instance / IPFS peer node). Note that we also [have to join](./IPFS.ipynb#Join-the-IPFS-network) our IPFS nodes to the IPFS private network.\n",
    "**SECURITY WARNING:** Do not expose this web server directly to the Internet (i.e. use a secure network / tunnel / VPN)!"
   ]
  },
  {
   "cell_type": "markdown",
   "id": "9184d660-3080-4f9a-ba76-f853ddedf01f",
   "metadata": {},
   "source": [
    "#### Second JupyterLab instance (web server)"
   ]
  },
  {
   "cell_type": "code",
   "execution_count": null,
   "id": "686976da-2d47-4d2a-8dc9-335847fda5fd",
   "metadata": {},
   "outputs": [],
   "source": [
    "from http.server import BaseHTTPRequestHandler, HTTPServer\n",
    "from socket import getfqdn\n",
    "from os import getenv\n",
    "import jcipfsclient as ipfs\n",
    "import json as JSON\n",
    "import time\n",
    "\n",
    "address = '0.0.0.0'\n",
    "port = 4000\n",
    "\n",
    "# Local IPFS peer node address\n",
    "node = getenv('IPFS_NODE')\n",
    "nodeApiUrl = 'http://' + node + ':5001'\n",
    "\n",
    "# Web server endpoints\n",
    "class RequestHandler(BaseHTTPRequestHandler):\n",
    "  def do_GET(self):\n",
    "    self.send_response(200,)\n",
    "    self.send_header(\"Content-type\", \"application/json\")\n",
    "    self.end_headers()\n",
    "    if self.path == \"/\" or self.path == \"/hello\":\n",
    "      response = {'Hello': str(getfqdn())}\n",
    "    if self.path == \"/hash\":\n",
    "      hashFileDownloaded = !sha256sum testfile.download|cut -d' ' -f1\n",
    "      hashFileDownloaded = hashFileDownloaded.nlstr.rstrip()\n",
    "      response = {'hashFileDownloaded': hashFileDownloaded}\n",
    "    if self.path == \"/garbagecollect\":\n",
    "      !rm testfile.download\n",
    "      ipfs.collectGarbage(nodeApiUrl)\n",
    "      response = {'collectGarbage': 'complete'}\n",
    "    self.wfile.write(bytes(JSON.dumps(response), 'utf-8'))\n",
    "\n",
    "  def do_POST(self):\n",
    "    self.send_response(200)\n",
    "    self.send_header('Content-Type', 'application/json')\n",
    "    self.end_headers()\n",
    "    length = int(self.headers.get('Content-Length'))\n",
    "    body = self.rfile.read(length)\n",
    "    body = body.decode(\"utf-8\")\n",
    "    if self.path == \"/download\":\n",
    "      metadata = JSON.loads(body)\n",
    "      timestampDownloadWallStart = time.time()\n",
    "      ipfs.getFile(nodeApiUrl, metadata['cid'], 'testfile.download', metadata['base64Key'], int(metadata['chunkSize']), metadata['cipherMode'])\n",
    "      timestampDownloadWallStop = time.time()\n",
    "      timestampDownloadWallDuration = timestampDownloadWallStop - timestampDownloadWallStart\n",
    "      response = {'timestampDownloadWallStart': str(timestampDownloadWallStart), 'timestampDownloadWallStop': str(timestampDownloadWallStop), 'timestampDownloadWallDuration': str(timestampDownloadWallDuration)}\n",
    "    self.wfile.write(bytes(JSON.dumps(response), 'utf-8'))\n",
    "\n",
    "# Launch the web server\n",
    "server = HTTPServer((address, port), RequestHandler)\n",
    "print('Web server started at http://' + address + ':' + str(port))\n",
    "try:\n",
    "  server.serve_forever()\n",
    "except KeyboardInterrupt:\n",
    "  pass\n",
    "finally:\n",
    "  server.server_close()\n",
    "\n",
    "print('Web server stopped')"
   ]
  },
  {
   "cell_type": "markdown",
   "id": "d5ba7f57-73b1-4058-8462-78799bb25fb4",
   "metadata": {},
   "source": [
    "#### First JupyterLab instance (test)"
   ]
  },
  {
   "cell_type": "code",
   "execution_count": null,
   "id": "d5cb6572-354f-4d65-97ff-8bb9eb250d6b",
   "metadata": {},
   "outputs": [],
   "source": [
    "import jcipfsclient as ipfs\n",
    "import time\n",
    "from os import getenv\n",
    "import requests\n",
    "\n",
    "# Test configuration\n",
    "files = ['testfile_1_MiB.bin','testfile_10_MiB.bin','testfile_100_MiB.bin','testfile_500_MiB.bin']\n",
    "ciphers = ['plain','ChaCha20','Salsa20','AES_256_CTR']\n",
    "rounds = 10\n",
    "remoteHostUrl = 'http://notebook.jupyter-2.localhost:4000'\n",
    "\n",
    "# Local IPFS peer node address\n",
    "ipfsnode = getenv('IPFS_NODE')\n",
    "nodeApiUrl = 'http://' + ipfsnode + ':5001'\n",
    "\n",
    "print('Processing IPFS file sharing...')\n",
    "\n",
    "with open('inter_notebook_file_sharing_duration_results.csv', 'w') as results:\n",
    "  # .csv header\n",
    "  delimiter = ';'\n",
    "  results.write('File;SHA256;Cipher;Round;Time_Upload_Wall_Start;Time_Upload_Wall_Stop;Time_Download_Wall_Start;Time_Download_Wall_Stop;Time_Upload_Duration_Wall;Time_Download_Duration_Wall;Time_Total_Duration_Wall;Match\\n')\n",
    "  \n",
    "  # Run the test\n",
    "  for cipherMode in ciphers:\n",
    "    for file in files:\n",
    "      for round in range(0, rounds):\n",
    "        chunkSize = 1024*3\n",
    "        \n",
    "        # Upload (and encrypt) file to local IPFS node\n",
    "        timestampUploadWallStart = time.time()\n",
    "        metadata = ipfs.addFile(nodeApiUrl=nodeApiUrl, file=file, base64Key=None, chunkSize=chunkSize, cipherMode=cipherMode)\n",
    "        timestampUploadWallStop = time.time()\n",
    "      \n",
    "        # Instruct remote host to download (and decrypt) file from private IPFS network\n",
    "        response = requests.post(remoteHostUrl + '/download', json = metadata, timeout=None)\n",
    "        response = response.json()\n",
    "        timestampDownloadWallStart = response['timestampDownloadWallStart']\n",
    "        timestampDownloadWallStop = response['timestampDownloadWallStop']\n",
    "        timestampDownloadWallDuration = response['timestampDownloadWallDuration']\n",
    "        \n",
    "        # Compare downloaded (plaintext) file to original (hash has to be the same)\n",
    "        same = '?'\n",
    "        response = requests.get(remoteHostUrl + '/hash', timeout=None)\n",
    "        response = response.json()\n",
    "        hashFileDownloaded = response['hashFileDownloaded']\n",
    "        with open(file + '.sha256sum', 'r') as fileOriginalHash:\n",
    "          hashOriginal = fileOriginalHash.readlines()\n",
    "          hashOriginal = hashOriginal[0].rstrip()\n",
    "          if hashFileDownloaded == hashOriginal:\n",
    "            same = 'yes'\n",
    "          else:\n",
    "            same = 'no'\n",
    "            print('Warning: hash mismatch between original and downloaded (file: \\'' + file + '\\', cipher: ' + cipherMode + ')!')\n",
    "        \n",
    "        # Write results to .csv file and clean up test files / storage\n",
    "        results.write(file + delimiter + hashOriginal + delimiter + cipherMode + delimiter + str(round) + delimiter + str(timestampUploadWallStart) + delimiter + str(timestampUploadWallStop) + delimiter + timestampDownloadWallStart + delimiter + timestampDownloadWallStop  + delimiter + str(timestampUploadWallStop - timestampUploadWallStart) + delimiter + timestampDownloadWallDuration + delimiter + str(float(timestampUploadWallStop - timestampUploadWallStart) + float(timestampDownloadWallDuration)) + delimiter + same + '\\n')\n",
    "        ipfs.rmPin(nodeApiUrl, metadata['cid'])\n",
    "        ipfs.collectGarbage(nodeApiUrl)\n",
    "        requests.get(remoteHostUrl + '/garbagecollect', timeout=None)\n",
    "\n",
    "print('Done!')"
   ]
  },
  {
   "cell_type": "markdown",
   "id": "2ac16e6d-122a-4e5b-a17b-215e466fe50b",
   "metadata": {},
   "source": [
    "### Generate plots from generated .csv files\n",
    "We will use the pandas, matplotlib, and ipywidgets Python libraries to visualize our measurements (all are pre-installed in our JupyterLab Docker image). The plots will be saved as .svg files."
   ]
  },
  {
   "cell_type": "code",
   "execution_count": null,
   "id": "f013b853-2189-4a82-821b-41acd968425e",
   "metadata": {},
   "outputs": [],
   "source": [
    "import pandas as pd\n",
    "import matplotlib.pyplot as plt\n",
    "import ipywidgets as widget\n",
    "!mkdir plots\n",
    "\n",
    "# Read results\n",
    "crypto = pd.read_csv('baseline_crypto_duration_results.csv', sep=';')\n",
    "ipfs = pd.read_csv('inter_notebook_file_sharing_duration_results.csv', sep=';')\n",
    "\n",
    "# Configure boxplot\n",
    "x_label_order_file = ['testfile_1_MiB.bin','testfile_10_MiB.bin','testfile_100_MiB.bin','testfile_500_MiB.bin', 'testfile_1_GiB.bin']\n",
    "x_label_order_cipher = ['plain','ChaCha20','Salsa20','AES_256_CTR']\n",
    "figsizeFile = (11,4)\n",
    "figsizeCipher = (8,4)\n",
    "config = {\n",
    "  'x_label_order': x_label_order_cipher,\n",
    "  'fontsize': 12,\n",
    "  'figsize': figsizeCipher,\n",
    "  'grid': False,\n",
    "  'boxprops': {\n",
    "    \"linestyle\": \"-\",\n",
    "    \"linewidth\": \"1\",\n",
    "    \"color\":\"black\"\n",
    "  },\n",
    "  'whiskerprops': {\n",
    "    \"linestyle\": \"-\",\n",
    "    \"linewidth\": \"1\",\n",
    "    \"color\":\"black\"\n",
    "  },\n",
    "  'medianprops': {\n",
    "    \"linestyle\": \"--\",\n",
    "    \"linewidth\": \"1\",\n",
    "    \"color\":\"black\"\n",
    "  },\n",
    "  'capprops': {\n",
    "    \"linestyle\": \"-\",\n",
    "    \"linewidth\": \"1\",\n",
    "    \"color\":\"black\"\n",
    "  },\n",
    "  'flierprops': {\n",
    "    \"linestyle\": \"-\",\n",
    "    \"linewidth\": \"1\",\n",
    "    \"color\":\"black\"\n",
    "  }\n",
    "}\n",
    "\n",
    "# Plot <column> per file\n",
    "def create_boxplots_file(testname, df, column, config):\n",
    "  print(testname + ': ' + column)\n",
    "  outputs = []\n",
    "  #max = df[column].max() * 1.05\n",
    "  output = widget.Output(layout={'margin': '12px'})\n",
    "  with output:\n",
    "    df['File'] = pd.Categorical(df['File'], config['x_label_order'])\n",
    "    plot = df.boxplot(column=column, by='File', grid=config['grid'], fontsize=config['fontsize'], figsize=config['figsize'], boxprops=config['boxprops'], whiskerprops=config['whiskerprops'], medianprops=config['medianprops'], capprops=config['capprops'], flierprops=config['flierprops'])\n",
    "    plot.set_title('')\n",
    "    plot.get_figure().suptitle('')\n",
    "    plot.set_xlabel('File', fontsize=config['fontsize'])\n",
    "    plot.set_ylabel('Total Duration (sec)', fontsize=config['fontsize'])\n",
    "    plot.set_ylim(ymin=0)\n",
    "    plot.get_figure().savefig('./plots/' + str(testname) + '-' + column + '.svg')\n",
    "    plt.show()\n",
    "  outputs.append(output)\n",
    "  return outputs\n",
    "\n",
    "# Plot <column> per cipher per file\n",
    "def create_boxplots_cipher(testname, df, column, config):\n",
    "  print(testname + ': ' + column)\n",
    "  outputs = []\n",
    "  #max = df[column].max() * 1.05\n",
    "  for file in df['File'].groupby(df['File']).unique():\n",
    "    output = widget.Output(layout={'margin': '12px'})\n",
    "    with output:\n",
    "      df['Cipher'] = pd.Categorical(df['Cipher'], config['x_label_order'])\n",
    "      plot = df.loc[df['File'] == str(file[0])][['Cipher', column]].boxplot(column=column, by='Cipher', grid=config['grid'], fontsize=config['fontsize'], figsize=config['figsize'], boxprops=config['boxprops'], whiskerprops=config['whiskerprops'], medianprops=config['medianprops'], capprops=config['capprops'], flierprops=config['flierprops'])\n",
    "      plot.set_title(str(file[0]), fontsize=config['fontsize'])\n",
    "      plot.get_figure().suptitle('')\n",
    "      plot.set_xlabel('Cipher', fontsize=config['fontsize'])\n",
    "      plot.set_ylabel('Total Duration (sec)', fontsize=config['fontsize'])\n",
    "      plot.set_ylim(ymin=0)\n",
    "      plot.get_figure().savefig('./plots/' + str(testname) + '-' + column + '-' + str(file[0]) + '.svg')\n",
    "      plt.show()\n",
    "    outputs.append(output)\n",
    "  return outputs\n",
    "\n",
    "#crypto.head()\n",
    "#ipfs.head()"
   ]
  },
  {
   "cell_type": "markdown",
   "id": "3dfba946-3a46-4848-a2e7-8b0e38e67dfc",
   "metadata": {
    "tags": []
   },
   "source": [
    "#### Plot baseline crypto results per file"
   ]
  },
  {
   "cell_type": "code",
   "execution_count": null,
   "id": "a9e35cb0-1e2d-4912-a260-e14ff23b4ef6",
   "metadata": {},
   "outputs": [],
   "source": [
    "# Plot Time_Total_Duration_Wall\n",
    "config['figsize'] = figsizeFile\n",
    "config['x_label_order'] = x_label_order_file\n",
    "widget.HBox(create_boxplots_file('crypto-file', crypto, 'Time_Total_Duration_Wall', config), layout=widget.Layout(flex_flow='row wrap'))"
   ]
  },
  {
   "cell_type": "code",
   "execution_count": null,
   "id": "b8b15514-65c3-4aa1-acee-e29e5bc580f3",
   "metadata": {},
   "outputs": [],
   "source": [
    "# Plot Time_Total_Duration_Cpu\n",
    "widget.HBox(create_boxplots_file('crypto-file', crypto, 'Time_Total_Duration_Cpu', config), layout=widget.Layout(flex_flow='row wrap'))"
   ]
  },
  {
   "cell_type": "code",
   "execution_count": null,
   "id": "5eb0f668-90c7-4d81-a516-012fa0e8bb44",
   "metadata": {},
   "outputs": [],
   "source": [
    "# Plot Time_Encrypt_Duration_Wall\n",
    "widget.HBox(create_boxplots_file('crypto-file', crypto, 'Time_Encrypt_Duration_Wall', config), layout=widget.Layout(flex_flow='row wrap'))"
   ]
  },
  {
   "cell_type": "code",
   "execution_count": null,
   "id": "d949d739-856d-45db-a53d-2a49484aa733",
   "metadata": {},
   "outputs": [],
   "source": [
    "# Plot Time_Encrypt_Duration_Cpu\n",
    "widget.HBox(create_boxplots_file('crypto-file', crypto, 'Time_Encrypt_Duration_Cpu', config), layout=widget.Layout(flex_flow='row wrap'))"
   ]
  },
  {
   "cell_type": "code",
   "execution_count": null,
   "id": "c94c7c7d-e9f4-4a70-afe0-a3db062966b3",
   "metadata": {},
   "outputs": [],
   "source": [
    "# Plot Time_Decrypt_Duration_Wall\n",
    "widget.HBox(create_boxplots_file('crypto-file', crypto, 'Time_Decrypt_Duration_Wall', config), layout=widget.Layout(flex_flow='row wrap'))"
   ]
  },
  {
   "cell_type": "code",
   "execution_count": null,
   "id": "c161059d-4c4e-402b-820f-5e827ba0fb9d",
   "metadata": {},
   "outputs": [],
   "source": [
    "# Plot Time_Decrypt_Duration_Cpu\n",
    "widget.HBox(create_boxplots_file('crypto-file', crypto, 'Time_Decrypt_Duration_Cpu', config), layout=widget.Layout(flex_flow='row wrap'))"
   ]
  },
  {
   "cell_type": "markdown",
   "id": "2dafcaca-d990-4601-baa0-3115aec8d94d",
   "metadata": {},
   "source": [
    "#### Plot baseline crypto results per cipher"
   ]
  },
  {
   "cell_type": "code",
   "execution_count": null,
   "id": "e2b9e522-3afe-4bdc-bf21-315bb56470ed",
   "metadata": {},
   "outputs": [],
   "source": [
    "# Plot Time_Total_Duration_Wall\n",
    "config['figsize'] = figsizeCipher\n",
    "config['x_label_order'] = x_label_order_cipher\n",
    "widget.HBox(create_boxplots_cipher('crypto-cipher', crypto, 'Time_Total_Duration_Wall', config), layout=widget.Layout(flex_flow='row wrap'))"
   ]
  },
  {
   "cell_type": "code",
   "execution_count": null,
   "id": "8951c0fe-8a1b-4219-9899-5561e34d2597",
   "metadata": {},
   "outputs": [],
   "source": [
    "# Plot Time_Total_Duration_Cpu\n",
    "widget.HBox(create_boxplots_cipher('crypto-cipher', crypto, 'Time_Total_Duration_Cpu', config), layout=widget.Layout(flex_flow='row wrap'))"
   ]
  },
  {
   "cell_type": "code",
   "execution_count": null,
   "id": "0ecef129-047d-4f0a-951b-5e75985da4f4",
   "metadata": {},
   "outputs": [],
   "source": [
    "# Plot Time_Encrypt_Duration_Wall\n",
    "widget.HBox(create_boxplots_cipher('crypto-cipher', crypto, 'Time_Encrypt_Duration_Wall', config), layout=widget.Layout(flex_flow='row wrap'))"
   ]
  },
  {
   "cell_type": "code",
   "execution_count": null,
   "id": "8eabb5ae-89c6-4c98-b320-1cf8213963a7",
   "metadata": {},
   "outputs": [],
   "source": [
    "# Plot Time_Encrypt_Duration_Cpu\n",
    "widget.HBox(create_boxplots_cipher('crypto-cipher', crypto, 'Time_Encrypt_Duration_Cpu', config), layout=widget.Layout(flex_flow='row wrap'))"
   ]
  },
  {
   "cell_type": "code",
   "execution_count": null,
   "id": "ceef8bb0-50c0-4ed1-b79d-726e44a154ff",
   "metadata": {},
   "outputs": [],
   "source": [
    "# Plot Time_Decrypt_Duration_Wall\n",
    "widget.HBox(create_boxplots_cipher('crypto-cipher', crypto, 'Time_Decrypt_Duration_Wall', config), layout=widget.Layout(flex_flow='row wrap'))"
   ]
  },
  {
   "cell_type": "code",
   "execution_count": null,
   "id": "6d508dc7-a1b1-4545-92ab-70b62bba803a",
   "metadata": {},
   "outputs": [],
   "source": [
    "# Plot Time_Decrypt_Duration_Cpu\n",
    "widget.HBox(create_boxplots_cipher('crypto-cipher', crypto, 'Time_Decrypt_Duration_Cpu', config), layout=widget.Layout(flex_flow='row wrap'))"
   ]
  },
  {
   "cell_type": "markdown",
   "id": "fd93e955-9b13-4138-9f25-83f1859b6d91",
   "metadata": {
    "tags": []
   },
   "source": [
    "#### Plot IPFS file sharing results per file"
   ]
  },
  {
   "cell_type": "code",
   "execution_count": null,
   "id": "870cbd94-8871-4d55-a02d-db70567b887c",
   "metadata": {},
   "outputs": [],
   "source": [
    "# Plot Time_Total_Duration_Wall\n",
    "config['figsize'] = figsizeFile\n",
    "config['x_label_order'] = x_label_order_file\n",
    "widget.HBox(create_boxplots_file('ipfs-file', ipfs, 'Time_Total_Duration_Wall', config), layout=widget.Layout(flex_flow='row wrap'))"
   ]
  },
  {
   "cell_type": "code",
   "execution_count": null,
   "id": "29650598-25ad-46eb-ac0a-974d2712a1e7",
   "metadata": {},
   "outputs": [],
   "source": [
    "# Plot Time_Upload_Duration_Wall\n",
    "widget.HBox(create_boxplots_file('ipfs-file', ipfs, 'Time_Upload_Duration_Wall', config), layout=widget.Layout(flex_flow='row wrap'))"
   ]
  },
  {
   "cell_type": "code",
   "execution_count": null,
   "id": "a46dc753-a601-4816-9310-c4957b915109",
   "metadata": {},
   "outputs": [],
   "source": [
    "# Plot Time_Download_Duration_Wall\n",
    "widget.HBox(create_boxplots_file('ipfs-file', ipfs, 'Time_Download_Duration_Wall', config), layout=widget.Layout(flex_flow='row wrap'))"
   ]
  },
  {
   "cell_type": "markdown",
   "id": "844dbf4d-b106-417a-9fce-f6c1df0fb996",
   "metadata": {},
   "source": [
    "#### Plot IPFS file sharing results per cipher"
   ]
  },
  {
   "cell_type": "code",
   "execution_count": null,
   "id": "45aa6440-2e8c-40ef-9fce-218067b12033",
   "metadata": {},
   "outputs": [],
   "source": [
    "# Plot Time_Total_Duration_Wall\n",
    "config['figsize'] = figsizeCipher\n",
    "config['x_label_order'] = x_label_order_cipher\n",
    "widget.HBox(create_boxplots_cipher('ipfs-cipher', ipfs, 'Time_Total_Duration_Wall', config), layout=widget.Layout(flex_flow='row wrap'))"
   ]
  },
  {
   "cell_type": "code",
   "execution_count": null,
   "id": "db580b83-eb19-40c9-aa3e-b68d5ed4ce6b",
   "metadata": {},
   "outputs": [],
   "source": [
    "# Plot Time_Upload_Duration_Wall\n",
    "widget.HBox(create_boxplots_cipher('ipfs-cipher', ipfs, 'Time_Upload_Duration_Wall', config), layout=widget.Layout(flex_flow='row wrap'))"
   ]
  },
  {
   "cell_type": "code",
   "execution_count": null,
   "id": "8cb593a4-0c88-43ad-8431-baa932d4d136",
   "metadata": {},
   "outputs": [],
   "source": [
    "# Plot Time_Download_Duration_Wall\n",
    "widget.HBox(create_boxplots_cipher('ipfs-cipher', ipfs, 'Time_Download_Duration_Wall', config), layout=widget.Layout(flex_flow='row wrap'))"
   ]
  },
  {
   "cell_type": "code",
   "execution_count": null,
   "id": "dd947d7f-9dae-4507-aeb2-d4b6388fd1c5",
   "metadata": {},
   "outputs": [],
   "source": []
  }
 ],
 "metadata": {
  "kernelspec": {
   "display_name": "Python 3 (ipykernel)",
   "language": "python",
   "name": "python3"
  },
  "language_info": {
   "codemirror_mode": {
    "name": "ipython",
    "version": 3
   },
   "file_extension": ".py",
   "mimetype": "text/x-python",
   "name": "python",
   "nbconvert_exporter": "python",
   "pygments_lexer": "ipython3",
   "version": "3.10.5"
  }
 },
 "nbformat": 4,
 "nbformat_minor": 5
}
