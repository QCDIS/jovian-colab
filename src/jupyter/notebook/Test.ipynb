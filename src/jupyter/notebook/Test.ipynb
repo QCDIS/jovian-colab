{
 "cells": [
  {
   "cell_type": "markdown",
   "source": [
    "# Behavior Tests\n",
    "This notebook is used to test the behavior (not the performance) of the prototype. I.e. we are interested in the user's experience. We use the following tests:\n",
    "  * iperf3 to determine the SSH's tunnel link's speed (VM to VM);\n",
    "  * iperf3 to determine the Docker's virtual network link's speed (container to container on the same VM);\n",
    "  * netcat to determine a baseline for file sharing between VMs (via the SSH tunnel);\n",
    "  * a baseline of our crypto implementation (i.e. just the crypto, without transfering the test files);\n",
    "  * file sharing via IPFS on the same VM (node to node);\n",
    "  * file sharing via IPFS using two VMs (node to node);\n",
    "  * and file sharing via IPFS using two VMs via a (v1/Bitswap) relay.\n",
    "\n",
    "We store the results in .csv files, which we will then plot."
   ],
   "metadata": {}
  },
  {
   "cell_type": "markdown",
   "source": [
    "## Generate test files containing random data"
   ],
   "metadata": {
    "tags": []
   }
  },
  {
   "cell_type": "code",
   "execution_count": 72,
   "source": [
    "print('Generating...')\n",
    "!head -c 1048576 </dev/urandom >testfile_1_MiB.bin\n",
    "!head -c 10485760 </dev/urandom >testfile_10_MiB.bin\n",
    "!head -c 104857600 </dev/urandom >testfile_100_MiB.bin\n",
    "!head -c 524288000 </dev/urandom >testfile_500_MiB.bin\n",
    "!head -c 1073741824 </dev/urandom >testfile_1_GiB.bin\n",
    "#!head -c 5368709120 </dev/urandom >testfile_5_GiB.bin\n",
    "!sha256sum testfile_1_MiB.bin|cut -d' ' -f1 > testfile_1_MiB.bin.sha256sum\n",
    "!sha256sum testfile_10_MiB.bin|cut -d' ' -f1 > testfile_10_MiB.bin.sha256sum\n",
    "!sha256sum testfile_100_MiB.bin|cut -d' ' -f1 > testfile_100_MiB.bin.sha256sum\n",
    "!sha256sum testfile_500_MiB.bin|cut -d' ' -f1 > testfile_500_MiB.bin.sha256sum\n",
    "!sha256sum testfile_1_GiB.bin|cut -d' ' -f1 > testfile_1_GiB.bin.sha256sum\n",
    "#!sha256sum testfile_5_GiB.bin|cut -d' ' -f1 > testfile_5_GiB.bin.sha256sum\n",
    "print('Done!')"
   ],
   "outputs": [
    {
     "output_type": "stream",
     "name": "stdout",
     "text": [
      "Generating...\n",
      "Done!\n"
     ]
    }
   ],
   "metadata": {}
  },
  {
   "cell_type": "markdown",
   "source": [
    "## Obtain the link speed"
   ],
   "metadata": {}
  },
  {
   "cell_type": "markdown",
   "source": [
    "### SSH tunnel\n",
    "We can obtain an SSH tunnel's link speed as follows:\n",
    "```\n",
    "(run this command from the VM itself, so not from within this JupyterLab container)\n",
    "ssh <user>@<dockerhost> -L 127.0.0.1:4444:127.0.0.1:4444 \"iperf3 -s -B 127.0.0.1 -p 4444\"\n",
    "(launch a new terminal window)\n",
    "iperf3 -c 127.0.0.1 -p 4444\n",
    "```"
   ],
   "metadata": {}
  },
  {
   "cell_type": "markdown",
   "source": [
    "### Docker virtual network\n",
    "We can obtain the link speed between two containers on the same VM as follows:\n",
    "```\n",
    "(run this command from the VM itself, so not from within this JupyterLab container)\n",
    "docker run -it --name iperfserver --rm --network jovian-colab_demo-net alpine sh -c \"apk add iperf3 && iperf3 -s -B 0.0.0.0 -p 4444\"\n",
    "(launch a new terminal window)\n",
    "docker run -it --name iperfclient --rm --network jovian-colab_demo-net alpine sh -c \"apk add iperf3 && iperf3 -c iperfserver -p 4444\"\n",
    "```"
   ],
   "metadata": {}
  },
  {
   "cell_type": "markdown",
   "source": [
    "## Generate netcat results\n",
    "Using the generated test files above (which are available on our VM via a bind mount), we can measure the transfer time via netcat (over an SSH tunnel) using our script:\n",
    "```\n",
    "(run this command from the VM itself, so not from within this JupyterLab container)\n",
    "./baseline_nc.sh VM-B 127.0.0.1 4444\n",
    "```\n",
    "Either copy the test files to the script's directory (*'./src/ipfs'*) or vice versa. Note that the script creates multiple SSH connections, so make sure credentials are set up correctly (i.e. public-key authentication is configured in ~/.ssh/config). One the script it finished, copy/move the resulted .csv file to this JupyterLab container."
   ],
   "metadata": {}
  },
  {
   "cell_type": "markdown",
   "source": [
    "## Generate baseline crypto results\n",
    "This test will encrypt/decrypt the various test files using multiple ciphers via the IPFS client Python module. This gives us a baseline to compare the IPFS results against."
   ],
   "metadata": {
    "tags": []
   }
  },
  {
   "cell_type": "code",
   "execution_count": 73,
   "source": [
    "import jcipfsclient as ipfs\n",
    "import time\n",
    "\n",
    "# Test configuration\n",
    "files = ['testfile_1_MiB.bin','testfile_10_MiB.bin','testfile_100_MiB.bin','testfile_500_MiB.bin','testfile_1_GiB.bin']\n",
    "ciphers = ['plain','ChaCha20','Salsa20','AES_256_CTR']\n",
    "rounds = 20\n",
    "\n",
    "print('Processing crypto baseline...')\n",
    "\n",
    "with open('baseline_crypto_duration_results.csv', 'w') as results:\n",
    "  # .csv header\n",
    "  delimiter = ';'\n",
    "  results.write('File;SHA256;Cipher;Round;Time_Encrypt_Wall_Start;Time_Encrypt_Wall_Stop;Time_Decrypt_Wall_Start;Time_Decrypt_Wall_Stop;Time_Encrypt_Duration_Wall;Time_Decrypt_Duration_Wall;Time_Encrypt_Duration_Cpu;Time_Decrypt_Duration_Cpu;Time_Total_Duration_Wall;Time_Total_Duration_Cpu;Match\\n')\n",
    "\n",
    "  # Run the test\n",
    "  for cipherMode in ciphers:\n",
    "    for file in files:\n",
    "      for round in range(0, rounds):\n",
    "        chunkSize = 1024*1024*10\n",
    "        base64Key = ipfs.genKey(cipherMode)\n",
    "        \n",
    "        # Encrypt file\n",
    "        filenameEncrypted = file + '.encrypted'\n",
    "        with open(file, 'rb') as fileOriginal:\n",
    "          with open(filenameEncrypted, 'wb') as fileEncrypted:\n",
    "            timestampEncryptWallStart = time.time()\n",
    "            timestampEncryptCpuStart = time.process_time()\n",
    "            for chunk in ipfs.encrypt(fileOriginal, base64Key, chunkSize, cipherMode):\n",
    "              fileEncrypted.write(chunk)\n",
    "            timestampEncryptCpuStop = time.process_time()\n",
    "            timestampEncryptWallStop = time.time()\n",
    "            timestampEncryptCpuDuration = timestampEncryptCpuStop - timestampEncryptCpuStart\n",
    "            timestampEncryptWallDuration = timestampEncryptWallStop - timestampEncryptWallStart\n",
    "        \n",
    "        # Decrypt file\n",
    "        filenameDecrypted = file + '.decrypted'\n",
    "        with open(filenameEncrypted, 'rb') as fileEncrypted:\n",
    "          with open(filenameDecrypted, 'wb') as fileDecrypted:\n",
    "            timestampDecryptWallStart = time.time()\n",
    "            timestampDecryptCpuStart = time.process_time()\n",
    "            for chunk in ipfs.decrypt_from_file(fileEncrypted, base64Key, chunkSize, cipherMode):\n",
    "              fileDecrypted.write(chunk)\n",
    "            timestampDecryptCpuStop = time.process_time()\n",
    "            timestampDecryptWallStop = time.time()\n",
    "            timestampDecryptCpuDuration = timestampDecryptCpuStop - timestampDecryptCpuStart\n",
    "            timestampDecryptWallDuration = timestampDecryptWallStop - timestampDecryptWallStart\n",
    "      \n",
    "        # Compare decrypted file to original (hash has to be the same)\n",
    "        same = '?'\n",
    "        hashFileDecrypted = !sha256sum $filenameDecrypted|cut -d' ' -f1\n",
    "        hashFileDecrypted = hashFileDecrypted.nlstr.rstrip()\n",
    "        with open(file + '.sha256sum', 'r') as fileOriginalHash:\n",
    "          hashOriginal = fileOriginalHash.readlines()\n",
    "          hashOriginal = hashOriginal[0].rstrip()\n",
    "          if hashFileDecrypted == hashOriginal:\n",
    "            same = 'yes'\n",
    "          else:\n",
    "            same = 'no'\n",
    "            print('Warning: hash mismatch between original and decrypted (file: \\'' + file + '\\', cipher: ' + cipherMode + ')!')\n",
    "        \n",
    "        # Write results to .csv file and clean up test files / storage\n",
    "        results.write(file + delimiter + hashOriginal + delimiter + cipherMode + delimiter + str(round) + delimiter + str(timestampEncryptWallStart) + delimiter + str(timestampEncryptWallStop) + delimiter + str(timestampDecryptWallStart) + delimiter + str(timestampDecryptWallStop) + delimiter + str(timestampEncryptWallDuration) + delimiter + str(timestampDecryptWallDuration) + delimiter + str(timestampEncryptCpuDuration) + delimiter + str(timestampDecryptCpuDuration) + delimiter + str(timestampEncryptWallDuration + timestampDecryptWallDuration) + delimiter + str(timestampEncryptCpuDuration + timestampDecryptCpuDuration) + delimiter + same + '\\n')\n",
    "        !rm $filenameEncrypted $filenameDecrypted\n",
    "\n",
    "print('Done!')"
   ],
   "outputs": [
    {
     "output_type": "stream",
     "name": "stdout",
     "text": [
      "Processing crypto baseline...\n",
      "Done!\n"
     ]
    }
   ],
   "metadata": {}
  },
  {
   "cell_type": "markdown",
   "source": [
    "## Generate inter-notebook results\n",
    "This test will exchange the various test files between two JupyterLab instances using IPFS (and encryption/decryption) via the IPFS client Python module. We will launch a web server on a second JupyterLab instance that allows for automated testing (i.e. remote control of the second instance / IPFS peer node). Note that we first [have to join](./IPFS.ipynb#Join-the-IPFS-network) our IPFS nodes to the same IPFS private network.\n",
    "**SECURITY WARNING:** Do not expose this web server directly to the Internet (i.e. use a secure network / tunnel / VPN)!"
   ],
   "metadata": {
    "tags": []
   }
  },
  {
   "cell_type": "markdown",
   "source": [
    "### Second JupyterLab instance (web server)"
   ],
   "metadata": {}
  },
  {
   "cell_type": "code",
   "execution_count": null,
   "source": [
    "from http.server import BaseHTTPRequestHandler, HTTPServer\n",
    "from socket import getfqdn\n",
    "from os import getenv\n",
    "import jcipfsclient as ipfs\n",
    "import json as JSON\n",
    "import time\n",
    "\n",
    "address = '0.0.0.0'\n",
    "port = 4000\n",
    "\n",
    "# Local IPFS peer node address\n",
    "node = getenv('IPFS_NODE')\n",
    "nodeApiUrl = 'http://' + node + ':5001'\n",
    "\n",
    "# Web server endpoints\n",
    "class RequestHandler(BaseHTTPRequestHandler):\n",
    "  def do_GET(self):\n",
    "    self.send_response(200,)\n",
    "    self.send_header(\"Content-type\", \"application/json\")\n",
    "    self.end_headers()\n",
    "    if self.path == \"/\" or self.path == \"/hello\":\n",
    "      response = {'Hello': str(getfqdn())}\n",
    "    if self.path == \"/hash\":\n",
    "      hashFileDownloaded = !sha256sum testfile.download|cut -d' ' -f1\n",
    "      hashFileDownloaded = hashFileDownloaded.nlstr.rstrip()\n",
    "      response = {'hashFileDownloaded': hashFileDownloaded}\n",
    "    if self.path == \"/garbagecollect\":\n",
    "      !rm testfile.download\n",
    "      ipfs.collectGarbage(nodeApiUrl)\n",
    "      response = {'collectGarbage': 'complete'}\n",
    "    self.wfile.write(bytes(JSON.dumps(response), 'utf-8'))\n",
    "\n",
    "  def do_POST(self):\n",
    "    self.send_response(200)\n",
    "    self.send_header('Content-Type', 'application/json')\n",
    "    self.end_headers()\n",
    "    length = int(self.headers.get('Content-Length'))\n",
    "    body = self.rfile.read(length)\n",
    "    body = body.decode(\"utf-8\")\n",
    "    if self.path == \"/download\":\n",
    "      metadata = JSON.loads(body)\n",
    "      timestampDownloadWallStart = time.time()\n",
    "      ipfs.getFile(nodeApiUrl, metadata['cid'], 'testfile.download', metadata['base64Key'], int(metadata['chunkSize']), metadata['cipherMode'])\n",
    "      timestampDownloadWallStop = time.time()\n",
    "      timestampDownloadWallDuration = timestampDownloadWallStop - timestampDownloadWallStart\n",
    "      response = {'timestampDownloadWallStart': str(timestampDownloadWallStart), 'timestampDownloadWallStop': str(timestampDownloadWallStop), 'timestampDownloadWallDuration': str(timestampDownloadWallDuration)}\n",
    "    self.wfile.write(bytes(JSON.dumps(response), 'utf-8'))\n",
    "\n",
    "# Launch the web server\n",
    "server = HTTPServer((address, port), RequestHandler)\n",
    "print('Web server started at http://' + address + ':' + str(port))\n",
    "try:\n",
    "  server.serve_forever()\n",
    "except KeyboardInterrupt:\n",
    "  pass\n",
    "finally:\n",
    "  server.server_close()\n",
    "\n",
    "print('Web server stopped')"
   ],
   "outputs": [],
   "metadata": {}
  },
  {
   "cell_type": "markdown",
   "source": [
    "### First JupyterLab instance (test)"
   ],
   "metadata": {}
  },
  {
   "cell_type": "code",
   "execution_count": null,
   "source": [
    "import jcipfsclient as ipfs\n",
    "import time\n",
    "from os import getenv\n",
    "import requests\n",
    "\n",
    "# Test configuration\n",
    "files = ['testfile_1_MiB.bin','testfile_10_MiB.bin','testfile_100_MiB.bin','testfile_500_MiB.bin','testfile_1_GiB.bin']\n",
    "ciphers = ['plain','ChaCha20','Salsa20','AES_256_CTR']\n",
    "rounds = 20\n",
    "remoteHostUrl = 'http://notebook.jupyter-ext.localhost:4000'\n",
    "\n",
    "# Local IPFS peer node address\n",
    "ipfsnode = getenv('IPFS_NODE')\n",
    "nodeApiUrl = 'http://' + ipfsnode + ':5001'\n",
    "\n",
    "print('Processing IPFS file sharing...')\n",
    "\n",
    "with open('inter_notebook_file_sharing_duration_results.csv', 'w') as results:\n",
    "  # .csv header\n",
    "  delimiter = ';'\n",
    "  results.write('File;SHA256;Cipher;Round;Time_Upload_Wall_Start;Time_Upload_Wall_Stop;Time_Download_Wall_Start;Time_Download_Wall_Stop;Time_Upload_Duration_Wall;Time_Download_Duration_Wall;Time_Total_Duration_Wall;Match\\n')\n",
    "  \n",
    "  # Run the test\n",
    "  for cipherMode in ciphers:\n",
    "    for file in files:\n",
    "      for round in range(0, rounds):\n",
    "        chunkSize = 1024*3\n",
    "        \n",
    "        # Upload (and encrypt) file to local IPFS node\n",
    "        timestampUploadWallStart = time.time()\n",
    "        metadata = ipfs.addFile(nodeApiUrl=nodeApiUrl, file=file, base64Key=None, chunkSize=chunkSize, cipherMode=cipherMode)\n",
    "        timestampUploadWallStop = time.time()\n",
    "      \n",
    "        # Instruct remote host to download (and decrypt) file from private IPFS network\n",
    "        response = requests.post(remoteHostUrl + '/download', json = metadata, timeout=None)\n",
    "        response = response.json()\n",
    "        timestampDownloadWallStart = response['timestampDownloadWallStart']\n",
    "        timestampDownloadWallStop = response['timestampDownloadWallStop']\n",
    "        timestampDownloadWallDuration = response['timestampDownloadWallDuration']\n",
    "        \n",
    "        # Compare downloaded (plaintext) file to original (hash has to be the same)\n",
    "        same = '?'\n",
    "        response = requests.get(remoteHostUrl + '/hash', timeout=None)\n",
    "        response = response.json()\n",
    "        hashFileDownloaded = response['hashFileDownloaded']\n",
    "        with open(file + '.sha256sum', 'r') as fileOriginalHash:\n",
    "          hashOriginal = fileOriginalHash.readlines()\n",
    "          hashOriginal = hashOriginal[0].rstrip()\n",
    "          if hashFileDownloaded == hashOriginal:\n",
    "            same = 'yes'\n",
    "          else:\n",
    "            same = 'no'\n",
    "            print('Warning: hash mismatch between original and downloaded (file: \\'' + file + '\\', cipher: ' + cipherMode + ')!')\n",
    "        \n",
    "        # Write results to .csv file and clean up test files / storage\n",
    "        results.write(file + delimiter + hashOriginal + delimiter + cipherMode + delimiter + str(round) + delimiter + str(timestampUploadWallStart) + delimiter + str(timestampUploadWallStop) + delimiter + timestampDownloadWallStart + delimiter + timestampDownloadWallStop  + delimiter + str(timestampUploadWallStop - timestampUploadWallStart) + delimiter + timestampDownloadWallDuration + delimiter + str(float(timestampUploadWallStop - timestampUploadWallStart) + float(timestampDownloadWallDuration)) + delimiter + same + '\\n')\n",
    "        ipfs.rmPin(nodeApiUrl, metadata['cid'])\n",
    "        ipfs.collectGarbage(nodeApiUrl)\n",
    "        requests.get(remoteHostUrl + '/garbagecollect', timeout=None)\n",
    "\n",
    "print('Done!')"
   ],
   "outputs": [],
   "metadata": {}
  },
  {
   "cell_type": "markdown",
   "source": [
    "## Generate plots from generated .csv files\n",
    "We will use the pandas, matplotlib, and ipywidgets Python libraries to visualize our measurements (all are pre-installed in our JupyterLab Docker image). The plots will be saved as .svg files."
   ],
   "metadata": {}
  },
  {
   "cell_type": "code",
   "execution_count": null,
   "source": [
    "import pandas as pd\n",
    "import matplotlib.pyplot as plt\n",
    "import ipywidgets as widget\n",
    "!mkdir plots\n",
    "\n",
    "# Read results into memory\n",
    "netcat = pd.read_csv('baseline_netcat_duration_results.csv', sep=';')\n",
    "crypto = pd.read_csv('baseline_crypto_duration_results.csv', sep=';')\n",
    "ipfs = pd.read_csv('inter_notebook_file_sharing_duration_results.csv', sep=';')\n",
    "\n",
    "# Configure boxplot\n",
    "x_label_order_file = ['testfile_1_MiB.bin','testfile_10_MiB.bin','testfile_100_MiB.bin','testfile_500_MiB.bin', 'testfile_1_GiB.bin']\n",
    "x_label_order_cipher = ['plain','ChaCha20','Salsa20','AES_256_CTR']\n",
    "figsizeFile = (11,4)\n",
    "figsizeCipher = (8,4)\n",
    "config = {\n",
    "  'x_label_order': x_label_order_cipher,\n",
    "  'fontsize': 12,\n",
    "  'figsize': figsizeCipher,\n",
    "  'grid': False,\n",
    "  'boxprops': {\n",
    "    \"linestyle\": \"-\",\n",
    "    \"linewidth\": \"1\",\n",
    "    \"color\":\"black\"\n",
    "  },\n",
    "  'whiskerprops': {\n",
    "    \"linestyle\": \"-\",\n",
    "    \"linewidth\": \"1\",\n",
    "    \"color\":\"black\"\n",
    "  },\n",
    "  'medianprops': {\n",
    "    \"linestyle\": \"--\",\n",
    "    \"linewidth\": \"1\",\n",
    "    \"color\":\"black\"\n",
    "  },\n",
    "  'capprops': {\n",
    "    \"linestyle\": \"-\",\n",
    "    \"linewidth\": \"1\",\n",
    "    \"color\":\"black\"\n",
    "  },\n",
    "  'flierprops': {\n",
    "    \"linestyle\": \"-\",\n",
    "    \"linewidth\": \"1\",\n",
    "    \"color\":\"black\"\n",
    "  }\n",
    "}\n",
    "\n",
    "# Plot <column> per file\n",
    "def create_boxplots_file(testname, df, column, config):\n",
    "  print(testname + ': ' + column)\n",
    "  outputs = []\n",
    "  #max = df[column].max() * 1.05\n",
    "  output = widget.Output(layout={'margin': '12px'})\n",
    "  with output:\n",
    "    df['File'] = pd.Categorical(df['File'], config['x_label_order'])\n",
    "    plot = df.boxplot(column=column, by='File', grid=config['grid'], fontsize=config['fontsize'], figsize=config['figsize'], boxprops=config['boxprops'], whiskerprops=config['whiskerprops'], medianprops=config['medianprops'], capprops=config['capprops'], flierprops=config['flierprops'])\n",
    "    plot.set_title('')\n",
    "    plot.get_figure().suptitle('')\n",
    "    plot.set_xlabel('File', fontsize=config['fontsize'])\n",
    "    plot.set_ylabel('Total Duration (sec)', fontsize=config['fontsize'])\n",
    "    plot.set_ylim(ymin=0)\n",
    "    plot.get_figure().savefig('./plots/' + str(testname) + '-' + column + '.svg')\n",
    "    plt.show()\n",
    "  outputs.append(output)\n",
    "  return outputs\n",
    "\n",
    "# Plot <column> per cipher per file\n",
    "def create_boxplots_cipher(testname, df, column, config):\n",
    "  print(testname + ': ' + column)\n",
    "  outputs = []\n",
    "  #max = df[column].max() * 1.05\n",
    "  for file in df['File'].groupby(df['File']).unique():\n",
    "    output = widget.Output(layout={'margin': '12px'})\n",
    "    with output:\n",
    "      df['Cipher'] = pd.Categorical(df['Cipher'], config['x_label_order'])\n",
    "      plot = df.loc[df['File'] == str(file[0])][['Cipher', column]].boxplot(column=column, by='Cipher', grid=config['grid'], fontsize=config['fontsize'], figsize=config['figsize'], boxprops=config['boxprops'], whiskerprops=config['whiskerprops'], medianprops=config['medianprops'], capprops=config['capprops'], flierprops=config['flierprops'])\n",
    "      plot.set_title(str(file[0]), fontsize=config['fontsize'])\n",
    "      plot.get_figure().suptitle('')\n",
    "      plot.set_xlabel('Cipher', fontsize=config['fontsize'])\n",
    "      plot.set_ylabel('Total Duration (sec)', fontsize=config['fontsize'])\n",
    "      plot.set_ylim(ymin=0)\n",
    "      plot.get_figure().savefig('./plots/' + str(testname) + '-' + column + '-' + str(file[0]) + '.svg')\n",
    "      plt.show()\n",
    "    outputs.append(output)\n",
    "  return outputs\n",
    "\n",
    "#crypto.head()\n",
    "#ipfs.head()"
   ],
   "outputs": [],
   "metadata": {}
  },
  {
   "cell_type": "markdown",
   "source": [
    "### Plot netcat results per file"
   ],
   "metadata": {}
  },
  {
   "cell_type": "code",
   "execution_count": null,
   "source": [
    "# Plot Time_Total_Duration_Wall\n",
    "config['figsize'] = figsizeFile\n",
    "config['x_label_order'] = x_label_order_file\n",
    "widget.HBox(create_boxplots_file('netcat-file', netcat, 'Time_Total_Duration_Wall', config), layout=widget.Layout(flex_flow='row wrap'))"
   ],
   "outputs": [],
   "metadata": {}
  },
  {
   "cell_type": "markdown",
   "source": [
    "### Plot baseline crypto results per file"
   ],
   "metadata": {
    "tags": []
   }
  },
  {
   "cell_type": "code",
   "execution_count": null,
   "source": [
    "# Plot Time_Total_Duration_Wall\n",
    "config['figsize'] = figsizeFile\n",
    "config['x_label_order'] = x_label_order_file\n",
    "widget.HBox(create_boxplots_file('crypto-file', crypto, 'Time_Total_Duration_Wall', config), layout=widget.Layout(flex_flow='row wrap'))"
   ],
   "outputs": [],
   "metadata": {}
  },
  {
   "cell_type": "code",
   "execution_count": null,
   "source": [
    "# Plot Time_Total_Duration_Cpu\n",
    "widget.HBox(create_boxplots_file('crypto-file', crypto, 'Time_Total_Duration_Cpu', config), layout=widget.Layout(flex_flow='row wrap'))"
   ],
   "outputs": [],
   "metadata": {}
  },
  {
   "cell_type": "code",
   "execution_count": null,
   "source": [
    "# Plot Time_Encrypt_Duration_Wall\n",
    "widget.HBox(create_boxplots_file('crypto-file', crypto, 'Time_Encrypt_Duration_Wall', config), layout=widget.Layout(flex_flow='row wrap'))"
   ],
   "outputs": [],
   "metadata": {}
  },
  {
   "cell_type": "code",
   "execution_count": null,
   "source": [
    "# Plot Time_Encrypt_Duration_Cpu\n",
    "widget.HBox(create_boxplots_file('crypto-file', crypto, 'Time_Encrypt_Duration_Cpu', config), layout=widget.Layout(flex_flow='row wrap'))"
   ],
   "outputs": [],
   "metadata": {}
  },
  {
   "cell_type": "code",
   "execution_count": null,
   "source": [
    "# Plot Time_Decrypt_Duration_Wall\n",
    "widget.HBox(create_boxplots_file('crypto-file', crypto, 'Time_Decrypt_Duration_Wall', config), layout=widget.Layout(flex_flow='row wrap'))"
   ],
   "outputs": [],
   "metadata": {}
  },
  {
   "cell_type": "code",
   "execution_count": null,
   "source": [
    "# Plot Time_Decrypt_Duration_Cpu\n",
    "widget.HBox(create_boxplots_file('crypto-file', crypto, 'Time_Decrypt_Duration_Cpu', config), layout=widget.Layout(flex_flow='row wrap'))"
   ],
   "outputs": [],
   "metadata": {}
  },
  {
   "cell_type": "markdown",
   "source": [
    "### Plot baseline crypto results per cipher"
   ],
   "metadata": {}
  },
  {
   "cell_type": "code",
   "execution_count": null,
   "source": [
    "# Plot Time_Total_Duration_Wall\n",
    "config['figsize'] = figsizeCipher\n",
    "config['x_label_order'] = x_label_order_cipher\n",
    "widget.HBox(create_boxplots_cipher('crypto-cipher', crypto, 'Time_Total_Duration_Wall', config), layout=widget.Layout(flex_flow='row wrap'))"
   ],
   "outputs": [],
   "metadata": {}
  },
  {
   "cell_type": "code",
   "execution_count": null,
   "source": [
    "# Plot Time_Total_Duration_Cpu\n",
    "widget.HBox(create_boxplots_cipher('crypto-cipher', crypto, 'Time_Total_Duration_Cpu', config), layout=widget.Layout(flex_flow='row wrap'))"
   ],
   "outputs": [],
   "metadata": {}
  },
  {
   "cell_type": "code",
   "execution_count": null,
   "source": [
    "# Plot Time_Encrypt_Duration_Wall\n",
    "widget.HBox(create_boxplots_cipher('crypto-cipher', crypto, 'Time_Encrypt_Duration_Wall', config), layout=widget.Layout(flex_flow='row wrap'))"
   ],
   "outputs": [],
   "metadata": {}
  },
  {
   "cell_type": "code",
   "execution_count": null,
   "source": [
    "# Plot Time_Encrypt_Duration_Cpu\n",
    "widget.HBox(create_boxplots_cipher('crypto-cipher', crypto, 'Time_Encrypt_Duration_Cpu', config), layout=widget.Layout(flex_flow='row wrap'))"
   ],
   "outputs": [],
   "metadata": {}
  },
  {
   "cell_type": "code",
   "execution_count": null,
   "source": [
    "# Plot Time_Decrypt_Duration_Wall\n",
    "widget.HBox(create_boxplots_cipher('crypto-cipher', crypto, 'Time_Decrypt_Duration_Wall', config), layout=widget.Layout(flex_flow='row wrap'))"
   ],
   "outputs": [],
   "metadata": {}
  },
  {
   "cell_type": "code",
   "execution_count": null,
   "source": [
    "# Plot Time_Decrypt_Duration_Cpu\n",
    "widget.HBox(create_boxplots_cipher('crypto-cipher', crypto, 'Time_Decrypt_Duration_Cpu', config), layout=widget.Layout(flex_flow='row wrap'))"
   ],
   "outputs": [],
   "metadata": {}
  },
  {
   "cell_type": "markdown",
   "source": [
    "### Plot IPFS file sharing results per file"
   ],
   "metadata": {
    "tags": []
   }
  },
  {
   "cell_type": "code",
   "execution_count": null,
   "source": [
    "# Plot Time_Total_Duration_Wall\n",
    "config['figsize'] = figsizeFile\n",
    "config['x_label_order'] = x_label_order_file\n",
    "widget.HBox(create_boxplots_file('ipfs-file', ipfs, 'Time_Total_Duration_Wall', config), layout=widget.Layout(flex_flow='row wrap'))"
   ],
   "outputs": [],
   "metadata": {}
  },
  {
   "cell_type": "code",
   "execution_count": null,
   "source": [
    "# Plot Time_Upload_Duration_Wall\n",
    "widget.HBox(create_boxplots_file('ipfs-file', ipfs, 'Time_Upload_Duration_Wall', config), layout=widget.Layout(flex_flow='row wrap'))"
   ],
   "outputs": [],
   "metadata": {}
  },
  {
   "cell_type": "code",
   "execution_count": null,
   "source": [
    "# Plot Time_Download_Duration_Wall\n",
    "widget.HBox(create_boxplots_file('ipfs-file', ipfs, 'Time_Download_Duration_Wall', config), layout=widget.Layout(flex_flow='row wrap'))"
   ],
   "outputs": [],
   "metadata": {}
  },
  {
   "cell_type": "markdown",
   "source": [
    "### Plot IPFS file sharing results per cipher"
   ],
   "metadata": {}
  },
  {
   "cell_type": "code",
   "execution_count": null,
   "source": [
    "# Plot Time_Total_Duration_Wall\n",
    "config['figsize'] = figsizeCipher\n",
    "config['x_label_order'] = x_label_order_cipher\n",
    "widget.HBox(create_boxplots_cipher('ipfs-cipher', ipfs, 'Time_Total_Duration_Wall', config), layout=widget.Layout(flex_flow='row wrap'))"
   ],
   "outputs": [],
   "metadata": {}
  },
  {
   "cell_type": "code",
   "execution_count": null,
   "source": [
    "# Plot Time_Upload_Duration_Wall\n",
    "widget.HBox(create_boxplots_cipher('ipfs-cipher', ipfs, 'Time_Upload_Duration_Wall', config), layout=widget.Layout(flex_flow='row wrap'))"
   ],
   "outputs": [],
   "metadata": {}
  },
  {
   "cell_type": "code",
   "execution_count": null,
   "source": [
    "# Plot Time_Download_Duration_Wall\n",
    "widget.HBox(create_boxplots_cipher('ipfs-cipher', ipfs, 'Time_Download_Duration_Wall', config), layout=widget.Layout(flex_flow='row wrap'))"
   ],
   "outputs": [],
   "metadata": {}
  },
  {
   "cell_type": "code",
   "execution_count": null,
   "source": [],
   "outputs": [],
   "metadata": {}
  }
 ],
 "metadata": {
  "kernelspec": {
   "display_name": "Python 3 (ipykernel)",
   "language": "python",
   "name": "python3"
  },
  "language_info": {
   "codemirror_mode": {
    "name": "ipython",
    "version": 3
   },
   "file_extension": ".py",
   "mimetype": "text/x-python",
   "name": "python",
   "nbconvert_exporter": "python",
   "pygments_lexer": "ipython3",
   "version": "3.10.5"
  }
 },
 "nbformat": 4,
 "nbformat_minor": 5
}