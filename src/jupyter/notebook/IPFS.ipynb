{
 "cells": [
  {
   "cell_type": "markdown",
   "id": "3ba280d6-25e4-4d14-8b6a-124913efd2cf",
   "metadata": {},
   "source": [
    "## IPFS Client\n",
    "This notebook interacts with our local IPFS node (and, consequently, the configured IPFS private network(s)), using our Python module, as to simulate a Jupyter Server extension (i.e. the backend)."
   ]
  },
  {
   "cell_type": "markdown",
   "id": "98c51b7f-0158-4890-9b73-63598267db99",
   "metadata": {},
   "source": [
    "### Python module setup"
   ]
  },
  {
   "cell_type": "code",
   "execution_count": null,
   "id": "ba73863e-bc2c-42c8-930d-377d8931b34e",
   "metadata": {},
   "outputs": [],
   "source": [
    "import jcipfsclient as ipfs"
   ]
  },
  {
   "cell_type": "markdown",
   "id": "37ac31fd-684e-427a-8198-39a4502c4f9a",
   "metadata": {},
   "source": [
    "### Verify local communication to our IPFS node"
   ]
  },
  {
   "cell_type": "code",
   "execution_count": 18,
   "id": "165a1acf-fba9-4a81-bd32-51aca84f5cde",
   "metadata": {
    "tags": []
   },
   "outputs": [
    {
     "data": {
      "text/plain": [
       "'12D3KooWRKf8SgXjpRBwDbaYwYEHudufhcYc26X43Snr6hdxSxWF'"
      ]
     },
     "execution_count": 18,
     "metadata": {},
     "output_type": "execute_result"
    }
   ],
   "source": [
    "import os\n",
    "node = os.getenv('IPFS_NODE')\n",
    "nodeApiUrl = 'http://' + node + ':5001'\n",
    "ipfs.getId(nodeApiUrl)"
   ]
  },
  {
   "cell_type": "markdown",
   "id": "2e8591a8-6559-405d-ba48-3bc023cadc49",
   "metadata": {
    "tags": []
   },
   "source": [
    "### Join the IPFS network\n",
    "Using the configuration [obtained via Fabric](./Fabric.ipynb#Configure-IPFS), we will join our local IPFS node to the private IPFS network."
   ]
  },
  {
   "cell_type": "code",
   "execution_count": 22,
   "id": "9085572c-4e45-4a25-87b5-b2c8690431ea",
   "metadata": {
    "tags": []
   },
   "outputs": [],
   "source": [
    "ipfs.joinNetwork(\n",
    "  nodeApiUrl,\n",
    "  '/mnt/ipfs',\n",
    "  '/key/swarm/psk/1.0.0/\\n/base16/\\n63e8d44cb8d738ece5681d42dc918ff882cbe28458d81f64e764f95e3f77929f',\n",
    "  [\n",
    "      '/dns4/peer0.pnet0.orga.ipfs.localhost/tcp/4001/p2p/12D3KooWCLVuku1xQZLfhwn4UkkR9mFWw1bDeVJ2XVpwzEpvC5JV',\n",
    "      '/dns4/peer0.pnet0.orgb.ipfs.localhost/tcp/4001/p2p/12D3KooWFJ4XnjSowo6nCTiMPKaNLXrsDakkM5RQiPpZdDSp4uZM',\n",
    "      '/dns4/peer0.pnet0.orgc.ipfs.localhost/tcp/4001/p2p/12D3KooWNB1Sww8vDHxhg8rtiNc1Ra26ECT3nS7URVbLUkhpZ6fB'\n",
    "  ]\n",
    ")"
   ]
  },
  {
   "cell_type": "markdown",
   "id": "1669c646-486d-43a3-9c85-92dce1454f99",
   "metadata": {},
   "source": [
    "**Optional: add a relay**  \n",
    "If we are using an external JupyterLab instance (and its IPFS node client), we need to configure access to an IPFS relay (since our local IPFS node does not have direct access to our private IPFS network). Using the configuration obtained via Fabric, we will set up our local IPFS node to use a relay to reach the private IPFS network."
   ]
  },
  {
   "cell_type": "code",
   "execution_count": 5,
   "id": "e04b82cf-5ae8-4881-a52a-2b4e00f43d11",
   "metadata": {},
   "outputs": [],
   "source": [
    "ipfs.configRelay(\n",
    "  nodeApiUrl,\n",
    "  [\n",
    "    '/dns4/relay0.pnet0.orga.ipfs.localhost/tcp/4002/p2p/12D3KooWRsg23DzqhXgt7yfzVf2fs3PPHrRmt6e49p94CgTNcXmh'\n",
    "  ]\n",
    ")"
   ]
  },
  {
   "cell_type": "markdown",
   "id": "0e3a76fd-9480-481b-8b45-adc8ac84f6c2",
   "metadata": {},
   "source": [
    "Verify if our IPFS node can detect any peers on the network:"
   ]
  },
  {
   "cell_type": "code",
   "execution_count": 7,
   "id": "77dfc126-b87c-4a57-ae64-386b9ad6758d",
   "metadata": {},
   "outputs": [
    {
     "data": {
      "text/plain": [
       "[{'peer': '12D3KooWMvugsCa9vFRrQFv2fcTa3ZbKxHHfRrZnwwdquWV6HwBE',\n",
       "  'addr': '/ip4/172.20.3.2/tcp/4001'},\n",
       " {'peer': '12D3KooWFJ4XnjSowo6nCTiMPKaNLXrsDakkM5RQiPpZdDSp4uZM',\n",
       "  'addr': '/ip4/172.20.3.4/tcp/4001'},\n",
       " {'peer': '12D3KooWRsg23DzqhXgt7yfzVf2fs3PPHrRmt6e49p94CgTNcXmh',\n",
       "  'addr': '/ip4/172.20.3.45/tcp/4002'},\n",
       " {'peer': '12D3KooWPyNaEskA1tyz1DRGubFf8BeKGuHNRbzJkxjb1GKWmZNt',\n",
       "  'addr': '/ip4/172.20.3.45/tcp/4002/p2p/12D3KooWRsg23DzqhXgt7yfzVf2fs3PPHrRmt6e49p94CgTNcXmh/p2p-circuit'},\n",
       " {'peer': '12D3KooWLNH1D5z5VEt1ftHZe7M7j8aeGZAGTT1aNrBEDh2MswBZ',\n",
       "  'addr': '/ip4/172.20.3.47/tcp/4001'},\n",
       " {'peer': '12D3KooWNB1Sww8vDHxhg8rtiNc1Ra26ECT3nS7URVbLUkhpZ6fB',\n",
       "  'addr': '/ip4/172.20.3.6/tcp/4001'},\n",
       " {'peer': '12D3KooWDwgActjXPDopdz4wmUGegY63KQjEdHJ3F7WpJK7KdDxG',\n",
       "  'addr': '/ip4/172.20.3.7/tcp/4001'},\n",
       " {'peer': '12D3KooWCLVuku1xQZLfhwn4UkkR9mFWw1bDeVJ2XVpwzEpvC5JV',\n",
       "  'addr': '/ip4/172.20.3.8/tcp/4001'},\n",
       " {'peer': '12D3KooWLLw213PNdKv5U7KpxMHvYhLnFca6HMc9QxFbBDTEFViP',\n",
       "  'addr': '/ip4/172.20.3.9/tcp/4001'}]"
      ]
     },
     "execution_count": 7,
     "metadata": {},
     "output_type": "execute_result"
    }
   ],
   "source": [
    "ipfs.getPeers(nodeApiUrl)"
   ]
  },
  {
   "cell_type": "markdown",
   "id": "fc3f452d-9d20-48f6-aa0a-caecf3e83b1e",
   "metadata": {
    "tags": []
   },
   "source": [
    "### Add a file\n",
    "Now that we have configured our IPFS network access, we can add a file from our local system (i.e. the JupyterLab backend storage) to IPFS. Once we have added a file to IPFS, we can [publish](./Fabric.ipynb#Add-a-data-description) its metadata on Fabric (note that the file can be automatically encrypted using a random self-generated generated key)."
   ]
  },
  {
   "cell_type": "code",
   "execution_count": 14,
   "id": "bc83b482-7b93-4276-8e9e-260071dc4e4a",
   "metadata": {},
   "outputs": [],
   "source": [
    "!echo 'This is a test file from org C.' > testorgc.txt"
   ]
  },
  {
   "cell_type": "code",
   "execution_count": 15,
   "id": "534b38bf-f8af-426a-b52c-bdc455bb3560",
   "metadata": {},
   "outputs": [
    {
     "data": {
      "text/plain": [
       "{'cid': 'QmRrGntXMyZoVcBgA2QAwn6rRn8vsXxLDVuqFma44URMu2',\n",
       " 'base64Key': 'nR9WmUk+Wzkbb8d1+IEkTAr6nGjruVJmXRgk4N/6BSw=',\n",
       " 'cipherMode': 'ChaCha20'}"
      ]
     },
     "execution_count": 15,
     "metadata": {},
     "output_type": "execute_result"
    }
   ],
   "source": [
    "ipfs.addFile(nodeApiUrl, './testorgc.txt')"
   ]
  },
  {
   "cell_type": "markdown",
   "id": "e9164ced-6282-4733-aa61-fa2bac8b82cf",
   "metadata": {},
   "source": [
    "### Retrieve a file\n",
    "We can now switch to another JupyterLab instance and, after [repeating](./Fabric.ipynb) the steps to create another Fabric identity and configuring our local IPFS node, [retrieve](./Fabric.ipynb#Retrieve-a-data-description) the file's metadata (CID and encryption info) from Fabric. Then we can use IPFS to download our file."
   ]
  },
  {
   "cell_type": "code",
   "execution_count": 16,
   "id": "2b64a1ee-8964-4c3a-99b5-02d31fa14d4a",
   "metadata": {},
   "outputs": [],
   "source": [
    "filename = 'testorgc.txt'\n",
    "cid = 'QmRrGntXMyZoVcBgA2QAwn6rRn8vsXxLDVuqFma44URMu2'\n",
    "cryptKey = 'nR9WmUk+Wzkbb8d1+IEkTAr6nGjruVJmXRgk4N/6BSw='\n",
    "chunkSize = 10485760\n",
    "cipher = 'ChaCha20'\n",
    "ipfs.getFile(nodeApiUrl, cid, filename, cryptKey, chunkSize, cipher)"
   ]
  },
  {
   "cell_type": "code",
   "execution_count": 17,
   "id": "13de3290-5b4a-476d-88f2-79bf2f45c645",
   "metadata": {},
   "outputs": [
    {
     "name": "stdout",
     "output_type": "stream",
     "text": [
      "This is a test file from org C.\n"
     ]
    }
   ],
   "source": [
    "!cat testorgc.txt"
   ]
  },
  {
   "cell_type": "markdown",
   "id": "997a89de-88f3-4ff9-a930-d1f52f3a8fd6",
   "metadata": {},
   "source": [
    "### Pinning Service\n",
    "In the example above our added file is *only* available if our IPFS node is connected to the specified IPFS private network. However, we can use our organization's [provided](./Fabric.ipynb#Configure-IPFS) IPFS Pinning Service to store our (encrypted) file on our organization's IPFS cluster. This guarantees there's always an IPFS peer (or peers) available to provide our file."
   ]
  },
  {
   "cell_type": "code",
   "execution_count": 18,
   "id": "e8fff267-4c34-4fb5-ae25-4216e4e44864",
   "metadata": {},
   "outputs": [
    {
     "name": "stdout",
     "output_type": "stream",
     "text": [
      "QmRrGntXMyZoVcBgA2QAwn6rRn8vsXxLDVuqFma44URMu2\n"
     ]
    }
   ],
   "source": [
    "cid = 'QmRrGntXMyZoVcBgA2QAwn6rRn8vsXxLDVuqFma44URMu2'\n",
    "pinningServiceUrl = 'https://cluster0.pnet0.orgc.ipfs.localhost:9097'\n",
    "pinningServiceUser = 'orgc'\n",
    "pinningServicePass = '7342764f480A9feb8abd0F51463160'\n",
    "pinningServiceCert = '/mnt/crypto-config/ipfs/orgc/pnet0/cluster0/pinsvcapi.crt'\n",
    "requestId = ipfs.addRemotePin(pinningServiceUrl, cid, pinningServiceUser, pinningServicePass, pinningServiceCert)\n",
    "print(requestId)"
   ]
  },
  {
   "cell_type": "code",
   "execution_count": 23,
   "id": "d776641f-c697-4ccc-a142-6468feee6bc7",
   "metadata": {},
   "outputs": [
    {
     "data": {
      "text/plain": [
       "'pinned'"
      ]
     },
     "execution_count": 23,
     "metadata": {},
     "output_type": "execute_result"
    }
   ],
   "source": [
    "ipfs.getRemotePinStatus(pinningServiceUrl, requestId, pinningServiceUser, pinningServicePass, pinningServiceCert)"
   ]
  },
  {
   "cell_type": "markdown",
   "id": "1068b506-7eb5-457a-bb67-6fc660dd1200",
   "metadata": {},
   "source": [
    "### Storage maintenance\n",
    "Our local IPFS node contains a copy of all encrypted files we have downloaded. We can manually clean up these files immediately to claim back storage space."
   ]
  },
  {
   "cell_type": "code",
   "execution_count": null,
   "id": "300956f0-91e0-430d-86fe-411946331db3",
   "metadata": {},
   "outputs": [],
   "source": [
    "ipfs.collectGarbage(nodeApiUrl)"
   ]
  },
  {
   "cell_type": "markdown",
   "id": "60e2c0c2-e598-4f79-b086-b040fb00636e",
   "metadata": {},
   "source": [
    "**Removing local pins**  \n",
    "By default, all our added (encrypted) files are always preserved by our local IPFS node (even after a garbage collection). We can manually remove these pins from our node. However, as long as the file's metadata (i.e. the encryption key) [is still available on Fabric](./Fabric.ipynb#Delete-a-data-description), and some other IPFS peer has a copy of the file, the file can still be accessed."
   ]
  },
  {
   "cell_type": "code",
   "execution_count": null,
   "id": "f0f0acaf-b344-40b8-beb7-1858358a8607",
   "metadata": {},
   "outputs": [],
   "source": [
    "ipfs.getPins(nodeApiUrl)"
   ]
  },
  {
   "cell_type": "code",
   "execution_count": null,
   "id": "bcc7ce91-f510-4d6b-b3a9-bf4c467ffabd",
   "metadata": {},
   "outputs": [],
   "source": [
    "ipfs.rmPin(nodeApiUrl, cid)"
   ]
  }
 ],
 "metadata": {
  "kernelspec": {
   "display_name": "Python 3 (ipykernel)",
   "language": "python",
   "name": "python3"
  },
  "language_info": {
   "codemirror_mode": {
    "name": "ipython",
    "version": 3
   },
   "file_extension": ".py",
   "mimetype": "text/x-python",
   "name": "python",
   "nbconvert_exporter": "python",
   "pygments_lexer": "ipython3",
   "version": "3.10.5"
  }
 },
 "nbformat": 4,
 "nbformat_minor": 5
}
