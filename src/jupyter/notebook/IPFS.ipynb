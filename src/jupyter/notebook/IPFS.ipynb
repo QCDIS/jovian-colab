{
 "cells": [
  {
   "cell_type": "markdown",
   "id": "3ba280d6-25e4-4d14-8b6a-124913efd2cf",
   "metadata": {},
   "source": [
    "## IPFS Client\n",
    "This notebook interacts with our local IPFS node (and, consequently, the configured IPFS private network(s)), using our Python module, as to simulate a Jupyter Server extension (i.e. the backend)."
   ]
  },
  {
   "cell_type": "markdown",
   "id": "98c51b7f-0158-4890-9b73-63598267db99",
   "metadata": {},
   "source": [
    "### Python module setup"
   ]
  },
  {
   "cell_type": "raw",
   "id": "5b95bc1f-77c3-4fa4-862c-cb6255d7248c",
   "metadata": {},
   "source": [
    "On the Docker host:\n",
    "cd ./src/jupyter/ipfs-client\n",
    "./build.sh\n",
    "cp dist/*.whl to the work directory of this Jupyterlab instance (e.g. cp dist/*.whl ../notebook/)"
   ]
  },
  {
   "cell_type": "code",
   "execution_count": 1,
   "id": "a08b2691-2810-4457-ab8e-f381ead898e1",
   "metadata": {
    "collapsed": true,
    "jupyter": {
     "outputs_hidden": true
    },
    "tags": []
   },
   "outputs": [
    {
     "name": "stdout",
     "output_type": "stream",
     "text": [
      "Processing ./jcipfsclient-1.0.0-py3-none-any.whl\n",
      "Requirement already satisfied: requests in /opt/conda/lib/python3.9/site-packages (from jcipfsclient==1.0.0) (2.27.1)\n",
      "Collecting pycryptodome\n",
      "  Downloading pycryptodome-3.14.1-cp35-abi3-manylinux2010_x86_64.whl (2.0 MB)\n",
      "\u001b[2K     \u001b[90m━━━━━━━━━━━━━━━━━━━━━━━━━━━━━━━━━━━━━━━━\u001b[0m \u001b[32m2.0/2.0 MB\u001b[0m \u001b[31m36.8 MB/s\u001b[0m eta \u001b[36m0:00:00\u001b[0m00:01\u001b[0m\n",
      "\u001b[?25hRequirement already satisfied: certifi>=2017.4.17 in /opt/conda/lib/python3.9/site-packages (from requests->jcipfsclient==1.0.0) (2021.10.8)\n",
      "Requirement already satisfied: urllib3<1.27,>=1.21.1 in /opt/conda/lib/python3.9/site-packages (from requests->jcipfsclient==1.0.0) (1.26.8)\n",
      "Requirement already satisfied: idna<4,>=2.5 in /opt/conda/lib/python3.9/site-packages (from requests->jcipfsclient==1.0.0) (3.3)\n",
      "Requirement already satisfied: charset-normalizer~=2.0.0 in /opt/conda/lib/python3.9/site-packages (from requests->jcipfsclient==1.0.0) (2.0.12)\n",
      "Installing collected packages: pycryptodome, jcipfsclient\n",
      "Successfully installed jcipfsclient-1.0.0 pycryptodome-3.14.1\n"
     ]
    }
   ],
   "source": [
    "import sys\n",
    "!{sys.executable} -m pip install *.whl"
   ]
  },
  {
   "cell_type": "code",
   "execution_count": 4,
   "id": "ba73863e-bc2c-42c8-930d-377d8931b34e",
   "metadata": {},
   "outputs": [],
   "source": [
    "import jcipfsclient as ipfs"
   ]
  },
  {
   "cell_type": "markdown",
   "id": "37ac31fd-684e-427a-8198-39a4502c4f9a",
   "metadata": {},
   "source": [
    "### Verify local communication to our IPFS node"
   ]
  },
  {
   "cell_type": "code",
   "execution_count": 2,
   "id": "165a1acf-fba9-4a81-bd32-51aca84f5cde",
   "metadata": {},
   "outputs": [
    {
     "data": {
      "text/plain": [
       "'12D3KooWGbuQu8v5e3aqehVigAbv6VLLFzYnweXGAXVuGoXsw3RX'"
      ]
     },
     "execution_count": 2,
     "metadata": {},
     "output_type": "execute_result"
    }
   ],
   "source": [
    "nodeApiUrl = 'http://ipfs.jupyter.localhost:5001'\n",
    "ipfs.getId(nodeApiUrl)"
   ]
  },
  {
   "cell_type": "markdown",
   "id": "2e8591a8-6559-405d-ba48-3bc023cadc49",
   "metadata": {
    "tags": []
   },
   "source": [
    "### Join the IPFS network\n",
    "Using the configuration [obtained via Fabric](./Fabric.ipynb#Configure-IPFS), we will join our local IPFS node to the private IPFS network."
   ]
  },
  {
   "cell_type": "code",
   "execution_count": 3,
   "id": "9085572c-4e45-4a25-87b5-b2c8690431ea",
   "metadata": {},
   "outputs": [],
   "source": [
    "ipfs.joinNetwork(\n",
    "  nodeApiUrl,\n",
    "  '../ipfs',\n",
    "  '/key/swarm/psk/1.0.0/\\n/base16/\\n63e8d44cb8d738ece5681d42dc918ff882cbe28458d81f64e764f95e3f77929f',\n",
    "  [\n",
    "      '/dns4/peer0.pnet0.orga.ipfs.localhost/tcp/4001/p2p/12D3KooWEq2SRZg8zYMjm3vp8G1xettJpZvjF62n58iJu7jhKdzm',\n",
    "      '/dns4/peer0.pnet0.orgb.ipfs.localhost/tcp/4001/p2p/12D3KooWLy5UaZMMR8rtvxHFa3L9LhvjWwdMBtP9e7BpHjvooiPD',\n",
    "      '/dns4/peer0.pnet0.orgc.ipfs.localhost/tcp/4001/p2p/12D3KooWByqyhou8Mj5YXTAojVE9TMLqkh6cKqDaEGX4HN5ML3PW'\n",
    "  ]\n",
    ")"
   ]
  },
  {
   "cell_type": "markdown",
   "id": "0e3a76fd-9480-481b-8b45-adc8ac84f6c2",
   "metadata": {},
   "source": [
    "Verify if our IPFS node can detect any peers on the network:"
   ]
  },
  {
   "cell_type": "code",
   "execution_count": 4,
   "id": "77dfc126-b87c-4a57-ae64-386b9ad6758d",
   "metadata": {},
   "outputs": [
    {
     "data": {
      "text/plain": [
       "[{'peer': '12D3KooWAgXkQ9G5bka1izzFwfX5tBEZoADFxvSvgfEcSPLn3HiN',\n",
       "  'addr': '/ip4/172.20.3.2/tcp/4001'},\n",
       " {'peer': '12D3KooWEq2SRZg8zYMjm3vp8G1xettJpZvjF62n58iJu7jhKdzm',\n",
       "  'addr': '/ip4/172.20.3.4/tcp/4001'},\n",
       " {'peer': '12D3KooWGbuQu8v5e3aqehVigAbv6VLLFzYnweXGAXVuGoXsw3RX',\n",
       "  'addr': '/ip4/172.20.3.46/tcp/4001'},\n",
       " {'peer': '12D3KooWByqyhou8Mj5YXTAojVE9TMLqkh6cKqDaEGX4HN5ML3PW',\n",
       "  'addr': '/ip4/172.20.3.5/tcp/4001'},\n",
       " {'peer': '12D3KooWLy5UaZMMR8rtvxHFa3L9LhvjWwdMBtP9e7BpHjvooiPD',\n",
       "  'addr': '/ip4/172.20.3.7/tcp/4001'},\n",
       " {'peer': '12D3KooWBXb1BkpMr6hFPuqqp3h19hzf4iZEWGh97Wwtw4hnCXzV',\n",
       "  'addr': '/ip4/172.20.3.8/tcp/4001'},\n",
       " {'peer': '12D3KooWQesTVP2YaGvj5VYDE3fZiW8E1aTDg9TKj4VmwoY8rJzR',\n",
       "  'addr': '/ip4/172.20.3.9/tcp/4001'}]"
      ]
     },
     "execution_count": 4,
     "metadata": {},
     "output_type": "execute_result"
    }
   ],
   "source": [
    "ipfs.getPeers(nodeApiUrl)"
   ]
  },
  {
   "cell_type": "markdown",
   "id": "fc3f452d-9d20-48f6-aa0a-caecf3e83b1e",
   "metadata": {
    "tags": []
   },
   "source": [
    "### Add a file\n",
    "Now that we have configured our IPFS network access, we can add a file from our local system (i.e. the JupyterLab backend storage) to IPFS. Once we have added a file to IPFS, we can [publish](./Fabric.ipynb#Add-a-data-description) its metadata on Fabric (note that the file can be automatically encrypted using a random self-generated generated key)."
   ]
  },
  {
   "cell_type": "code",
   "execution_count": 9,
   "id": "bc83b482-7b93-4276-8e9e-260071dc4e4a",
   "metadata": {},
   "outputs": [],
   "source": [
    "!echo 'This is a test file.' > testorga.txt"
   ]
  },
  {
   "cell_type": "code",
   "execution_count": 6,
   "id": "534b38bf-f8af-426a-b52c-bdc455bb3560",
   "metadata": {},
   "outputs": [
    {
     "data": {
      "text/plain": [
       "{'cid': 'Qmafqh1NmTEto87EvwWe9z5tEpaFjSzgnnXyf65UnffoRG',\n",
       " 'base64Key': 'z9CYO5kT6X/Jmx6BbS7yq7y2cACDDzCRIc7sgQ7rGZY=',\n",
       " 'chunkSize': 10485760,\n",
       " 'cipherMode': 'ChaCha20'}"
      ]
     },
     "execution_count": 6,
     "metadata": {},
     "output_type": "execute_result"
    }
   ],
   "source": [
    "ipfs.addFile(nodeApiUrl, './testorga.txt')"
   ]
  },
  {
   "cell_type": "markdown",
   "id": "e9164ced-6282-4733-aa61-fa2bac8b82cf",
   "metadata": {},
   "source": [
    "### Retrieve a file\n",
    "We can now switch to another JupyterLab instance and, after [repeating](./Fabric.ipynb) the steps to create another Fabric identity and configuring our local IPFS node, [retrieve](./Fabric.ipynb#Retrieve-a-data-description) the file's metadata (CID and encryption info) from Fabric. Then we can use IPFS to download our file."
   ]
  },
  {
   "cell_type": "code",
   "execution_count": null,
   "id": "2b64a1ee-8964-4c3a-99b5-02d31fa14d4a",
   "metadata": {},
   "outputs": [],
   "source": [
    "filename = 'testorga.txt'\n",
    "cid = ''\n",
    "cryptKey = ''\n",
    "chunkSize = 10485760\n",
    "cipher = 'ChaCha20'\n",
    "ipfs.getFile(nodeApiUrl, cid, filename, cryptKey, chunkSize, cipher)"
   ]
  },
  {
   "cell_type": "code",
   "execution_count": null,
   "id": "13de3290-5b4a-476d-88f2-79bf2f45c645",
   "metadata": {},
   "outputs": [],
   "source": [
    "!cat testorga.txt"
   ]
  },
  {
   "cell_type": "markdown",
   "id": "997a89de-88f3-4ff9-a930-d1f52f3a8fd6",
   "metadata": {},
   "source": [
    "### Pinning Service\n",
    "In the example above our added file is *only* available if our IPFS node is connected to the specified IPFS private network. However, we can use our organization's [provided](./Fabric.ipynb#Configure-IPFS) IPFS Pinning Service to store our (encrypted) file on our organization's IPFS cluster. This guarantees there's always an IPFS peer (or peers) available to provide our file."
   ]
  },
  {
   "cell_type": "code",
   "execution_count": 14,
   "id": "e8fff267-4c34-4fb5-ae25-4216e4e44864",
   "metadata": {},
   "outputs": [
    {
     "name": "stdout",
     "output_type": "stream",
     "text": [
      "QmSX7hYKSSGoCn4QLyahHwtyuxW7dHtSQ93gmyHJzGjzBv\n"
     ]
    }
   ],
   "source": [
    "cid = 'QmSX7hYKSSGoCn4QLyahHwtyuxW7dHtSQ93gmyHJzGjzBv'\n",
    "pinningServiceUrl = 'https://cluster0.pnet0.orga.ipfs.localhost:9097'\n",
    "pinningServiceUser = 'orga'\n",
    "pinningServicePass = '325298731aB2022aFF0964813762fC'\n",
    "pinningServiceCert = '../crypto-config/ipfs/orga/pnet0/cluster0/pinsvcapi.crt'\n",
    "requestId = ipfs.addRemotePin(pinningServiceUrl, cid, pinningServiceUser, pinningServicePass, pinningServiceCert)\n",
    "print(requestId)"
   ]
  },
  {
   "cell_type": "code",
   "execution_count": 15,
   "id": "d776641f-c697-4ccc-a142-6468feee6bc7",
   "metadata": {},
   "outputs": [
    {
     "data": {
      "text/plain": [
       "'pinned'"
      ]
     },
     "execution_count": 15,
     "metadata": {},
     "output_type": "execute_result"
    }
   ],
   "source": [
    "ipfs.getRemotePinStatus(pinningServiceUrl, requestId, pinningServiceUser, pinningServicePass, pinningServiceCert)"
   ]
  },
  {
   "cell_type": "markdown",
   "id": "1068b506-7eb5-457a-bb67-6fc660dd1200",
   "metadata": {},
   "source": [
    "### Storage maintenance\n",
    "Our local IPFS node contains a copy of all encrypted files we have downloaded. We can manually clean up these files immediately to claim back storage space."
   ]
  },
  {
   "cell_type": "code",
   "execution_count": null,
   "id": "300956f0-91e0-430d-86fe-411946331db3",
   "metadata": {},
   "outputs": [],
   "source": [
    "ipfs.collectGarbage(nodeApiUrl)"
   ]
  },
  {
   "cell_type": "markdown",
   "id": "60e2c0c2-e598-4f79-b086-b040fb00636e",
   "metadata": {},
   "source": [
    "**Removing local pins**  \n",
    "By default, all our added (encrypted) files are always preserved by our local IPFS node (even after a garbage collection). We can manually remove these pins from our node. However, as long as the file's metadata (i.e. the encryption key) [is still available on Fabric](./Fabric.ipynb#Delete-a-data-description), and some other IPFS peer has a copy of the file, the file can still be accessed."
   ]
  },
  {
   "cell_type": "code",
   "execution_count": null,
   "id": "f0f0acaf-b344-40b8-beb7-1858358a8607",
   "metadata": {},
   "outputs": [],
   "source": [
    "ipfs.getPins(nodeApiUrl)"
   ]
  },
  {
   "cell_type": "code",
   "execution_count": null,
   "id": "bcc7ce91-f510-4d6b-b3a9-bf4c467ffabd",
   "metadata": {},
   "outputs": [],
   "source": [
    "ipfs.rmPin(nodeApiUrl, cid)"
   ]
  }
 ],
 "metadata": {
  "kernelspec": {
   "display_name": "Python 3 (ipykernel)",
   "language": "python",
   "name": "python3"
  },
  "language_info": {
   "codemirror_mode": {
    "name": "ipython",
    "version": 3
   },
   "file_extension": ".py",
   "mimetype": "text/x-python",
   "name": "python",
   "nbconvert_exporter": "python",
   "pygments_lexer": "ipython3",
   "version": "3.9.10"
  }
 },
 "nbformat": 4,
 "nbformat_minor": 5
}
