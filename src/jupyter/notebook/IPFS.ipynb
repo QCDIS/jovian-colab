{
 "cells": [
  {
   "cell_type": "markdown",
   "id": "3ba280d6-25e4-4d14-8b6a-124913efd2cf",
   "metadata": {},
   "source": [
    "## IPFS Client\n",
    "This notebook interacts with our local IPFS node (and consequently the configured IPFS private network), using our Python module, as to simulate a Jupyter Server extension (i.e. the backend)."
   ]
  },
  {
   "cell_type": "markdown",
   "id": "98c51b7f-0158-4890-9b73-63598267db99",
   "metadata": {},
   "source": [
    "### Python module setup"
   ]
  },
  {
   "cell_type": "raw",
   "id": "5b95bc1f-77c3-4fa4-862c-cb6255d7248c",
   "metadata": {},
   "source": [
    "On the Docker host:\n",
    "cd ./src/jupyter/ipfs-client\n",
    "./build.sh\n",
    "cp dist/*.whl to the work directory of this Jupyterlab instance (cp dist/*.whl ../notebook/)"
   ]
  },
  {
   "cell_type": "code",
   "execution_count": 1,
   "id": "a08b2691-2810-4457-ab8e-f381ead898e1",
   "metadata": {
    "collapsed": true,
    "jupyter": {
     "outputs_hidden": true
    },
    "tags": []
   },
   "outputs": [
    {
     "name": "stdout",
     "output_type": "stream",
     "text": [
      "Processing ./jcipfsclient-1.0.0-py3-none-any.whl\n",
      "Collecting pycryptodome\n",
      "  Downloading pycryptodome-3.14.1-cp35-abi3-manylinux2010_x86_64.whl (2.0 MB)\n",
      "\u001b[2K     \u001b[90m━━━━━━━━━━━━━━━━━━━━━━━━━━━━━━━━━━━━━━━━\u001b[0m \u001b[32m2.0/2.0 MB\u001b[0m \u001b[31m45.2 MB/s\u001b[0m eta \u001b[36m0:00:00\u001b[0m00:01\u001b[0m\n",
      "\u001b[?25hRequirement already satisfied: requests in /opt/conda/lib/python3.9/site-packages (from jcipfsclient==1.0.0) (2.27.1)\n",
      "Requirement already satisfied: certifi>=2017.4.17 in /opt/conda/lib/python3.9/site-packages (from requests->jcipfsclient==1.0.0) (2022.5.18.1)\n",
      "Requirement already satisfied: charset-normalizer~=2.0.0 in /opt/conda/lib/python3.9/site-packages (from requests->jcipfsclient==1.0.0) (2.0.12)\n",
      "Requirement already satisfied: idna<4,>=2.5 in /opt/conda/lib/python3.9/site-packages (from requests->jcipfsclient==1.0.0) (3.3)\n",
      "Requirement already satisfied: urllib3<1.27,>=1.21.1 in /opt/conda/lib/python3.9/site-packages (from requests->jcipfsclient==1.0.0) (1.26.8)\n",
      "Installing collected packages: pycryptodome, jcipfsclient\n",
      "Successfully installed jcipfsclient-1.0.0 pycryptodome-3.14.1\n"
     ]
    }
   ],
   "source": [
    "import sys\n",
    "!{sys.executable} -m pip install *.whl"
   ]
  },
  {
   "cell_type": "code",
   "execution_count": 2,
   "id": "ba73863e-bc2c-42c8-930d-377d8931b34e",
   "metadata": {},
   "outputs": [],
   "source": [
    "import jcipfsclient as ipfs"
   ]
  },
  {
   "cell_type": "markdown",
   "id": "2e8591a8-6559-405d-ba48-3bc023cadc49",
   "metadata": {},
   "source": [
    "### Configuration"
   ]
  },
  {
   "cell_type": "code",
   "execution_count": 3,
   "id": "165a1acf-fba9-4a81-bd32-51aca84f5cde",
   "metadata": {},
   "outputs": [
    {
     "data": {
      "text/plain": [
       "'12D3KooWJ9P1xruGf9WpXKsUv9UBPuNSnyYaeWKAg6fyvz2yCwxF'"
      ]
     },
     "execution_count": 3,
     "metadata": {},
     "output_type": "execute_result"
    }
   ],
   "source": [
    "nodeApiUrl = 'http://ipfs.jupyter.localhost:5001'\n",
    "ipfs.getId(nodeApiUrl)"
   ]
  },
  {
   "cell_type": "raw",
   "id": "ca752009-a92e-47be-b359-e8e798df6ef3",
   "metadata": {},
   "source": [
    "#joinNetwork(\n",
    "#  node,\n",
    "#  '/mnt/ipfs',\n",
    "#  '/key/swarm/psk/1.0.0/\\n/base16/\\n63e8d44cb8d738ece5681d42dc918ff882cbe28458d81f64e764f95e3f77929f',\n",
    "#  ['/dns4/peer0.pnet0.orga.ipfs.localhost/tcp/4001/p2p/12D3KooWEq2SRZg8zYMjm3vp8G1xettJpZvjF62n58iJu7jhKdzm',\n",
    "#   '/dns4/peer0.pnet0.orgb.ipfs.localhost/tcp/4001/p2p/12D3KooWLy5UaZMMR8rtvxHFa3L9LhvjWwdMBtP9e7BpHjvooiPD',\n",
    "#   '/dns4/peer0.pnet0.orgc.ipfs.localhost/tcp/4001/p2p/12D3KooWByqyhou8Mj5YXTAojVE9TMLqkh6cKqDaEGX4HN5ML3PW'\n",
    "#  ]\n",
    "#)\n",
    "\n",
    "#print(\"Storage cache usage: {use} bytes\".format(use = getStorageCacheUsage(node)))\n",
    "#print(getPeers(node))\n",
    "#print(getPins(node))\n",
    "#rmPin(node, 'QmdhWghMxUBo3YKdozSopZL5CyG2JjvU2yt8KMm6EJsUV9')\n",
    "#collectGarbage(node)\n",
    "#print(addFile(node, './testfile'))\n",
    "#print(addFile(node, './testfile', '4FtCGehCBS3666jdG3zuw5wtIfSiwUCXtsDWlrnaufI='))\n",
    "#getFile(node, 'QmfJTUUpVeuSVyMH6knrdpLyncukGKkaqKKrtUxfidHrYQ', 'out.bin', '4FtCGehCBS3666jdG3zuw5wtIfSiwUCXtsDWlrnaufI=')\n",
    "#print(addFile(node, './testfile', cipherMode='AES_256_CTR'))\n",
    "#print(addFile(node, './testfile', 'uIyXooyKpJagNtUbZWzJx1FI//2Ox1Fzp/LWBnKQsso=', cipherMode='AES_256_CTR'))\n",
    "#getFile(node, 'QmfXeM9d45SkKKxD4MmoXEY5AzPZffFHD22W3KyFxfdEPm', 'out.bin', 'uIyXooyKpJagNtUbZWzJx1FI//2Ox1Fzp/LWBnKQsso=', cipherMode='AES_256_CTR')\n",
    "\n",
    "clusterUrl='https://cluster0.pnet0.orga.ipfs.localhost:9097'\n",
    "clusterCert='./orga.cluster0.pinsvcapi.cert'\n",
    "clusterUser='ipfs'\n",
    "clusterPass='pass1'\n",
    "#requestId = addRemotePin(clusterUrl, 'QmYimgJRSUcZwuWu6eBtjmKY2tt99dsDinXSB7pLUjnTyd', clusterUser, clusterPass, clusterCert)\n",
    "#print(requestId)\n",
    "#getRemotePinStatus(clusterUrl, requestId, clusterUser, clusterPass, clusterCert)\n",
    "#status = getRemotePinStatus(clusterUrl, 'QmYimgJRSUcZwuWu6eBtjmKY2tt99dsDinXSB7pLUjnTyd', clusterUser, clusterPass, clusterCert)\n",
    "#print(status)\n"
   ]
  },
  {
   "cell_type": "code",
   "execution_count": null,
   "id": "77dfc126-b87c-4a57-ae64-386b9ad6758d",
   "metadata": {},
   "outputs": [],
   "source": []
  }
 ],
 "metadata": {
  "kernelspec": {
   "display_name": "Python 3 (ipykernel)",
   "language": "python",
   "name": "python3"
  },
  "language_info": {
   "codemirror_mode": {
    "name": "ipython",
    "version": 3
   },
   "file_extension": ".py",
   "mimetype": "text/x-python",
   "name": "python",
   "nbconvert_exporter": "python",
   "pygments_lexer": "ipython3",
   "version": "3.9.10"
  }
 },
 "nbformat": 4,
 "nbformat_minor": 5
}
