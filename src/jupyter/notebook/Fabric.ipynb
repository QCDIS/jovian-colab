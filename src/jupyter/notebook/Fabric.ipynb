{
 "cells": [
  {
   "cell_type": "markdown",
   "id": "011f7cf9-7819-4751-9071-41e7b9d151f4",
   "metadata": {
    "tags": []
   },
   "source": [
    "## Fabric Gateway Client\n",
    "This notebook interacts with our Hyperledger Fabric blockchain, using our JavaScript module, as to simulate a Jupyter extension (i.e. the frontend).\n",
    "Note that the code is executed on the backend (using a Jupyter kernel), whereas a Jupyter extension would run this code on the frontend (i.e. the web browser). This has two major consequences:\n",
    "- the traffic between this client and Fabric will occur via the backend (i.e. IP routing, DNS, TLS, etc. will take place within that context);\n",
    "- and the user's private key is generated and stored on the backend (rather than never leaving the web browser's memory). As long as JupyterLab is executed on the *same* system (e.g. your laptop) this does not matter (both the backend and frontend are running on the same host), but be aware when tunneling JupyterLab."
   ]
  },
  {
   "cell_type": "markdown",
   "id": "32fcffa3-5dd4-4c01-bdf9-f81e0f0f2af4",
   "metadata": {
    "tags": []
   },
   "source": [
    "### Prerequisites\n",
    "We use 'IJavascript' to run JavaScript from JupyterLab (as a kernel / on the JupyterLab backend. We also install the node version specified by Fabric's documentation (v14)."
   ]
  },
  {
   "cell_type": "code",
   "execution_count": 2,
   "id": "2f376f1e-8ba0-4fac-b8ad-c41e0f4afae3",
   "metadata": {
    "collapsed": true,
    "jupyter": {
     "outputs_hidden": true
    },
    "tags": []
   },
   "outputs": [
    {
     "name": "stdout",
     "output_type": "stream",
     "text": [
      "\n",
      "                  __    __    __    __\n",
      "                 /  \\  /  \\  /  \\  /  \\\n",
      "                /    \\/    \\/    \\/    \\\n",
      "███████████████/  /██/  /██/  /██/  /████████████████████████\n",
      "              /  / \\   / \\   / \\   / \\  \\____\n",
      "             /  /   \\_/   \\_/   \\_/   \\    o \\__,\n",
      "            / _/                       \\_____/  `\n",
      "            |/\n",
      "        ███╗   ███╗ █████╗ ███╗   ███╗██████╗  █████╗\n",
      "        ████╗ ████║██╔══██╗████╗ ████║██╔══██╗██╔══██╗\n",
      "        ██╔████╔██║███████║██╔████╔██║██████╔╝███████║\n",
      "        ██║╚██╔╝██║██╔══██║██║╚██╔╝██║██╔══██╗██╔══██║\n",
      "        ██║ ╚═╝ ██║██║  ██║██║ ╚═╝ ██║██████╔╝██║  ██║\n",
      "        ╚═╝     ╚═╝╚═╝  ╚═╝╚═╝     ╚═╝╚═════╝ ╚═╝  ╚═╝\n",
      "\n",
      "        mamba (0.22.0) supported by @QuantStack\n",
      "\n",
      "        GitHub:  https://github.com/mamba-org/mamba\n",
      "        Twitter: https://twitter.com/QuantStack\n",
      "\n",
      "█████████████████████████████████████████████████████████████\n",
      "\n",
      "\n",
      "Looking for: ['make', 'cxx-compiler', 'nodejs=14.18.3']\n",
      "\n",
      "conda-forge/linux-64                                        Using cache\n",
      "conda-forge/noarch                                          Using cache\n",
      "\n",
      "Pinned packages:\n",
      "  - python 3.9.*\n",
      "  - python 3.9.10\n",
      "\n",
      "\n",
      "Transaction\n",
      "\n",
      "  Prefix: /opt/conda\n",
      "\n",
      "  All requested packages already installed\n",
      "\n",
      "\u001b[?25l\u001b[2K\u001b[0G\u001b[?25h"
     ]
    }
   ],
   "source": [
    "!mamba install --yes make cxx-compiler nodejs=14.18.3"
   ]
  },
  {
   "cell_type": "code",
   "execution_count": 3,
   "id": "68270feb-af79-4bdd-b412-121a3ef2b9db",
   "metadata": {
    "collapsed": true,
    "jupyter": {
     "outputs_hidden": true
    },
    "tags": []
   },
   "outputs": [
    {
     "name": "stdout",
     "output_type": "stream",
     "text": [
      "\u001b[K\u001b[?25h\u001b[37;40mnpm\u001b[0m \u001b[0m\u001b[30;43mWARN\u001b[0m \u001b[0m\u001b[35mdeprecated\u001b[0m uuid@3.4.0: Please upgrade  to version 7 or higher.  Older versions may use Math.random() in certain circumstances, which is known to be problematic.  See https://v8.dev/blog/math-random for details.\n",
      "\u001b[K\u001b[?25h/opt/conda/bin/ijsconsole -> /opt/conda/lib/node_modules/ijavascript/bin/ijsconsole.js:refresh-package-js\u001b[0m\u001b[Km\u001b[KK\n",
      "/opt/conda/bin/ijs -> /opt/conda/lib/node_modules/ijavascript/bin/ijavascript.js\n",
      "/opt/conda/bin/ijsinstall -> /opt/conda/lib/node_modules/ijavascript/bin/ijsinstall.js\n",
      "/opt/conda/bin/ijsnotebook -> /opt/conda/lib/node_modules/ijavascript/bin/ijsnotebook.js\n",
      "/opt/conda/bin/ijskernel -> /opt/conda/lib/node_modules/ijavascript/lib/kernel.js\n",
      "\n",
      "> zeromq@5.2.8 install /opt/conda/lib/node_modules/ijavascript/node_modules/zeromq\n",
      "> node-gyp-build || npm run build:libzmq\n",
      "\n",
      "+ ijavascript@5.2.1\n",
      "added 8 packages from 31 contributors in 6.861s\n"
     ]
    }
   ],
   "source": [
    "!npm install -g ijavascript\n",
    "!ijsinstall"
   ]
  },
  {
   "cell_type": "markdown",
   "id": "b977063d-f782-45ab-b3a9-bf69234ded15",
   "metadata": {},
   "source": [
    "#### Admin tasks\n",
    "The organization's (Fabric and IPFS) administrator has to register a user and provision the IPFS network configuration."
   ]
  },
  {
   "cell_type": "markdown",
   "id": "cad46eea-c314-4cba-8dd6-0bc8ee89a86c",
   "metadata": {
    "tags": []
   },
   "source": [
    "**User registration**  \n",
    "The organization's Fabric CA admin registers user by using the command below on the Docker host (which will use our Fabric CA client application):"
   ]
  },
  {
   "cell_type": "raw",
   "id": "18bd2c9e-fdf3-4db4-882a-bd4c7567ad8d",
   "metadata": {},
   "source": [
    "Organization A:\n",
    "docker exec -it ca-client.fabric.localhost ./registerUser.js --profile ../connection-profiles/connection-profile-orga.yaml --org orgA --user orgAuser\n",
    "Organization B:\n",
    "docker exec -it ca-client.fabric.localhost ./registerUser.js --profile ../connection-profiles/connection-profile-orgb.yaml --org orgB --user orgBuser\n",
    "Organization C:\n",
    "docker exec -it ca-client.fabric.localhost ./registerUser.js --profile ../connection-profiles/connection-profile-orgc.yaml --org orgC --user orgCuser"
   ]
  },
  {
   "cell_type": "raw",
   "id": "04540094-066c-488d-9ac2-ed02ce7e9c62",
   "metadata": {
    "tags": []
   },
   "source": [
    "Example of registering a user for Organization A:\n",
    " --- Fabric CA Client Application --- \n",
    "Existing wallet found at \"./wallet\"\n",
    "Registering user \"orgAuser\" in organization \"orgA\"\n",
    "An identity for the CA admin user \"admin\" of organization \"orgA\" does not exists in the wallet\n",
    "Enrolling CA admin user \"admin\" of organization \"orgA\"\n",
    "CA admin user password? adminpw\n",
    "Successfully enrolled the CA admin user \"admin\" of organization \"orgA\"\n",
    "Successfully imported identity of CA admin user \"admin\" of organization \"orgA\" into the wallet\n",
    "Successfully registered user \"orgAuser\" in organization \"orgA\"\n",
    "Secret of user \"orgAuser\": \"syftizGMliAX\"\n",
    "***SECURITY NOTE***: The secret is normally not visible to the CA admin (i.e. the secret is *only* send to the user)!"
   ]
  },
  {
   "cell_type": "markdown",
   "id": "beeb0eb5-60ed-4a5f-836d-33662e2ea0bd",
   "metadata": {},
   "source": [
    "**Network provisioning**  \n",
    "The organization's Fabric admin uploads the IPFS private network configuration to the Fabric blockchain by using the command below on the Docker host (by using our IPFS smart contract):"
   ]
  },
  {
   "cell_type": "raw",
   "id": "814c8129-f602-414f-b081-4f784e985087",
   "metadata": {
    "tags": []
   },
   "source": [
    "Organization A:\n",
    "docker exec cli.orga.fabric.localhost peer chaincode invoke --peerAddresses peer0.orga.fabric.localhost:7051 --peerAddresses peer0.orgc.fabric.localhost:7051 -C 'consortium-chain' -n 'consortium-cc-ipfs' -c '{\"Args\":[\"IPFSContract:createNetwork\", \"pnet0\", \"/dns4/peer0.pnet0.orga.ipfs.localhost/tcp/4001/p2p/12D3KooWEq2SRZg8zYMjm3vp8G1xettJpZvjF62n58iJu7jhKdzm;/dns4/peer0.pnet0.orgb.ipfs.localhost/tcp/4001/p2p/12D3KooWLy5UaZMMR8rtvxHFa3L9LhvjWwdMBtP9e7BpHjvooiPD;/dns4/peer0.pnet0.orgc.ipfs.localhost/tcp/4001/p2p/12D3KooWByqyhou8Mj5YXTAojVE9TMLqkh6cKqDaEGX4HN5ML3PW\", \"/key/swarm/psk/1.0.0/\\n/base16/\\n63e8d44cb8d738ece5681d42dc918ff882cbe28458d81f64e764f95e3f77929f\", \"{\\\"https://cluster0.pnet0.orga.ipfs.localhost:9097\\\":{\\\"user\\\":\\\"orga\\\",\\\"password\\\":\\\"325298731aB2022aFF0964813762fC\\\"}}\", \"{\\\"Users\\\":{},\\\"MSPs\\\":{\\\"MSPorgA\\\":\\\"r\\\"}}\"]}' --tls true -o orderer0.consortium.orga.fabric.localhost:7050 --cafile /var/hyperledger/cli/crypto-orderer/tlsca.orga.fabric.localhost-cert.pem --tlsRootCertFiles /var/hyperledger/cli/crypto-peer/peer0.orga.fabric.localhost/tls/ca.crt --tlsRootCertFiles /var/hyperledger/cli/crypto-peer/peer0.orgc.fabric.localhost/tls/ca.crt"
   ]
  },
  {
   "cell_type": "raw",
   "id": "340b1f68-1085-4265-9059-341b97975e62",
   "metadata": {
    "tags": []
   },
   "source": [
    "Example of Provisioning 'pnet0' for Organization A:\n",
    "2022-06-03 14:54:05.182 UTC 0001 INFO [chaincodeCmd] chaincodeInvokeOrQuery -> Chaincode invoke successful. result: status:200 payload:\"{\\\"ACL\\\":{\\\"MSPs\\\":{\\\"MSPorgA\\\":\\\"r\\\"},\\\"Users\\\":{}},\\\"BootstrapNodes\\\":\\\"/dns4/peer0.pnet0.orga.ipfs.localhost/tcp/4001/p2p/12D3KooWEq2SRZg8zYMjm3vp8G1xettJpZvjF62n58iJu7jhKdzm;/dns4/peer0.pnet0.orgb.ipfs.localhost/tcp/4001/p2p/12D3KooWLy5UaZMMR8rtvxHFa3L9LhvjWwdMBtP9e7BpHjvooiPD;/dns4/peer0.pnet0.orgc.ipfs.localhost/tcp/4001/p2p/12D3KooWByqyhou8Mj5YXTAojVE9TMLqkh6cKqDaEGX4HN5ML3PW\\\",\\\"ClusterPinningService\\\":{\\\"https://cluster0.pnet0.orga.ipfs.localhost:9097\\\":{\\\"password\\\":\\\"325298731aB2022aFF0964813762fC\\\",\\\"user\\\":\\\"orga\\\"}},\\\"ID\\\":\\\"pnet0\\\",\\\"NetKey\\\":\\\"/key/swarm/psk/1.0.0/\\\\n/base16/\\\\n63e8d44cb8d738ece5681d42dc918ff882cbe28458d81f64e764f95e3f77929f\\\",\\\"Owner\\\":{\\\"ID\\\":\\\"orgadmin\\\",\\\"MSPId\\\":\\\"MSPorgA\\\"}}\""
   ]
  },
  {
   "cell_type": "raw",
   "id": "799e0de9-11e8-4156-a886-ef10cd27bb6e",
   "metadata": {},
   "source": [
    "Organization B:\n",
    "docker exec cli.orgb.fabric.localhost peer chaincode invoke --peerAddresses peer0.orgb.fabric.localhost:7051 --peerAddresses peer0.orgc.fabric.localhost:7051 -C 'consortium-chain' -n 'consortium-cc-ipfs' -c '{\"Args\":[\"IPFSContract:createNetwork\", \"pnet0\", \"/dns4/peer0.pnet0.orga.ipfs.localhost/tcp/4001/p2p/12D3KooWEq2SRZg8zYMjm3vp8G1xettJpZvjF62n58iJu7jhKdzm;/dns4/peer0.pnet0.orgb.ipfs.localhost/tcp/4001/p2p/12D3KooWLy5UaZMMR8rtvxHFa3L9LhvjWwdMBtP9e7BpHjvooiPD;/dns4/peer0.pnet0.orgc.ipfs.localhost/tcp/4001/p2p/12D3KooWByqyhou8Mj5YXTAojVE9TMLqkh6cKqDaEGX4HN5ML3PW\", \"/key/swarm/psk/1.0.0/\\n/base16/\\n63e8d44cb8d738ece5681d42dc918ff882cbe28458d81f64e764f95e3f77929f\", \"{\\\"https://cluster0.pnet0.orgb.ipfs.localhost:9097\\\":{\\\"user\\\":\\\"orgb\\\",\\\"password\\\":\\\"392449223fA2aAD134f53a8342F814\\\"}}\", \"{\\\"Users\\\":{},\\\"MSPs\\\":{\\\"MSPorgB\\\":\\\"r\\\"}}\"]}' --tls true -o orderer0.consortium.orgb.fabric.localhost:7050 --cafile /var/hyperledger/cli/crypto-orderer/tlsca.orgb.fabric.localhost-cert.pem --tlsRootCertFiles /var/hyperledger/cli/crypto-peer/peer0.orgb.fabric.localhost/tls/ca.crt --tlsRootCertFiles /var/hyperledger/cli/crypto-peer/peer0.orgc.fabric.localhost/tls/ca.crt"
   ]
  },
  {
   "cell_type": "raw",
   "id": "99a872cb-212a-4a90-b195-303c07c7dc2f",
   "metadata": {},
   "source": [
    "Organization C:\n",
    "docker exec cli.orgc.fabric.localhost peer chaincode invoke --peerAddresses peer0.orga.fabric.localhost:7051 --peerAddresses peer0.orgc.fabric.localhost:7051 -C 'consortium-chain' -n 'consortium-cc-ipfs' -c '{\"Args\":[\"IPFSContract:createNetwork\", \"pnet0\", \"/dns4/peer0.pnet0.orga.ipfs.localhost/tcp/4001/p2p/12D3KooWEq2SRZg8zYMjm3vp8G1xettJpZvjF62n58iJu7jhKdzm;/dns4/peer0.pnet0.orgb.ipfs.localhost/tcp/4001/p2p/12D3KooWLy5UaZMMR8rtvxHFa3L9LhvjWwdMBtP9e7BpHjvooiPD;/dns4/peer0.pnet0.orgc.ipfs.localhost/tcp/4001/p2p/12D3KooWByqyhou8Mj5YXTAojVE9TMLqkh6cKqDaEGX4HN5ML3PW\", \"/key/swarm/psk/1.0.0/\\n/base16/\\n63e8d44cb8d738ece5681d42dc918ff882cbe28458d81f64e764f95e3f77929f\", \"{\\\"https://cluster0.pnet0.orgc.ipfs.localhost:9097\\\":{\\\"user\\\":\\\"orgc\\\",\\\"password\\\":\\\"7342764f480A9feb8abd0F51463160\\\"}}\", \"{\\\"Users\\\":{},\\\"MSPs\\\":{\\\"MSPorgC\\\":\\\"r\\\"}}\"]}' --tls true -o orderer0.consortium.orgc.fabric.localhost:7050 --cafile /var/hyperledger/cli/crypto-orderer/tlsca.orgc.fabric.localhost-cert.pem --tlsRootCertFiles /var/hyperledger/cli/crypto-peer/peer0.orga.fabric.localhost/tls/ca.crt --tlsRootCertFiles /var/hyperledger/cli/crypto-peer/peer0.orgc.fabric.localhost/tls/ca.crt"
   ]
  },
  {
   "cell_type": "markdown",
   "id": "198cce41-229a-4f54-b54b-b9e11acf3846",
   "metadata": {
    "tags": []
   },
   "source": [
    "### Node.js module setup"
   ]
  },
  {
   "cell_type": "raw",
   "id": "c2d46125-3e81-47f7-a0c5-98efb4af6405",
   "metadata": {},
   "source": [
    "On the Docker host:\n",
    "cd ../src/jupyter/fabric-gw-client\n",
    "./build.sh\n",
    "cp dist/*.tgz to the work directory of this Jupyterlab instance (e.g. cp dist/*.tgz ../notebook/)"
   ]
  },
  {
   "cell_type": "code",
   "execution_count": 4,
   "id": "85b8d79e-38c7-4045-a359-30eca6d7a64e",
   "metadata": {
    "collapsed": true,
    "jupyter": {
     "outputs_hidden": true
    },
    "tags": []
   },
   "outputs": [
    {
     "name": "stdout",
     "output_type": "stream",
     "text": [
      "\u001b[K\u001b[?25h\u001b[37;40mnpm\u001b[0m \u001b[0m\u001b[30;43mWARN\u001b[0m \u001b[0m\u001b[35mdeprecated\u001b[0m querystring@0.2.0: The querystring API is considered Legacy. new code should use the URLSearchParams API instead.\n",
      "\u001b[K\u001b[?25h        \u001b[27m\u001b[90m......\u001b[0m] / install:@protobufjs/pool: \u001b[32minfo\u001b[0m \u001b[35mlifecycle\u001b[0m @protobufjs/poo\u001b[0m\u001b[K\u001b[K[0m\u001b[K\n",
      "> pkcs11js@1.3.0 install /home/jovyan/work/local/node_modules/pkcs11js\n",
      "> node-gyp rebuild\n",
      "\n",
      "make: Entering directory '/home/jovyan/work/local/node_modules/pkcs11js/build'\n",
      "  CXX(target) Release/obj.target/pkcs11/src/main.o\n",
      "In file included from \u001b[01m\u001b[K../../nan/nan.h:60\u001b[m\u001b[K,\n",
      "                 from \u001b[01m\u001b[K../src/main.cpp:1\u001b[m\u001b[K:\n",
      "\u001b[01m\u001b[K/home/jovyan/.cache/node-gyp/14.18.3/include/node/node.h:787:7:\u001b[m\u001b[K \u001b[01;35m\u001b[Kwarning: \u001b[m\u001b[Kcast between incompatible function types from '\u001b[01m\u001b[Kvoid (*)(Nan::ADDON_REGISTER_FUNCTION_ARGS_TYPE)\u001b[m\u001b[K' {aka '\u001b[01m\u001b[Kvoid (*)(v8::Local<v8::Object>)\u001b[m\u001b[K'} to '\u001b[01m\u001b[Knode::addon_register_func\u001b[m\u001b[K' {aka '\u001b[01m\u001b[Kvoid (*)(v8::Local<v8::Object>, v8::Local<v8::Value>, void*)\u001b[m\u001b[K'} [\u001b[01;35m\u001b[K\u001b]8;;https://gcc.gnu.org/onlinedocs/gcc/Warning-Options.html#index-Wcast-function-type\u0007-Wcast-function-type\u001b]8;;\u0007\u001b[m\u001b[K]\n",
      "  787 |       \u001b[01;35m\u001b[K(node::addon_register_func) (regfunc)\u001b[m\u001b[K,                          \\\n",
      "      |       \u001b[01;35m\u001b[K^~~~~~~~~~~~~~~~~~~~~~~~~~~~~~~~~~~~~\u001b[m\u001b[K\n",
      "\u001b[01m\u001b[K/home/jovyan/.cache/node-gyp/14.18.3/include/node/node.h:821:3:\u001b[m\u001b[K \u001b[01;36m\u001b[Knote: \u001b[m\u001b[Kin expansion of macro '\u001b[01m\u001b[KNODE_MODULE_X\u001b[m\u001b[K'\n",
      "  821 |   \u001b[01;36m\u001b[KNODE_MODULE_X\u001b[m\u001b[K(modname, regfunc, NULL, 0)  // NOLINT (readability/null_usage)\n",
      "      |   \u001b[01;36m\u001b[K^~~~~~~~~~~~~\u001b[m\u001b[K\n",
      "\u001b[01m\u001b[K../src/main.cpp:27:1:\u001b[m\u001b[K \u001b[01;36m\u001b[Knote: \u001b[m\u001b[Kin expansion of macro '\u001b[01m\u001b[KNODE_MODULE\u001b[m\u001b[K'\n",
      "   27 | \u001b[01;36m\u001b[KNODE_MODULE\u001b[m\u001b[K(pkcs11, init)\n",
      "      | \u001b[01;36m\u001b[K^~~~~~~~~~~\u001b[m\u001b[K\n",
      "  CXX(target) Release/obj.target/pkcs11/src/dl.o\n",
      "  CXX(target) Release/obj.target/pkcs11/src/const.o\n",
      "  CXX(target) Release/obj.target/pkcs11/src/pkcs11/error.o\n",
      "  CXX(target) Release/obj.target/pkcs11/src/pkcs11/v8_convert.o\n",
      "  CXX(target) Release/obj.target/pkcs11/src/pkcs11/template.o\n",
      "  CXX(target) Release/obj.target/pkcs11/src/pkcs11/mech.o\n",
      "  CXX(target) Release/obj.target/pkcs11/src/pkcs11/param.o\n",
      "  CXX(target) Release/obj.target/pkcs11/src/pkcs11/param_aes.o\n",
      "  CXX(target) Release/obj.target/pkcs11/src/pkcs11/param_rsa.o\n",
      "  CXX(target) Release/obj.target/pkcs11/src/pkcs11/param_ecdh.o\n",
      "  CXX(target) Release/obj.target/pkcs11/src/pkcs11/pkcs11.o\n",
      "  CXX(target) Release/obj.target/pkcs11/src/async.o\n",
      "  CXX(target) Release/obj.target/pkcs11/src/node.o\n",
      "  SOLINK_MODULE(target) Release/obj.target/pkcs11.node\n",
      "  COPY Release/pkcs11.node\n",
      "make: Leaving directory '/home/jovyan/work/local/node_modules/pkcs11js/build'\n",
      "\n",
      "> protobufjs@6.11.3 postinstall /home/jovyan/work/local/node_modules/protobufjs\n",
      "> node scripts/postinstall\n",
      "\n",
      "\u001b[K\u001b[?25h\u001b[37;40mnpm\u001b[0m \u001b[0m\u001b[30;43mWARN\u001b[0m \u001b[0m\u001b[35msaveError\u001b[0m ENOENT: no such file or directory, open '/home/jovyan/work/local/package.json'\n",
      "\u001b[0m\u001b[37;40mnpm\u001b[0m \u001b[0m\u001b[34;40mnotice\u001b[0m\u001b[35m\u001b[0m created a lockfile as package-lock.json. You should commit this file.\n",
      "\u001b[0m\u001b[37;40mnpm\u001b[0m \u001b[0m\u001b[30;43mWARN\u001b[0m \u001b[0m\u001b[35mnotsup\u001b[0m Unsupported engine for jc-fabricgw-client@1.0.0: wanted: {\"node\":\">=14\",\"npm\":\">=8.0.0\"} (current: {\"node\":\"14.18.3\",\"npm\":\"6.14.15\"})\n",
      "\u001b[0m\u001b[37;40mnpm\u001b[0m \u001b[0m\u001b[30;43mWARN\u001b[0m \u001b[0m\u001b[35mnotsup\u001b[0m Not compatible with your version of node/npm: jc-fabricgw-client@1.0.0\n",
      "\u001b[0m\u001b[37;40mnpm\u001b[0m \u001b[0m\u001b[30;43mWARN\u001b[0m \u001b[0m\u001b[35menoent\u001b[0m ENOENT: no such file or directory, open '/home/jovyan/work/local/package.json'\n",
      "\u001b[0m\u001b[37;40mnpm\u001b[0m \u001b[0m\u001b[30;43mWARN\u001b[0m\u001b[35m\u001b[0m local No description\n",
      "\u001b[0m\u001b[37;40mnpm\u001b[0m \u001b[0m\u001b[30;43mWARN\u001b[0m\u001b[35m\u001b[0m local No repository field.\n",
      "\u001b[0m\u001b[37;40mnpm\u001b[0m \u001b[0m\u001b[30;43mWARN\u001b[0m\u001b[35m\u001b[0m local No README data\n",
      "\u001b[0m\u001b[37;40mnpm\u001b[0m \u001b[0m\u001b[30;43mWARN\u001b[0m\u001b[35m\u001b[0m local No license field.\n",
      "\u001b[0m\n",
      "+ jc-fabricgw-client@1.0.0\n",
      "added 93 packages from 129 contributors and audited 93 packages in 39.257s\n",
      "\n",
      "12 packages are looking for funding\n",
      "  run `npm fund` for details\n",
      "\n",
      "found \u001b[92m0\u001b[0m vulnerabilities\n",
      "\n",
      "\u001b[K\u001b[?25h7m            \u001b[27m\u001b[90m......\u001b[0m] \\ postinstall: \u001b[7msill\u001b[0m \u001b[35minstall\u001b[0m printInstalled\u001b[0m\u001b[K"
     ]
    }
   ],
   "source": [
    "!npm install --only=prod ./*.tgz"
   ]
  },
  {
   "cell_type": "markdown",
   "id": "ceab6fee-ed83-4846-8c41-6140d18254f0",
   "metadata": {},
   "source": [
    "#### Switch to JavaScript/Node.js Jupyter kernel and import the module"
   ]
  },
  {
   "cell_type": "code",
   "execution_count": 1,
   "id": "3f010d54-c5ab-4b33-834a-8cb80da9976a",
   "metadata": {},
   "outputs": [],
   "source": [
    "const fabric = require('jc-fabricgw-client');"
   ]
  },
  {
   "cell_type": "markdown",
   "id": "38fccfa8-0f84-43a2-908a-978bf25ae72d",
   "metadata": {
    "tags": []
   },
   "source": [
    "### Configuration\n",
    "We use a configuration file to configure our connection to the Fabric blockchain (using the Fabric Gateway service that was added in Fabric version 2.4). "
   ]
  },
  {
   "cell_type": "code",
   "execution_count": 2,
   "id": "4b133120-cadb-41b2-8eae-0808aa187fa0",
   "metadata": {},
   "outputs": [
    {
     "name": "stdout",
     "output_type": "stream",
     "text": [
      "Configuration File: ./fabric-client-config.yaml\n"
     ]
    },
    {
     "data": {
      "text/plain": [
       "Promise { <pending> }"
      ]
     },
     "execution_count": 2,
     "metadata": {},
     "output_type": "execute_result"
    }
   ],
   "source": [
    "let config;\n",
    "fabric.getConfig('./fabric-client-config.yaml').then((result) => {config = result;}); // promises/async in IJavascript: https://github.com/n-riesco/ijavascript/issues/268"
   ]
  },
  {
   "cell_type": "code",
   "execution_count": 3,
   "id": "69bcca63-9a9f-4d38-bd9f-30c066fed289",
   "metadata": {
    "tags": []
   },
   "outputs": [
    {
     "name": "stdout",
     "output_type": "stream",
     "text": [
      "{\n",
      "  organization: 'orgA',\n",
      "  mspId: 'MSPorgA',\n",
      "  identity: 'orgAuser',\n",
      "  idCertFile: './id/orgAuser.crt',\n",
      "  idKeyFile: './id/orgAuser.key',\n",
      "  caEndpoint: 'https://ca.orga.fabric.localhost:7054',\n",
      "  caTlsCertFile: '../crypto-config/fabric/peerOrganizations/orga.fabric.localhost/ca/ca.orga.fabric.localhost-cert.pem',\n",
      "  caName: 'ca.orga.fabric.localhost',\n",
      "  gatewayEndpoint: 'peer0.orga.fabric.localhost:7051',\n",
      "  gatewayTlsCertFile: '../crypto-config/fabric/peerOrganizations/orga.fabric.localhost/peers/peer0.orga.fabric.localhost/tls/ca.crt',\n",
      "  gatewayHostAlias: 'peer0.orga.fabric.localhost',\n",
      "  channel: 'consortium-chain',\n",
      "  chaincode: 'consortium-cc-ipfs'\n",
      "}\n"
     ]
    }
   ],
   "source": [
    "console.log(config);"
   ]
  },
  {
   "cell_type": "markdown",
   "id": "40488c1a-1432-4bc3-9b2d-8a4c29da3d3c",
   "metadata": {},
   "source": [
    "#### User enrollment\n",
    "We have to enroll our previously registered user identity (i.e. generate our public/private key pair). Note that our credentials are stored on the storage of the JupyterLab backend."
   ]
  },
  {
   "cell_type": "code",
   "execution_count": 4,
   "id": "ec717377-af1b-4d5b-9f4e-a90f6771eaee",
   "metadata": {},
   "outputs": [
    {
     "name": "stdout",
     "output_type": "stream",
     "text": [
      " Enrolling... \n"
     ]
    },
    {
     "data": {
      "text/plain": [
       "Promise { <pending> }"
      ]
     },
     "execution_count": 4,
     "metadata": {},
     "output_type": "execute_result"
    },
    {
     "name": "stdout",
     "output_type": "stream",
     "text": [
      "Enrollment complete!\n"
     ]
    }
   ],
   "source": [
    "const CAregisterSecret = 'syftizGMliAX';\n",
    "fabric.execEnroll(config, CAregisterSecret);"
   ]
  },
  {
   "cell_type": "markdown",
   "id": "b76695fb-b08d-4c53-9421-e4fed65adaa4",
   "metadata": {
    "tags": []
   },
   "source": [
    "#### Set up the connection to the Fabric gateway peer\n",
    "Now that we have set up the configuration and our identity, we can connect to Fabric. Note that our configuration specifies the Fabric Gateway endpoint we want to connect to, the channel/chain/network, and the smart contract we want to use."
   ]
  },
  {
   "cell_type": "code",
   "execution_count": 4,
   "id": "e7a87427-9b5f-449d-b2bb-1937df014c41",
   "metadata": {},
   "outputs": [
    {
     "data": {
      "text/plain": [
       "Promise { <pending> }"
      ]
     },
     "execution_count": 4,
     "metadata": {},
     "output_type": "execute_result"
    }
   ],
   "source": [
    "let connectionDetails;\n",
    "fabric.createConnection(config).then((result) => {connectionDetails = result;});"
   ]
  },
  {
   "cell_type": "code",
   "execution_count": 5,
   "id": "f6677506-1789-42c1-b3bf-1c19f2061102",
   "metadata": {
    "collapsed": true,
    "jupyter": {
     "outputs_hidden": true
    },
    "scrolled": true,
    "tags": []
   },
   "outputs": [
    {
     "name": "stdout",
     "output_type": "stream",
     "text": [
      "{\n",
      "  gRpcClient: Client {\n",
      "    [Symbol()]: [],\n",
      "    [Symbol()]: [],\n",
      "    [Symbol()]: undefined,\n",
      "    [Symbol()]: ChannelImplementation {\n",
      "      credentials: [SecureChannelCredentialsImpl],\n",
      "      options: [Object],\n",
      "      connectivityState: 0,\n",
      "      currentPicker: [QueuePicker],\n",
      "      configSelectionQueue: [],\n",
      "      pickQueue: [],\n",
      "      connectivityStateWatchers: [],\n",
      "      configSelector: null,\n",
      "      currentResolutionError: null,\n",
      "      channelzEnabled: true,\n",
      "      callTracker: [ChannelzCallTracker],\n",
      "      childrenTracker: [ChannelzChildrenTracker],\n",
      "      originalTarget: 'peer0.orga.fabric.localhost:7051',\n",
      "      callRefTimer: Timeout {\n",
      "        _idleTimeout: 2147483647,\n",
      "        _idlePrev: [TimersList],\n",
      "        _idleNext: [TimersList],\n",
      "        _idleStart: 40360,\n",
      "        _onTimeout: [Function (anonymous)],\n",
      "        _timerArgs: undefined,\n",
      "        _repeat: 2147483647,\n",
      "        _destroyed: false,\n",
      "        [Symbol(refed)]: false,\n",
      "        [Symbol(kHasPrimitive)]: false,\n",
      "        [Symbol(asyncId)]: 35,\n",
      "        [Symbol(triggerId)]: 0\n",
      "      },\n",
      "      channelzTrace: [ChannelzTrace],\n",
      "      channelzRef: [Object],\n",
      "      defaultAuthority: 'peer0.orga.fabric.localhost:7051',\n",
      "      target: [Object],\n",
      "      subchannelPool: [SubchannelPool],\n",
      "      resolvingLoadBalancer: [ResolvingLoadBalancer],\n",
      "      filterStackFactory: [FilterStackFactory]\n",
      "    }\n",
      "  },\n",
      "  gateway: GatewayImpl {},\n",
      "  contract: ContractImpl {}\n",
      "}\n"
     ]
    }
   ],
   "source": [
    "console.log(connectionDetails);"
   ]
  },
  {
   "cell_type": "markdown",
   "id": "9c29d0cc-ce57-4ac0-8821-471868749549",
   "metadata": {},
   "source": [
    "#### Configure IPFS\n",
    "Get the configuration for our local IPFS node from our Fabric blockchain (i.e. the IPFS networks we have access to and their related IPFS bootstrap nodes and network key). We will use the IPFS client Python module in the [IPFS notebook](./IPFS.ipynb#Join-the-IPFS-network) to interact with IPFS."
   ]
  },
  {
   "cell_type": "code",
   "execution_count": 6,
   "id": "76c8aa64-1b1d-4560-b9f2-ce8ccf720c6a",
   "metadata": {},
   "outputs": [
    {
     "data": {
      "text/plain": [
       "Promise { <pending> }"
      ]
     },
     "execution_count": 6,
     "metadata": {},
     "output_type": "execute_result"
    }
   ],
   "source": [
    "let networks;\n",
    "fabric.listAllNetworks(connectionDetails.contract, 'MSPorgA').then((result) => {networks = result;});"
   ]
  },
  {
   "cell_type": "code",
   "execution_count": 7,
   "id": "6445957f-50ee-497f-adcd-fa415de62da6",
   "metadata": {},
   "outputs": [
    {
     "name": "stdout",
     "output_type": "stream",
     "text": [
      "[{\"ACL\":{\"MSPs\":{\"MSPorgA\":\"r\"},\"Users\":{}},\"BootstrapNodes\":\"/dns4/peer0.pnet0.orga.ipfs.localhost/tcp/4001/p2p/12D3KooWEq2SRZg8zYMjm3vp8G1xettJpZvjF62n58iJu7jhKdzm;/dns4/peer0.pnet0.orgb.ipfs.localhost/tcp/4001/p2p/12D3KooWLy5UaZMMR8rtvxHFa3L9LhvjWwdMBtP9e7BpHjvooiPD;/dns4/peer0.pnet0.orgc.ipfs.localhost/tcp/4001/p2p/12D3KooWByqyhou8Mj5YXTAojVE9TMLqkh6cKqDaEGX4HN5ML3PW\",\"ClusterPinningService\":{\"https://cluster0.pnet0.orga.ipfs.localhost:9097\":{\"password\":\"325298731aB2022aFF0964813762fC\",\"user\":\"orga\"}},\"ID\":\"pnet0\",\"NetKey\":\"/key/swarm/psk/1.0.0/\\n/base16/\\n63e8d44cb8d738ece5681d42dc918ff882cbe28458d81f64e764f95e3f77929f\",\"Owner\":{\"ID\":\"orgadmin\",\"MSPId\":\"MSPorgA\"}}]\n"
     ]
    }
   ],
   "source": [
    "console.log(networks);\n",
    "for (const net of networks) {\n",
    "  console.log(JSON.parse(net));\n",
    "}"
   ]
  },
  {
   "cell_type": "markdown",
   "id": "c6b29d73-5afd-4851-b86c-6d38f89d4cdb",
   "metadata": {},
   "source": [
    "### Add a data description\n",
    "After having [added](./IPFS.ipynb#Add-a-file) a file via IPFS, we will upload its metadata to Fabric via our smart contract. Note that we give access to all users of Organization C (Fabric identities belonging to MSP 'MSPorgC')."
   ]
  },
  {
   "cell_type": "code",
   "execution_count": 1,
   "id": "72f48096-807f-45c5-8265-6a59c513b584",
   "metadata": {},
   "outputs": [
    {
     "ename": "ReferenceError",
     "evalue": "fabric is not defined",
     "execution_count": 1,
     "output_type": "error",
     "traceback": [
      "evalmachine.<anonymous>:9",
      "fabric.createData(connectionDetails.contract, filename, network, cid, cipher, cryptKey, chunkSize, acl).then((result) => {addDataDescr = result;});",
      "^",
      "",
      "ReferenceError: fabric is not defined",
      "    at evalmachine.<anonymous>:9:1",
      "    at Script.runInThisContext (vm.js:134:12)",
      "    at Object.runInThisContext (vm.js:310:38)",
      "    at run ([eval]:1020:15)",
      "    at onRunRequest ([eval]:864:18)",
      "    at onMessage ([eval]:828:13)",
      "    at process.emit (events.js:400:28)",
      "    at emit (internal/child_process.js:912:12)",
      "    at processTicksAndRejections (internal/process/task_queues.js:83:21)"
     ]
    }
   ],
   "source": [
    "let filename = 'testorga.txt';\n",
    "let network = 'pnet0';\n",
    "let cid = 'QmQGtBqmztM5KtUCkWWXYooobJhxWfKRZrvUtmXgQxx4Ch';\n",
    "let cipher = 'ChaCha20';\n",
    "let cryptKey = 'EDBNNOs1dDeKXk4Id+XCqg+di/26cm3DR1I5X+Nl//o=';\n",
    "let chunkSize = '10485760';\n",
    "let acl = '{\"Users\":{},\"MSPs\":{\"MSPorgC\":\"r\"}}';\n",
    "let addDataDescr;\n",
    "fabric.createData(connectionDetails.contract, filename, network, cid, cipher, cryptKey, chunkSize, acl).then((result) => {addDataDescr = result;});"
   ]
  },
  {
   "cell_type": "code",
   "execution_count": 7,
   "id": "01958a52-8ba2-49ca-b8eb-f9c261bbc187",
   "metadata": {},
   "outputs": [
    {
     "name": "stdout",
     "output_type": "stream",
     "text": [
      "undefined\n"
     ]
    }
   ],
   "source": [
    "console.log(addDataDescr);\n",
    "console.log(JSON.parse(addDataDescr));"
   ]
  },
  {
   "cell_type": "markdown",
   "id": "6215b3bb-a347-48a3-a93a-3da2277c770f",
   "metadata": {},
   "source": [
    "### Retrieve a data description\n",
    "We can retrieve a file's metadata from our Fabric channel/blockchain, provided we know its name and we have been granted access by the file's owner via the smart contract. Once we have obtained the metadata, we can then pass it to IPFS to [download](./IPFS.ipynb#Retrieve-a-file) the file itself."
   ]
  },
  {
   "cell_type": "code",
   "execution_count": 8,
   "id": "8888646c-382c-44e8-bd74-113bc7f09de4",
   "metadata": {
    "tags": []
   },
   "outputs": [
    {
     "data": {
      "text/plain": [
       "Promise { <pending> }"
      ]
     },
     "execution_count": 8,
     "metadata": {},
     "output_type": "execute_result"
    }
   ],
   "source": [
    "let key = 'orgAuser@MSPorgA/testorga.txt';\n",
    "let retrieveDataDescr;\n",
    "fabric.readData(connectionDetails.contract, key).then((result) => {retrieveDataDescr = result;});"
   ]
  },
  {
   "cell_type": "code",
   "execution_count": 14,
   "id": "1310e8df-3a1d-4ab2-9f2e-41473cd0ad1d",
   "metadata": {},
   "outputs": [
    {
     "name": "stdout",
     "output_type": "stream",
     "text": [
      "{\"ACL\":{\"MSPs\":{\"MSPorgC\":\"r\"},\"Users\":{}},\"CID\":\"QmQGtBqmztM5KtUCkWWXYooobJhxWfKRZrvUtmXgQxx4Ch\",\"ChunkSize\":\"10485760\",\"CryptCipher\":\"ChaCha20\",\"CryptKey\":\"EDBNNOs1dDeKXk4Id+XCqg+di/26cm3DR1I5X+Nl//o=\",\"ID\":\"testorga.txt\",\"NetworkId\":\"pnet0\",\"Owner\":{\"ID\":\"orgAuser\",\"MSPId\":\"MSPorgA\"}}\n",
      "{\n",
      "  ACL: { MSPs: { MSPorgC: 'r' }, Users: {} },\n",
      "  CID: 'QmQGtBqmztM5KtUCkWWXYooobJhxWfKRZrvUtmXgQxx4Ch',\n",
      "  ChunkSize: '10485760',\n",
      "  CryptCipher: 'ChaCha20',\n",
      "  CryptKey: 'EDBNNOs1dDeKXk4Id+XCqg+di/26cm3DR1I5X+Nl//o=',\n",
      "  ID: 'testorga.txt',\n",
      "  NetworkId: 'pnet0',\n",
      "  Owner: { ID: 'orgAuser', MSPId: 'MSPorgA' }\n",
      "}\n"
     ]
    }
   ],
   "source": [
    "console.log(retrieveDataDescr);\n",
    "console.log(JSON.parse(retrieveDataDescr));"
   ]
  },
  {
   "cell_type": "raw",
   "id": "17ecf690-47b6-46ff-a75e-2209513df4d3",
   "metadata": {},
   "source": [
    "Example of trying to retrieve the data description above using a user from organization B (who is not located in the ACL):\n"
   ]
  },
  {
   "cell_type": "markdown",
   "id": "94f4e24b-8fa4-46ff-b433-04b7e30c5f8f",
   "metadata": {},
   "source": [
    "### List data descriptions\n",
    "We can also list all the data descriptions, that we have access to, for the specified user:"
   ]
  },
  {
   "cell_type": "code",
   "execution_count": null,
   "id": "08b31b2c-cffa-468f-b91f-716919bedad7",
   "metadata": {},
   "outputs": [],
   "source": [
    "let key = 'orgAuser@MSPorgA';\n",
    "let listDataDescr;\n",
    "fabric.listAllData(connectionDetails.contract, key).then((result) => {listDataDescr = result;});"
   ]
  },
  {
   "cell_type": "code",
   "execution_count": null,
   "id": "2969f29f-21da-4f2d-ad80-d7c510891c74",
   "metadata": {},
   "outputs": [],
   "source": [
    "console.log(listDataDescr);\n",
    "for (const dataDescr of listDataDescr) {\n",
    "  console.log(JSON.parse(dataDescr));\n",
    "}"
   ]
  },
  {
   "cell_type": "markdown",
   "id": "32cda859-0dc2-48d9-b7b1-1192a0445ddc",
   "metadata": {},
   "source": [
    "### Delete a data description\n",
    "We can delete a file's metadata from our Fabric channel/blockchain, provided we know its name and we have permission to do so (because we are the data description's owner or have write access)."
   ]
  },
  {
   "cell_type": "code",
   "execution_count": null,
   "id": "03b19d50-4c33-4235-8271-13bea2a6d853",
   "metadata": {},
   "outputs": [],
   "source": [
    "let key = 'orgAuser@MSPorgA/testorga.txt';\n",
    "let delDataDescr;\n",
    "fabric.deleteData(connectionDetails.contract, key).then((result) => {delDataDescr = result;});"
   ]
  },
  {
   "cell_type": "code",
   "execution_count": null,
   "id": "5f4df8a9-76ee-4269-842c-4009695de545",
   "metadata": {},
   "outputs": [],
   "source": [
    "console.log(delDataDescr);"
   ]
  },
  {
   "cell_type": "markdown",
   "id": "6e72c57b-7a89-4213-babc-587e67c4c93e",
   "metadata": {
    "tags": []
   },
   "source": [
    "#### Close the Fabric connection"
   ]
  },
  {
   "cell_type": "code",
   "execution_count": 9,
   "id": "1304c90b-fe92-4901-91b4-7649012e8779",
   "metadata": {
    "tags": []
   },
   "outputs": [
    {
     "data": {
      "text/plain": [
       "Promise { undefined }"
      ]
     },
     "execution_count": 9,
     "metadata": {},
     "output_type": "execute_result"
    }
   ],
   "source": [
    "fabric.closeConnection(connectionDetails.gateway, connectionDetails.gRpcClient);"
   ]
  }
 ],
 "metadata": {
  "kernelspec": {
   "display_name": "JavaScript (Node.js)",
   "language": "javascript",
   "name": "javascript"
  },
  "language_info": {
   "file_extension": ".js",
   "mimetype": "application/javascript",
   "name": "javascript",
   "version": "14.18.3"
  },
  "toc-autonumbering": false,
  "toc-showcode": false,
  "toc-showmarkdowntxt": false,
  "toc-showtags": false
 },
 "nbformat": 4,
 "nbformat_minor": 5
}
