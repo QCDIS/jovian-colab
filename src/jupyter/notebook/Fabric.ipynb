{
 "cells": [
  {
   "cell_type": "markdown",
   "id": "acdfcd29",
   "metadata": {
    "tags": []
   },
   "source": [
    "## Fabric Gateway Client\n",
    "This notebook interacts with our Hyperledger Fabric blockchain, using our JavaScript module, as to simulate a Jupyter extension (i.e. the frontend).\n",
    "Note that the code is executed on the backend (using a Jupyter kernel), whereas a Jupyter extension would run this code on the frontend (i.e. the web browser). This has two major consequences:\n",
    "- the traffic between this client and Fabric will occur via the backend (i.e. IP routing, DNS, TLS, etc. will take place within that context);\n",
    "- and the user's private key is generated and stored on the backend (rather than never leaving the web browser's memory). As long as JupyterLab is executed on the *same* system (e.g. your laptop) this does not matter (both the backend and frontend are running on the same host), but be aware when tunneling JupyterLab."
   ]
  },
  {
   "cell_type": "markdown",
   "id": "0ad33d81",
   "metadata": {
    "tags": []
   },
   "source": [
    "#### Admin tasks\n",
    "The organization's (Fabric and IPFS) administrator has to register a user and provision the IPFS network configuration."
   ]
  },
  {
   "cell_type": "markdown",
   "id": "f470210d",
   "metadata": {
    "tags": []
   },
   "source": [
    "**User registration**  \n",
    "The organization's Fabric CA admin registers user by using the command below on the Docker host (which will use our Fabric CA client application). **Note the user's (enroll) secret!**"
   ]
  },
  {
   "cell_type": "markdown",
   "id": "55b61738-5aed-4303-a070-d5bc3be20b8d",
   "metadata": {},
   "source": [
    "Organization A:  \n",
    "docker exec -it ca-client.fabric.localhost ./registerUser.js --profile ../connection-profiles/connection-profile-orga.yaml --org orgA --user orgAuser\n",
    "Organization B:  \n",
    "docker exec -it ca-client.fabric.localhost ./registerUser.js --profile ../connection-profiles/connection-profile-orgb.yaml --org orgB --user orgBuser\n",
    "Organization C:  \n",
    "docker exec -it ca-client.fabric.localhost ./registerUser.js --profile ../connection-profiles/connection-profile-orgc.yaml --org orgC --user orgCuser"
   ]
  },
  {
   "cell_type": "markdown",
   "id": "0ef65558-2cc0-441e-9c02-d88ca19fcb53",
   "metadata": {
    "tags": []
   },
   "source": [
    "Example of registering a user for Organization A:\n",
    " --- Fabric CA Client Application --- \n",
    "Existing wallet found at \"./wallet\"\n",
    "Registering user \"orgAuser\" in organization \"orgA\"\n",
    "An identity for the CA admin user \"admin\" of organization \"orgA\" does not exists in the wallet\n",
    "Enrolling CA admin user \"admin\" of organization \"orgA\"\n",
    "CA admin user password? adminpw\n",
    "Successfully enrolled the CA admin user \"admin\" of organization \"orgA\"\n",
    "Successfully imported identity of CA admin user \"admin\" of organization \"orgA\" into the wallet\n",
    "Successfully registered user \"orgAuser\" in organization \"orgA\"\n",
    "Secret of user \"orgAuser\": \"YkrxexUdIenO\"\n",
    "***SECURITY NOTE***: The secret is normally not visible to the CA operator (i.e. the secret is *only* send to the user)!"
   ]
  },
  {
   "cell_type": "markdown",
   "id": "a951f584",
   "metadata": {},
   "source": [
    "**Network provisioning**  \n",
    "The organization's Fabric admin uploads the IPFS private network configuration to the Fabric blockchain by using the command below on the Docker host (by using our IPFS smart contract). Note that we have to provision the addresses (in the 'multiaddr' format) of the IPFS bootstrap nodes and relays. E.g. a relay's address can be obtained via 'docker logs relay0.pnet0.orga.ipfs.localhost'."
   ]
  },
  {
   "cell_type": "markdown",
   "id": "42112523-50af-45dd-8c0a-b8539106f14b",
   "metadata": {
    "tags": []
   },
   "source": [
    "Organization A:\n",
    "docker exec cli.orga.fabric.localhost peer chaincode invoke --peerAddresses peer0.orga.fabric.localhost:7051 --peerAddresses peer0.orgc.fabric.localhost:7051 -C 'consortium-chain' -n 'consortium-cc-ipfs' -c '{\"Args\":[\"IPFSContract:createNetwork\", \"pnet0\", \"/dns4/peer0.pnet0.orga.ipfs.localhost/tcp/4001/p2p/12D3KooWCLVuku1xQZLfhwn4UkkR9mFWw1bDeVJ2XVpwzEpvC5JV;/dns4/peer0.pnet0.orgb.ipfs.localhost/tcp/4001/p2p/12D3KooWFJ4XnjSowo6nCTiMPKaNLXrsDakkM5RQiPpZdDSp4uZM;/dns4/peer0.pnet0.orgc.ipfs.localhost/tcp/4001/p2p/12D3KooWNB1Sww8vDHxhg8rtiNc1Ra26ECT3nS7URVbLUkhpZ6fB\", \"/key/swarm/psk/1.0.0/\\n/base16/\\n63e8d44cb8d738ece5681d42dc918ff882cbe28458d81f64e764f95e3f77929f\", \"{\\\"https://cluster0.pnet0.orga.ipfs.localhost:9097\\\":{\\\"user\\\":\\\"orga\\\",\\\"password\\\":\\\"325298731aB2022aFF0964813762fC\\\"}}\", \"/dns4/relay0.pnet0.orga.ipfs.localhost/tcp/4002/p2p/12D3KooWRsg23DzqhXgt7yfzVf2fs3PPHrRmt6e49p94CgTNcXmh\", \"{\\\"Users\\\":{},\\\"MSPs\\\":{\\\"MSPorgA\\\":\\\"r\\\"}}\"]}' --tls true -o orderer0.consortium.orga.fabric.localhost:7050 --cafile /var/hyperledger/cli/crypto-orderer/tlsca.orga.fabric.localhost-cert.pem --tlsRootCertFiles /var/hyperledger/cli/crypto-peer/peer0.orga.fabric.localhost/tls/ca.crt --tlsRootCertFiles /var/hyperledger/cli/crypto-peer/peer0.orgc.fabric.localhost/tls/ca.crt"
   ]
  },
  {
   "cell_type": "markdown",
   "id": "1a7708bb-1b3e-4c27-94e7-7a78fe66cf1d",
   "metadata": {
    "tags": []
   },
   "source": [
    "Example of Provisioning 'pnet0' for Organization A:\n",
    "2022-08-14 14:36:17.590 UTC 0001 INFO [chaincodeCmd] chaincodeInvokeOrQuery -> Chaincode invoke successful. result: status:200 payload:\"{\\\"ACL\\\":{\\\"MSPs\\\":{\\\"MSPorgA\\\":\\\"r\\\"},\\\"Users\\\":{}},\\\"BootstrapNodes\\\":\\\"/dns4/peer0.pnet0.orga.ipfs.localhost/tcp/4001/p2p/12D3KooWCLVuku1xQZLfhwn4UkkR9mFWw1bDeVJ2XVpwzEpvC5JV;/dns4/peer0.pnet0.orgb.ipfs.localhost/tcp/4001/p2p/12D3KooWFJ4XnjSowo6nCTiMPKaNLXrsDakkM5RQiPpZdDSp4uZM;/dns4/peer0.pnet0.orgc.ipfs.localhost/tcp/4001/p2p/12D3KooWNB1Sww8vDHxhg8rtiNc1Ra26ECT3nS7URVbLUkhpZ6fB\\\",\\\"ClusterPinningService\\\":{\\\"https://cluster0.pnet0.orga.ipfs.localhost:9097\\\":{\\\"password\\\":\\\"325298731aB2022aFF0964813762fC\\\",\\\"user\\\":\\\"orga\\\"}},\\\"ID\\\":\\\"pnet0\\\",\\\"NetKey\\\":\\\"/key/swarm/psk/1.0.0/\\\\n/base16/\\\\n63e8d44cb8d738ece5681d42dc918ff882cbe28458d81f64e764f95e3f77929f\\\",\\\"Owner\\\":{\\\"ID\\\":\\\"orgadmin\\\",\\\"MSPId\\\":\\\"MSPorgA\\\"},\\\"Relays\\\":\\\"/dns4/relay0.pnet0.orga.ipfs.localhost/tcp/4002/p2p/12D3KooWRsg23DzqhXgt7yfzVf2fs3PPHrRmt6e49p94CgTNcXmh\\\"}\" "
   ]
  },
  {
   "cell_type": "markdown",
   "id": "0dd1edbf-f22e-492e-86f7-b2604e9b48dd",
   "metadata": {},
   "source": [
    "Organization B:\n",
    "docker exec cli.orgb.fabric.localhost peer chaincode invoke --peerAddresses peer0.orgb.fabric.localhost:7051 --peerAddresses peer0.orgc.fabric.localhost:7051 -C 'consortium-chain' -n 'consortium-cc-ipfs' -c '{\"Args\":[\"IPFSContract:createNetwork\", \"pnet0\", \"/dns4/peer0.pnet0.orga.ipfs.localhost/tcp/4001/p2p/12D3KooWCLVuku1xQZLfhwn4UkkR9mFWw1bDeVJ2XVpwzEpvC5JV;/dns4/peer0.pnet0.orgb.ipfs.localhost/tcp/4001/p2p/12D3KooWFJ4XnjSowo6nCTiMPKaNLXrsDakkM5RQiPpZdDSp4uZM;/dns4/peer0.pnet0.orgc.ipfs.localhost/tcp/4001/p2p/12D3KooWNB1Sww8vDHxhg8rtiNc1Ra26ECT3nS7URVbLUkhpZ6fB\", \"/key/swarm/psk/1.0.0/\\n/base16/\\n63e8d44cb8d738ece5681d42dc918ff882cbe28458d81f64e764f95e3f77929f\", \"{\\\"https://cluster0.pnet0.orgb.ipfs.localhost:9097\\\":{\\\"user\\\":\\\"orgb\\\",\\\"password\\\":\\\"392449223fA2aAD134f53a8342F814\\\"}}\", \"/dns4/relay0.pnet0.orga.ipfs.localhost/tcp/4002/p2p/12D3KooWRsg23DzqhXgt7yfzVf2fs3PPHrRmt6e49p94CgTNcXmh\", \"{\\\"Users\\\":{},\\\"MSPs\\\":{\\\"MSPorgB\\\":\\\"r\\\"}}\"]}' --tls true -o orderer0.consortium.orgb.fabric.localhost:7050 --cafile /var/hyperledger/cli/crypto-orderer/tlsca.orgb.fabric.localhost-cert.pem --tlsRootCertFiles /var/hyperledger/cli/crypto-peer/peer0.orgb.fabric.localhost/tls/ca.crt --tlsRootCertFiles /var/hyperledger/cli/crypto-peer/peer0.orgc.fabric.localhost/tls/ca.crt"
   ]
  },
  {
   "cell_type": "markdown",
   "id": "f11ca717-e435-439d-8cbc-50acfc6a4746",
   "metadata": {},
   "source": [
    "Organization C:\n",
    "docker exec cli.orgc.fabric.localhost peer chaincode invoke --peerAddresses peer0.orga.fabric.localhost:7051 --peerAddresses peer0.orgc.fabric.localhost:7051 -C 'consortium-chain' -n 'consortium-cc-ipfs' -c '{\"Args\":[\"IPFSContract:createNetwork\", \"pnet0\", \"/dns4/peer0.pnet0.orga.ipfs.localhost/tcp/4001/p2p/12D3KooWCLVuku1xQZLfhwn4UkkR9mFWw1bDeVJ2XVpwzEpvC5JV;/dns4/peer0.pnet0.orgb.ipfs.localhost/tcp/4001/p2p/12D3KooWFJ4XnjSowo6nCTiMPKaNLXrsDakkM5RQiPpZdDSp4uZM;/dns4/peer0.pnet0.orgc.ipfs.localhost/tcp/4001/p2p/12D3KooWNB1Sww8vDHxhg8rtiNc1Ra26ECT3nS7URVbLUkhpZ6fB\", \"/key/swarm/psk/1.0.0/\\n/base16/\\n63e8d44cb8d738ece5681d42dc918ff882cbe28458d81f64e764f95e3f77929f\", \"{\\\"https://cluster0.pnet0.orgc.ipfs.localhost:9097\\\":{\\\"user\\\":\\\"orgc\\\",\\\"password\\\":\\\"7342764f480A9feb8abd0F51463160\\\"}}\", \"/dns4/relay0.pnet0.orga.ipfs.localhost/tcp/4002/p2p/12D3KooWRsg23DzqhXgt7yfzVf2fs3PPHrRmt6e49p94CgTNcXmh\", \"{\\\"Users\\\":{},\\\"MSPs\\\":{\\\"MSPorgC\\\":\\\"r\\\"}}\"]}' --tls true -o orderer0.consortium.orgc.fabric.localhost:7050 --cafile /var/hyperledger/cli/crypto-orderer/tlsca.orgc.fabric.localhost-cert.pem --tlsRootCertFiles /var/hyperledger/cli/crypto-peer/peer0.orga.fabric.localhost/tls/ca.crt --tlsRootCertFiles /var/hyperledger/cli/crypto-peer/peer0.orgc.fabric.localhost/tls/ca.crt"
   ]
  },
  {
   "cell_type": "markdown",
   "id": "0454f4ad",
   "metadata": {
    "tags": []
   },
   "source": [
    "### Node.js module setup\n",
    "Load our Fabric client Node.js module and initialize all the variables (we set all these variables here so we can easily re-run our code/cells)."
   ]
  },
  {
   "cell_type": "code",
   "execution_count": 1,
   "id": "6c77ac3b",
   "metadata": {},
   "outputs": [],
   "source": [
    "const fabric = require('/opt/conda/lib/node_modules/jc-fabricgw-client');\n",
    "\n",
    "let config = null;\n",
    "\n",
    "let CAregisterSecret = null;\n",
    "let connectionDetails = null;\n",
    "let response = null;\n",
    "\n",
    "let id = null;\n",
    "let network = null;\n",
    "let cid = null;\n",
    "let cipher = null;\n",
    "let cryptKey = null;\n",
    "let acl = null;"
   ]
  },
  {
   "cell_type": "markdown",
   "id": "eb734c08",
   "metadata": {
    "tags": []
   },
   "source": [
    "### Configuration\n",
    "We use a configuration file to configure our connection to the Fabric blockchain (using the Fabric Gateway service that was added in Fabric version 2.4). Additionally, we overwrite specific settings using environment variables (e.g. the organization this notebook will connect to)."
   ]
  },
  {
   "cell_type": "code",
   "execution_count": 2,
   "id": "15655cef",
   "metadata": {},
   "outputs": [
    {
     "name": "stdout",
     "output_type": "stream",
     "text": [
      "Configuration File: ./fabric-client-config.yaml\n"
     ]
    },
    {
     "data": {
      "text/plain": [
       "Promise { <pending> }"
      ]
     },
     "execution_count": 2,
     "metadata": {},
     "output_type": "execute_result"
    }
   ],
   "source": [
    "process.env['FABRIC_ORG'] = 'orgC';\n",
    "fabric.getConfig('./fabric-client-config.yaml').then((result) => {config = result;}); // promises/async in IJavascript: https://github.com/n-riesco/ijavascript/issues/268"
   ]
  },
  {
   "cell_type": "code",
   "execution_count": 3,
   "id": "cb4d2e44",
   "metadata": {
    "tags": []
   },
   "outputs": [
    {
     "name": "stdout",
     "output_type": "stream",
     "text": [
      "{\n",
      "  organization: 'orgC',\n",
      "  mspId: 'MSPorgC',\n",
      "  identity: 'orgCuser',\n",
      "  idCertFile: './id/orgCuser.crt',\n",
      "  idKeyFile: './id/orgCuser.key',\n",
      "  caEndpoint: 'https://ca.orgc.fabric.localhost:7054',\n",
      "  caTlsRootCertFile: '/mnt/crypto-config/fabric/peerOrganizations/orgc.fabric.localhost/ca/ca.orgc.fabric.localhost-cert.pem',\n",
      "  caTlsVerify: true,\n",
      "  caName: 'ca.orgc.fabric.localhost',\n",
      "  gatewayEndpoint: 'peer0.orgc.fabric.localhost:7051',\n",
      "  gatewayTlsCertFile: '/mnt/crypto-config/fabric/peerOrganizations/orgc.fabric.localhost/peers/peer0.orgc.fabric.localhost/tls/ca.crt',\n",
      "  gatewayHostAlias: 'peer0.orgc.fabric.localhost',\n",
      "  channel: 'consortium-chain',\n",
      "  chaincode: 'consortium-cc-ipfs'\n",
      "}\n"
     ]
    }
   ],
   "source": [
    "console.log(config);"
   ]
  },
  {
   "cell_type": "markdown",
   "id": "d8c2cea3",
   "metadata": {},
   "source": [
    "#### User enrollment\n",
    "We have to (once) enroll our previously registered user identity (i.e. generate our public/private key pair). Note that our credentials are stored on the storage of the JupyterLab backend."
   ]
  },
  {
   "cell_type": "code",
   "execution_count": 4,
   "id": "904b86b9",
   "metadata": {},
   "outputs": [
    {
     "name": "stdout",
     "output_type": "stream",
     "text": [
      " Enrolling... \n"
     ]
    },
    {
     "data": {
      "text/plain": [
       "Promise { <pending> }"
      ]
     },
     "execution_count": 4,
     "metadata": {},
     "output_type": "execute_result"
    },
    {
     "name": "stdout",
     "output_type": "stream",
     "text": [
      "Enrollment complete!\n"
     ]
    }
   ],
   "source": [
    "CAregisterSecret = 'bFEAkWJUmfKh';\n",
    "fabric.execEnroll(config, CAregisterSecret);"
   ]
  },
  {
   "cell_type": "markdown",
   "id": "99cfb2d6",
   "metadata": {
    "tags": []
   },
   "source": [
    "#### Set up the connection to the Fabric gateway peer\n",
    "Now that we have set up the configuration and our identity, we can connect to Fabric. Note that our configuration specifies the Fabric Gateway endpoint we want to connect to, the channel/chain/network, and the smart contract we want to use."
   ]
  },
  {
   "cell_type": "code",
   "execution_count": 3,
   "id": "016fb717",
   "metadata": {},
   "outputs": [
    {
     "data": {
      "text/plain": [
       "Promise { <pending> }"
      ]
     },
     "execution_count": 3,
     "metadata": {},
     "output_type": "execute_result"
    }
   ],
   "source": [
    "fabric.createConnection(config).then((result) => {connectionDetails = result;});"
   ]
  },
  {
   "cell_type": "code",
   "execution_count": 4,
   "id": "ba18c213",
   "metadata": {
    "scrolled": true,
    "tags": []
   },
   "outputs": [
    {
     "name": "stdout",
     "output_type": "stream",
     "text": [
      "{\n",
      "  gRpcClient: Client {\n",
      "    [Symbol()]: [],\n",
      "    [Symbol()]: [],\n",
      "    [Symbol()]: undefined,\n",
      "    [Symbol()]: ChannelImplementation {\n",
      "      credentials: [SecureChannelCredentialsImpl],\n",
      "      options: [Object],\n",
      "      connectivityState: 0,\n",
      "      currentPicker: [QueuePicker],\n",
      "      configSelectionQueue: [],\n",
      "      pickQueue: [],\n",
      "      connectivityStateWatchers: [],\n",
      "      configSelector: null,\n",
      "      currentResolutionError: null,\n",
      "      channelzEnabled: true,\n",
      "      callTracker: [ChannelzCallTracker],\n",
      "      childrenTracker: [ChannelzChildrenTracker],\n",
      "      originalTarget: 'peer0.orgc.fabric.localhost:7051',\n",
      "      callRefTimer: Timeout {\n",
      "        _idleTimeout: 2147483647,\n",
      "        _idlePrev: [TimersList],\n",
      "        _idleNext: [TimersList],\n",
      "        _idleStart: 21533,\n",
      "        _onTimeout: [Function (anonymous)],\n",
      "        _timerArgs: undefined,\n",
      "        _repeat: 2147483647,\n",
      "        _destroyed: false,\n",
      "        [Symbol(refed)]: false,\n",
      "        [Symbol(kHasPrimitive)]: false,\n",
      "        [Symbol(asyncId)]: 34,\n",
      "        [Symbol(triggerId)]: 0\n",
      "      },\n",
      "      channelzTrace: [ChannelzTrace],\n",
      "      channelzRef: [Object],\n",
      "      defaultAuthority: 'peer0.orgc.fabric.localhost:7051',\n",
      "      target: [Object],\n",
      "      subchannelPool: [SubchannelPool],\n",
      "      resolvingLoadBalancer: [ResolvingLoadBalancer],\n",
      "      filterStackFactory: [FilterStackFactory]\n",
      "    }\n",
      "  },\n",
      "  gateway: GatewayImpl {},\n",
      "  contract: ContractImpl {}\n",
      "}\n"
     ]
    }
   ],
   "source": [
    "console.log(connectionDetails);"
   ]
  },
  {
   "cell_type": "markdown",
   "id": "d8a7b818",
   "metadata": {},
   "source": [
    "#### Configure IPFS\n",
    "Get the configuration for our local IPFS node from our Fabric blockchain (i.e. the IPFS networks we have access to and their related IPFS bootstrap nodes and network key). We will use the IPFS client Python module in the [IPFS notebook](./IPFS.ipynb#Join-the-IPFS-network) to interact with IPFS."
   ]
  },
  {
   "cell_type": "code",
   "execution_count": 19,
   "id": "188b7e0e",
   "metadata": {},
   "outputs": [
    {
     "data": {
      "text/plain": [
       "Promise { <pending> }"
      ]
     },
     "execution_count": 19,
     "metadata": {},
     "output_type": "execute_result"
    }
   ],
   "source": [
    "fabric.listAllNetworks(connectionDetails.contract, 'MSPorgC').then((result) => {response = result;});"
   ]
  },
  {
   "cell_type": "code",
   "execution_count": 23,
   "id": "945a2c8a",
   "metadata": {},
   "outputs": [
    {
     "name": "stdout",
     "output_type": "stream",
     "text": [
      "[\n",
      "  {\n",
      "    BootstrapNodes: '/dns4/peer0.pnet0.orga.ipfs.localhost/tcp/4001/p2p/12D3KooWCLVuku1xQZLfhwn4UkkR9mFWw1bDeVJ2XVpwzEpvC5JV;/dns4/peer0.pnet0.orgb.ipfs.localhost/tcp/4001/p2p/12D3KooWFJ4XnjSowo6nCTiMPKaNLXrsDakkM5RQiPpZdDSp4uZM;/dns4/peer0.pnet0.orgc.ipfs.localhost/tcp/4001/p2p/12D3KooWNB1Sww8vDHxhg8rtiNc1Ra26ECT3nS7URVbLUkhpZ6fB',\n",
      "    ClusterPinningService: { 'https://cluster0.pnet0.orgc.ipfs.localhost:9097': [Object] },\n",
      "    ID: 'pnet0',\n",
      "    NetKey: '/key/swarm/psk/1.0.0/\\n' +\n",
      "      '/base16/\\n' +\n",
      "      '63e8d44cb8d738ece5681d42dc918ff882cbe28458d81f64e764f95e3f77929f',\n",
      "    Owner: { ID: 'orgadmin', MSPId: 'MSPorgC' },\n",
      "    Relays: '/dns4/relay0.pnet0.orga.ipfs.localhost/tcp/4002/p2p/12D3KooWRsg23DzqhXgt7yfzVf2fs3PPHrRmt6e49p94CgTNcXmh'\n",
      "  }\n",
      "]\n",
      "{\n",
      "  'https://cluster0.pnet0.orgc.ipfs.localhost:9097': { password: '7342764f480A9feb8abd0F51463160', user: 'orgc' }\n",
      "}\n"
     ]
    }
   ],
   "source": [
    "console.log(JSON.parse(response))\n",
    "console.log(JSON.parse(response)[0].ClusterPinningService)"
   ]
  },
  {
   "cell_type": "markdown",
   "id": "4d545431",
   "metadata": {},
   "source": [
    "### Add a data description\n",
    "After having [added](./IPFS.ipynb#Add-a-file) a file via IPFS, we will upload its metadata to Fabric via our smart contract. Note that, in this example, we give read access to all users of Organization C (Fabric identities belonging to MSP 'MSPorgC')."
   ]
  },
  {
   "cell_type": "code",
   "execution_count": 18,
   "id": "63dd9ec2",
   "metadata": {},
   "outputs": [
    {
     "data": {
      "text/plain": [
       "Promise { <pending> }"
      ]
     },
     "execution_count": 18,
     "metadata": {},
     "output_type": "execute_result"
    },
    {
     "name": "stderr",
     "output_type": "stream",
     "text": [
      "Error: Fabric Gateway error: EndorseError: 10 ABORTED: failed to endorse transaction, see attached details for more info\n",
      "    at Object.createData (/opt/conda/lib/node_modules/jc-fabricgw-client/lib/client.js:248:15)\n",
      "    at processTicksAndRejections (node:internal/process/task_queues:96:5)"
     ]
    }
   ],
   "source": [
    "id = 'testorgc.txt';\n",
    "network = 'pnet0';\n",
    "cid = 'QmVSVXixpttHrP7NgXw8ha9WhcbgtZNKieopZ57VeDj5yj';\n",
    "cipher = 'ChaCha20';\n",
    "cryptKey = '7m+Hoo77kQfF9o/u6dq4SBNKcC3ZFfXci6aZPrg+yuQ=';\n",
    "acl = '{\"Users\":{},\"MSPs\":{\"MSPorgC\":\"r\",\"MSPorgA\":\"r\"}}';\n",
    "fabric.createData(connectionDetails.contract, id, network, cid, cipher, cryptKey, acl).then((result) => {response = result;});"
   ]
  },
  {
   "cell_type": "code",
   "execution_count": null,
   "id": "2c994f67",
   "metadata": {},
   "outputs": [
    {
     "name": "stdout",
     "output_type": "stream",
     "text": [
      "{\n",
      "  ACL: { MSPs: { MSPorgA: 'r', MSPorgC: 'r' }, Users: {} },\n",
      "  CID: 'QmVSVXixpttHrP7NgXw8ha9WhcbgtZNKieopZ57VeDj5yj',\n",
      "  CryptCipher: 'ChaCha20',\n",
      "  CryptKey: '7m+Hoo77kQfF9o/u6dq4SBNKcC3ZFfXci6aZPrg+yuQ=',\n",
      "  ID: 'testorgc.txt',\n",
      "  NetworkId: 'pnet0',\n",
      "  Owner: { ID: 'orgCuser', MSPId: 'MSPorgC' }\n",
      "}\n"
     ]
    }
   ],
   "source": [
    "console.log(JSON.parse(response));"
   ]
  },
  {
   "cell_type": "markdown",
   "id": "3b2cd906",
   "metadata": {},
   "source": [
    "### Retrieve a data description\n",
    "We can retrieve a file's metadata from our Fabric channel/blockchain, provided we know its name and we have been granted access by the file's owner via the smart contract. Once we have obtained the metadata, we can then pass it to IPFS to [download](./IPFS.ipynb#Retrieve-a-file) the file itself."
   ]
  },
  {
   "cell_type": "code",
   "execution_count": 24,
   "id": "2442a485",
   "metadata": {
    "tags": []
   },
   "outputs": [
    {
     "data": {
      "text/plain": [
       "Promise { <pending> }"
      ]
     },
     "execution_count": 24,
     "metadata": {},
     "output_type": "execute_result"
    }
   ],
   "source": [
    "id = 'orgCuser@MSPorgC/testorgc.txt';\n",
    "fabric.readData(connectionDetails.contract, id).then((result) => {response = result;});"
   ]
  },
  {
   "cell_type": "code",
   "execution_count": 25,
   "id": "ded4b1c0",
   "metadata": {},
   "outputs": [
    {
     "name": "stdout",
     "output_type": "stream",
     "text": [
      "{\n",
      "  ACL: { MSPs: { MSPorgA: 'r', MSPorgC: 'r' }, Users: {} },\n",
      "  CID: 'QmVSVXixpttHrP7NgXw8ha9WhcbgtZNKieopZ57VeDj5yj',\n",
      "  CryptCipher: 'ChaCha20',\n",
      "  CryptKey: '7m+Hoo77kQfF9o/u6dq4SBNKcC3ZFfXci6aZPrg+yuQ=',\n",
      "  ID: 'testorgc.txt',\n",
      "  NetworkId: 'pnet0',\n",
      "  Owner: { ID: 'orgCuser', MSPId: 'MSPorgC' }\n",
      "}\n"
     ]
    }
   ],
   "source": [
    "console.log(JSON.parse(response));"
   ]
  },
  {
   "cell_type": "markdown",
   "id": "f8d26747-f8ec-4940-9c78-13ace71fbb7e",
   "metadata": {},
   "source": [
    "**Example of trying to retrieve the data description above using a user from organization B (who is not located in the ACL):**  \n",
    "Error: Fabric Gateway error: GatewayError: 2 UNKNOWN: evaluate call to endorser returned error: chaincode response 500, Access denied. User lacks permission to read data at 'orgCuser@MSPorgC/0/testorgc.txt'."
   ]
  },
  {
   "cell_type": "markdown",
   "id": "8d8738c9",
   "metadata": {},
   "source": [
    "### List data descriptions\n",
    "We can also list all the data descriptions, that we have access to, for the specified user:"
   ]
  },
  {
   "cell_type": "code",
   "execution_count": 29,
   "id": "fa93b0fa",
   "metadata": {},
   "outputs": [
    {
     "data": {
      "text/plain": [
       "Promise { <pending> }"
      ]
     },
     "execution_count": 29,
     "metadata": {},
     "output_type": "execute_result"
    }
   ],
   "source": [
    "id = 'orgCuser@MSPorgC';\n",
    "fabric.listAllData(connectionDetails.contract, id).then((result) => {response = result;});"
   ]
  },
  {
   "cell_type": "code",
   "execution_count": 28,
   "id": "9c4c9aba",
   "metadata": {},
   "outputs": [
    {
     "name": "stdout",
     "output_type": "stream",
     "text": [
      "{\n",
      "  ACL: { MSPs: { MSPorgA: 'r', MSPorgC: 'r' }, Users: {} },\n",
      "  CID: 'QmVSVXixpttHrP7NgXw8ha9WhcbgtZNKieopZ57VeDj5yj',\n",
      "  CryptCipher: 'ChaCha20',\n",
      "  CryptKey: '7m+Hoo77kQfF9o/u6dq4SBNKcC3ZFfXci6aZPrg+yuQ=',\n",
      "  ID: 'testorgc.txt',\n",
      "  NetworkId: 'pnet0',\n",
      "  Owner: { ID: 'orgCuser', MSPId: 'MSPorgC' }\n",
      "}\n"
     ]
    }
   ],
   "source": [
    "console.log(JSON.parse(response));"
   ]
  },
  {
   "cell_type": "markdown",
   "id": "5ee8bb2a",
   "metadata": {},
   "source": [
    "### Delete a data description\n",
    "We can delete a file's metadata from our Fabric channel/blockchain, provided we know its name and we have permission to do so (because we are the data description's owner or have write access)."
   ]
  },
  {
   "cell_type": "code",
   "execution_count": 16,
   "id": "6216f7b7",
   "metadata": {},
   "outputs": [
    {
     "data": {
      "text/plain": [
       "Promise { <pending> }"
      ]
     },
     "execution_count": 16,
     "metadata": {},
     "output_type": "execute_result"
    }
   ],
   "source": [
    "id = 'orgCuser@MSPorgC/testorgc.txt';\n",
    "fabric.deleteData(connectionDetails.contract, id).then((result) => {response = result;});"
   ]
  },
  {
   "cell_type": "code",
   "execution_count": 17,
   "id": "c52aeb9c",
   "metadata": {},
   "outputs": [
    {
     "name": "stdout",
     "output_type": "stream",
     "text": [
      "{\"type\":\"Buffer\",\"data\":[]}\n"
     ]
    }
   ],
   "source": [
    "console.log(response);"
   ]
  },
  {
   "cell_type": "markdown",
   "id": "89dd8106",
   "metadata": {},
   "source": [
    " ### List the data's history\n",
    " We (the ACL entries) can view the data description's history (i.e. the transaction history of a key)."
   ]
  },
  {
   "cell_type": "code",
   "execution_count": 30,
   "id": "a0924850",
   "metadata": {},
   "outputs": [
    {
     "data": {
      "text/plain": [
       "Promise { <pending> }"
      ]
     },
     "execution_count": 30,
     "metadata": {},
     "output_type": "execute_result"
    }
   ],
   "source": [
    "id = 'orgCuser@MSPorgC/testorgc.txt';\n",
    "fabric.listDataHistory(connectionDetails.contract, id).then((result) => {response = result;});"
   ]
  },
  {
   "cell_type": "code",
   "execution_count": 31,
   "id": "27cd5e20",
   "metadata": {},
   "outputs": [
    {
     "name": "stdout",
     "output_type": "stream",
     "text": [
      "[\n",
      "  {\n",
      "    TxID: 'ece0c32098a5ae0fd4284fdad2385d6df5373848d07709f6eb2965ed634cdc07',\n",
      "    Timestamp: 1660507646.528,\n",
      "    Data: {\n",
      "      ACL: [Object],\n",
      "      CID: 'QmVSVXixpttHrP7NgXw8ha9WhcbgtZNKieopZ57VeDj5yj',\n",
      "      CryptCipher: 'ChaCha20',\n",
      "      CryptKey: '7m+Hoo77kQfF9o/u6dq4SBNKcC3ZFfXci6aZPrg+yuQ=',\n",
      "      ID: 'testorgc.txt',\n",
      "      NetworkId: 'pnet0',\n",
      "      Owner: [Object]\n",
      "    }\n",
      "  }\n",
      "]\n"
     ]
    }
   ],
   "source": [
    "console.log(JSON.parse(response));"
   ]
  },
  {
   "cell_type": "markdown",
   "id": "12acc0c4",
   "metadata": {
    "tags": []
   },
   "source": [
    "#### Close the Fabric connection"
   ]
  },
  {
   "cell_type": "code",
   "execution_count": 32,
   "id": "d60976cb",
   "metadata": {
    "tags": []
   },
   "outputs": [
    {
     "data": {
      "text/plain": [
       "Promise { undefined }"
      ]
     },
     "execution_count": 32,
     "metadata": {},
     "output_type": "execute_result"
    }
   ],
   "source": [
    "fabric.closeConnection(connectionDetails.gateway, connectionDetails.gRpcClient);"
   ]
  },
  {
   "cell_type": "code",
   "execution_count": null,
   "id": "1231793e",
   "metadata": {},
   "outputs": [],
   "source": []
  }
 ],
 "metadata": {
  "kernelspec": {
   "display_name": "JavaScript (Node.js)",
   "language": "javascript",
   "name": "javascript"
  },
  "language_info": {
   "file_extension": ".js",
   "mimetype": "application/javascript",
   "name": "javascript",
   "version": "16.14.2"
  },
  "toc-autonumbering": false,
  "toc-showcode": false,
  "toc-showmarkdowntxt": false,
  "toc-showtags": false
 },
 "nbformat": 4,
 "nbformat_minor": 5
}
