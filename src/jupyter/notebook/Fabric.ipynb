{
 "cells": [
  {
   "cell_type": "markdown",
   "source": [
    "## Fabric Gateway Client\n",
    "This notebook interacts with our Hyperledger Fabric blockchain, using our JavaScript module, as to simulate a Jupyter extension (i.e. the frontend).\n",
    "Note that the code is executed on the backend (using a Jupyter kernel), whereas a Jupyter extension would run this code on the frontend (i.e. the web browser). This has two major consequences:\n",
    "- the traffic between this client and Fabric will occur via the backend (i.e. IP routing, DNS, TLS, etc. will take place within that context);\n",
    "- and the user's private key is generated and stored on the backend (rather than never leaving the web browser's memory). As long as JupyterLab is executed on the *same* system (e.g. your laptop) this does not matter (both the backend and frontend are running on the same host), but be aware when tunneling JupyterLab."
   ],
   "metadata": {
    "tags": []
   }
  },
  {
   "cell_type": "markdown",
   "source": [
    "#### Admin tasks\n",
    "The organization's (Fabric and IPFS) administrator has to register a user and provision the IPFS network configuration."
   ],
   "metadata": {
    "jp-MarkdownHeadingCollapsed": true,
    "tags": []
   }
  },
  {
   "cell_type": "markdown",
   "source": [
    "**User registration**  \n",
    "The organization's Fabric CA admin registers user by using the command below on the Docker host (which will use our Fabric CA client application):"
   ],
   "metadata": {
    "tags": []
   }
  },
  {
   "cell_type": "code",
   "execution_count": null,
   "source": [
    "Organization A:\n",
    "docker exec -it ca-client.fabric.localhost ./registerUser.js --profile ../connection-profiles/connection-profile-orga.yaml --org orgA --user orgAuser\n",
    "Organization B:\n",
    "docker exec -it ca-client.fabric.localhost ./registerUser.js --profile ../connection-profiles/connection-profile-orgb.yaml --org orgB --user orgBuser\n",
    "Organization C:\n",
    "docker exec -it ca-client.fabric.localhost ./registerUser.js --profile ../connection-profiles/connection-profile-orgc.yaml --org orgC --user orgCuser"
   ],
   "outputs": [],
   "metadata": {}
  },
  {
   "cell_type": "code",
   "execution_count": null,
   "source": [
    "Example of registering a user for Organization A:\n",
    " --- Fabric CA Client Application --- \n",
    "Existing wallet found at \"./wallet\"\n",
    "Registering user \"orgAuser\" in organization \"orgA\"\n",
    "An identity for the CA admin user \"admin\" of organization \"orgA\" does not exists in the wallet\n",
    "Enrolling CA admin user \"admin\" of organization \"orgA\"\n",
    "CA admin user password? adminpw\n",
    "Successfully enrolled the CA admin user \"admin\" of organization \"orgA\"\n",
    "Successfully imported identity of CA admin user \"admin\" of organization \"orgA\" into the wallet\n",
    "Successfully registered user \"orgAuser\" in organization \"orgA\"\n",
    "Secret of user \"orgAuser\": \"syftizGMliAX\"\n",
    "***SECURITY NOTE***: The secret is normally not visible to the CA admin (i.e. the secret is *only* send to the user)!"
   ],
   "outputs": [],
   "metadata": {
    "tags": []
   }
  },
  {
   "cell_type": "markdown",
   "source": [
    "**Network provisioning**  \n",
    "The organization's Fabric admin uploads the IPFS private network configuration to the Fabric blockchain by using the command below on the Docker host (by using our IPFS smart contract):"
   ],
   "metadata": {}
  },
  {
   "cell_type": "code",
   "execution_count": null,
   "source": [
    "Organization A:\n",
    "docker exec cli.orga.fabric.localhost peer chaincode invoke --peerAddresses peer0.orga.fabric.localhost:7051 --peerAddresses peer0.orgc.fabric.localhost:7051 -C 'consortium-chain' -n 'consortium-cc-ipfs' -c '{\"Args\":[\"IPFSContract:createNetwork\", \"pnet0\", \"/dns4/peer0.pnet0.orga.ipfs.localhost/tcp/4001/p2p/12D3KooWEq2SRZg8zYMjm3vp8G1xettJpZvjF62n58iJu7jhKdzm;/dns4/peer0.pnet0.orgb.ipfs.localhost/tcp/4001/p2p/12D3KooWLy5UaZMMR8rtvxHFa3L9LhvjWwdMBtP9e7BpHjvooiPD;/dns4/peer0.pnet0.orgc.ipfs.localhost/tcp/4001/p2p/12D3KooWByqyhou8Mj5YXTAojVE9TMLqkh6cKqDaEGX4HN5ML3PW\", \"/key/swarm/psk/1.0.0/\\n/base16/\\n63e8d44cb8d738ece5681d42dc918ff882cbe28458d81f64e764f95e3f77929f\", \"{\\\"https://cluster0.pnet0.orga.ipfs.localhost:9097\\\":{\\\"user\\\":\\\"orga\\\",\\\"password\\\":\\\"325298731aB2022aFF0964813762fC\\\"}}\", \"{\\\"Users\\\":{},\\\"MSPs\\\":{\\\"MSPorgA\\\":\\\"r\\\"}}\"]}' --tls true -o orderer0.consortium.orga.fabric.localhost:7050 --cafile /var/hyperledger/cli/crypto-orderer/tlsca.orga.fabric.localhost-cert.pem --tlsRootCertFiles /var/hyperledger/cli/crypto-peer/peer0.orga.fabric.localhost/tls/ca.crt --tlsRootCertFiles /var/hyperledger/cli/crypto-peer/peer0.orgc.fabric.localhost/tls/ca.crt"
   ],
   "outputs": [],
   "metadata": {
    "tags": []
   }
  },
  {
   "cell_type": "code",
   "execution_count": null,
   "source": [
    "Example of Provisioning 'pnet0' for Organization A:\n",
    "2022-06-03 14:54:05.182 UTC 0001 INFO [chaincodeCmd] chaincodeInvokeOrQuery -> Chaincode invoke successful. result: status:200 payload:\"{\\\"ACL\\\":{\\\"MSPs\\\":{\\\"MSPorgA\\\":\\\"r\\\"},\\\"Users\\\":{}},\\\"BootstrapNodes\\\":\\\"/dns4/peer0.pnet0.orga.ipfs.localhost/tcp/4001/p2p/12D3KooWEq2SRZg8zYMjm3vp8G1xettJpZvjF62n58iJu7jhKdzm;/dns4/peer0.pnet0.orgb.ipfs.localhost/tcp/4001/p2p/12D3KooWLy5UaZMMR8rtvxHFa3L9LhvjWwdMBtP9e7BpHjvooiPD;/dns4/peer0.pnet0.orgc.ipfs.localhost/tcp/4001/p2p/12D3KooWByqyhou8Mj5YXTAojVE9TMLqkh6cKqDaEGX4HN5ML3PW\\\",\\\"ClusterPinningService\\\":{\\\"https://cluster0.pnet0.orga.ipfs.localhost:9097\\\":{\\\"password\\\":\\\"325298731aB2022aFF0964813762fC\\\",\\\"user\\\":\\\"orga\\\"}},\\\"ID\\\":\\\"pnet0\\\",\\\"NetKey\\\":\\\"/key/swarm/psk/1.0.0/\\\\n/base16/\\\\n63e8d44cb8d738ece5681d42dc918ff882cbe28458d81f64e764f95e3f77929f\\\",\\\"Owner\\\":{\\\"ID\\\":\\\"orgadmin\\\",\\\"MSPId\\\":\\\"MSPorgA\\\"}}\""
   ],
   "outputs": [],
   "metadata": {
    "tags": []
   }
  },
  {
   "cell_type": "code",
   "execution_count": null,
   "source": [
    "Organization B:\n",
    "docker exec cli.orgb.fabric.localhost peer chaincode invoke --peerAddresses peer0.orgb.fabric.localhost:7051 --peerAddresses peer0.orgc.fabric.localhost:7051 -C 'consortium-chain' -n 'consortium-cc-ipfs' -c '{\"Args\":[\"IPFSContract:createNetwork\", \"pnet0\", \"/dns4/peer0.pnet0.orga.ipfs.localhost/tcp/4001/p2p/12D3KooWEq2SRZg8zYMjm3vp8G1xettJpZvjF62n58iJu7jhKdzm;/dns4/peer0.pnet0.orgb.ipfs.localhost/tcp/4001/p2p/12D3KooWLy5UaZMMR8rtvxHFa3L9LhvjWwdMBtP9e7BpHjvooiPD;/dns4/peer0.pnet0.orgc.ipfs.localhost/tcp/4001/p2p/12D3KooWByqyhou8Mj5YXTAojVE9TMLqkh6cKqDaEGX4HN5ML3PW\", \"/key/swarm/psk/1.0.0/\\n/base16/\\n63e8d44cb8d738ece5681d42dc918ff882cbe28458d81f64e764f95e3f77929f\", \"{\\\"https://cluster0.pnet0.orgb.ipfs.localhost:9097\\\":{\\\"user\\\":\\\"orgb\\\",\\\"password\\\":\\\"392449223fA2aAD134f53a8342F814\\\"}}\", \"{\\\"Users\\\":{},\\\"MSPs\\\":{\\\"MSPorgB\\\":\\\"r\\\"}}\"]}' --tls true -o orderer0.consortium.orgb.fabric.localhost:7050 --cafile /var/hyperledger/cli/crypto-orderer/tlsca.orgb.fabric.localhost-cert.pem --tlsRootCertFiles /var/hyperledger/cli/crypto-peer/peer0.orgb.fabric.localhost/tls/ca.crt --tlsRootCertFiles /var/hyperledger/cli/crypto-peer/peer0.orgc.fabric.localhost/tls/ca.crt"
   ],
   "outputs": [],
   "metadata": {}
  },
  {
   "cell_type": "code",
   "execution_count": null,
   "source": [
    "Organization C:\n",
    "docker exec cli.orgc.fabric.localhost peer chaincode invoke --peerAddresses peer0.orga.fabric.localhost:7051 --peerAddresses peer0.orgc.fabric.localhost:7051 -C 'consortium-chain' -n 'consortium-cc-ipfs' -c '{\"Args\":[\"IPFSContract:createNetwork\", \"pnet0\", \"/dns4/peer0.pnet0.orga.ipfs.localhost/tcp/4001/p2p/12D3KooWEq2SRZg8zYMjm3vp8G1xettJpZvjF62n58iJu7jhKdzm;/dns4/peer0.pnet0.orgb.ipfs.localhost/tcp/4001/p2p/12D3KooWLy5UaZMMR8rtvxHFa3L9LhvjWwdMBtP9e7BpHjvooiPD;/dns4/peer0.pnet0.orgc.ipfs.localhost/tcp/4001/p2p/12D3KooWByqyhou8Mj5YXTAojVE9TMLqkh6cKqDaEGX4HN5ML3PW\", \"/key/swarm/psk/1.0.0/\\n/base16/\\n63e8d44cb8d738ece5681d42dc918ff882cbe28458d81f64e764f95e3f77929f\", \"{\\\"https://cluster0.pnet0.orgc.ipfs.localhost:9097\\\":{\\\"user\\\":\\\"orgc\\\",\\\"password\\\":\\\"7342764f480A9feb8abd0F51463160\\\"}}\", \"{\\\"Users\\\":{},\\\"MSPs\\\":{\\\"MSPorgC\\\":\\\"r\\\"}}\"]}' --tls true -o orderer0.consortium.orgc.fabric.localhost:7050 --cafile /var/hyperledger/cli/crypto-orderer/tlsca.orgc.fabric.localhost-cert.pem --tlsRootCertFiles /var/hyperledger/cli/crypto-peer/peer0.orga.fabric.localhost/tls/ca.crt --tlsRootCertFiles /var/hyperledger/cli/crypto-peer/peer0.orgc.fabric.localhost/tls/ca.crt"
   ],
   "outputs": [],
   "metadata": {}
  },
  {
   "cell_type": "markdown",
   "source": [
    "### Node.js module setup\n",
    "Load our Fabric client Node.js module and initialize all the variables (we set all these variables here so we can easily re-run our code/cells)."
   ],
   "metadata": {
    "tags": []
   }
  },
  {
   "cell_type": "code",
   "execution_count": 1,
   "source": [
    "const fabric = require('/opt/conda/lib/node_modules/jc-fabricgw-client');\n",
    "\n",
    "let config = null;\n",
    "\n",
    "let CAregisterSecret = null;\n",
    "let connectionDetails = null;\n",
    "let response = null;\n",
    "\n",
    "let id = null;\n",
    "let network = null;\n",
    "let cid = null;\n",
    "let cipher = null;\n",
    "let cryptKey = null;\n",
    "let chunkSize = null;\n",
    "let acl = null;\n",
    "\n",
    "let key = null;"
   ],
   "outputs": [],
   "metadata": {}
  },
  {
   "cell_type": "markdown",
   "source": [
    "### Configuration\n",
    "We use a configuration file to configure our connection to the Fabric blockchain (using the Fabric Gateway service that was added in Fabric version 2.4). Additionally, we overwrite specific settings using environment variables (e.g. the organization this notebook will connect to)."
   ],
   "metadata": {
    "tags": []
   }
  },
  {
   "cell_type": "code",
   "execution_count": 2,
   "source": [
    "process.env['FABRIC_ORG'] = 'orgA';\n",
    "fabric.getConfig('./fabric-client-config.yaml').then((result) => {config = result;}); // promises/async in IJavascript: https://github.com/n-riesco/ijavascript/issues/268"
   ],
   "outputs": [
    {
     "output_type": "stream",
     "name": "stdout",
     "text": [
      "Configuration File: ./fabric-client-config.yaml\n"
     ]
    },
    {
     "output_type": "execute_result",
     "data": {
      "text/plain": [
       "Promise { <pending> }"
      ]
     },
     "metadata": {},
     "execution_count": 2
    }
   ],
   "metadata": {}
  },
  {
   "cell_type": "code",
   "execution_count": 3,
   "source": [
    "console.log(config);"
   ],
   "outputs": [
    {
     "output_type": "stream",
     "name": "stdout",
     "text": [
      "{\n",
      "  organization: 'orgC',\n",
      "  mspId: 'MSPorgC',\n",
      "  identity: 'orgCuser',\n",
      "  idCertFile: './id/orgCuser.crt',\n",
      "  idKeyFile: './id/orgCuser.key',\n",
      "  caEndpoint: 'https://ca.orgc.fabric.localhost:7054',\n",
      "  caTlsRootCertFile: '/mnt/crypto-config/fabric/peerOrganizations/orgc.fabric.localhost/ca/ca.orgc.fabric.localhost-cert.pem',\n",
      "  caTlsVerify: true,\n",
      "  caName: 'ca.orgc.fabric.localhost',\n",
      "  gatewayEndpoint: 'peer0.orgc.fabric.localhost:7051',\n",
      "  gatewayTlsCertFile: '/mnt/crypto-config/fabric/peerOrganizations/orgc.fabric.localhost/peers/peer0.orgc.fabric.localhost/tls/ca.crt',\n",
      "  gatewayHostAlias: 'peer0.orgc.fabric.localhost',\n",
      "  channel: 'consortium-chain',\n",
      "  chaincode: 'consortium-cc-ipfs'\n",
      "}\n"
     ]
    }
   ],
   "metadata": {
    "tags": []
   }
  },
  {
   "cell_type": "markdown",
   "source": [
    "#### User enrollment\n",
    "We have to (once) enroll our previously registered user identity (i.e. generate our public/private key pair). Note that our credentials are stored on the storage of the JupyterLab backend."
   ],
   "metadata": {}
  },
  {
   "cell_type": "code",
   "execution_count": 3,
   "source": [
    "CAregisterSecret = 'kabQrOfkhUaf';\n",
    "fabric.execEnroll(config, CAregisterSecret);"
   ],
   "outputs": [
    {
     "output_type": "stream",
     "name": "stdout",
     "text": [
      " Enrolling... \n"
     ]
    },
    {
     "output_type": "execute_result",
     "data": {
      "text/plain": [
       "Promise { <pending> }"
      ]
     },
     "metadata": {},
     "execution_count": 3
    },
    {
     "output_type": "stream",
     "name": "stdout",
     "text": [
      "Enrollment complete!\n"
     ]
    }
   ],
   "metadata": {}
  },
  {
   "cell_type": "markdown",
   "source": [
    "#### Set up the connection to the Fabric gateway peer\n",
    "Now that we have set up the configuration and our identity, we can connect to Fabric. Note that our configuration specifies the Fabric Gateway endpoint we want to connect to, the channel/chain/network, and the smart contract we want to use."
   ],
   "metadata": {
    "tags": []
   }
  },
  {
   "cell_type": "code",
   "execution_count": 4,
   "source": [
    "fabric.createConnection(config).then((result) => {connectionDetails = result;});"
   ],
   "outputs": [
    {
     "output_type": "execute_result",
     "data": {
      "text/plain": [
       "Promise { <pending> }"
      ]
     },
     "metadata": {},
     "execution_count": 4
    }
   ],
   "metadata": {}
  },
  {
   "cell_type": "code",
   "execution_count": 6,
   "source": [
    "console.log(connectionDetails);"
   ],
   "outputs": [
    {
     "output_type": "stream",
     "name": "stdout",
     "text": [
      "{\n",
      "  gRpcClient: Client {\n",
      "    [Symbol()]: [],\n",
      "    [Symbol()]: [],\n",
      "    [Symbol()]: undefined,\n",
      "    [Symbol()]: ChannelImplementation {\n",
      "      credentials: [SecureChannelCredentialsImpl],\n",
      "      options: [Object],\n",
      "      connectivityState: 0,\n",
      "      currentPicker: [QueuePicker],\n",
      "      configSelectionQueue: [],\n",
      "      pickQueue: [],\n",
      "      connectivityStateWatchers: [],\n",
      "      configSelector: null,\n",
      "      currentResolutionError: null,\n",
      "      channelzEnabled: true,\n",
      "      callTracker: [ChannelzCallTracker],\n",
      "      childrenTracker: [ChannelzChildrenTracker],\n",
      "      originalTarget: 'peer0.orgc.fabric.localhost:7051',\n",
      "      callRefTimer: Timeout {\n",
      "        _idleTimeout: 2147483647,\n",
      "        _idlePrev: [TimersList],\n",
      "        _idleNext: [TimersList],\n",
      "        _idleStart: 66187,\n",
      "        _onTimeout: [Function (anonymous)],\n",
      "        _timerArgs: undefined,\n",
      "        _repeat: 2147483647,\n",
      "        _destroyed: false,\n",
      "        [Symbol(refed)]: false,\n",
      "        [Symbol(kHasPrimitive)]: false,\n",
      "        [Symbol(asyncId)]: 87,\n",
      "        [Symbol(triggerId)]: 0\n",
      "      },\n",
      "      channelzTrace: [ChannelzTrace],\n",
      "      channelzRef: [Object],\n",
      "      defaultAuthority: 'peer0.orgc.fabric.localhost:7051',\n",
      "      target: [Object],\n",
      "      subchannelPool: [SubchannelPool],\n",
      "      resolvingLoadBalancer: [ResolvingLoadBalancer],\n",
      "      filterStackFactory: [FilterStackFactory]\n",
      "    }\n",
      "  },\n",
      "  gateway: GatewayImpl {},\n",
      "  contract: ContractImpl {}\n",
      "}\n"
     ]
    }
   ],
   "metadata": {
    "scrolled": true,
    "tags": []
   }
  },
  {
   "cell_type": "markdown",
   "source": [
    "#### Configure IPFS\n",
    "Get the configuration for our local IPFS node from our Fabric blockchain (i.e. the IPFS networks we have access to and their related IPFS bootstrap nodes and network key). We will use the IPFS client Python module in the [IPFS notebook](./IPFS.ipynb#Join-the-IPFS-network) to interact with IPFS."
   ],
   "metadata": {}
  },
  {
   "cell_type": "code",
   "execution_count": 5,
   "source": [
    "fabric.listAllNetworks(connectionDetails.contract, 'MSPorgA').then((result) => {response = result;});"
   ],
   "outputs": [
    {
     "output_type": "execute_result",
     "data": {
      "text/plain": [
       "Promise { <pending> }"
      ]
     },
     "metadata": {},
     "execution_count": 5
    }
   ],
   "metadata": {}
  },
  {
   "cell_type": "code",
   "execution_count": 6,
   "source": [
    "for (const item of response) {\n",
    "  console.log(item);\n",
    "}"
   ],
   "outputs": [
    {
     "output_type": "stream",
     "name": "stdout",
     "text": [
      "[{\"BootstrapNodes\":\"/dns4/peer0.pnet0.orga.ipfs.localhost/tcp/4001/p2p/12D3KooWEq2SRZg8zYMjm3vp8G1xettJpZvjF62n58iJu7jhKdzm;/dns4/peer0.pnet0.orgb.ipfs.localhost/tcp/4001/p2p/12D3KooWLy5UaZMMR8rtvxHFa3L9LhvjWwdMBtP9e7BpHjvooiPD;/dns4/peer0.pnet0.orgc.ipfs.localhost/tcp/4001/p2p/12D3KooWByqyhou8Mj5YXTAojVE9TMLqkh6cKqDaEGX4HN5ML3PW\",\"ClusterPinningService\":{\"https://cluster0.pnet0.orga.ipfs.localhost:9097\":{\"password\":\"325298731aB2022aFF0964813762fC\",\"user\":\"orga\"}},\"ID\":\"pnet0\",\"NetKey\":\"/key/swarm/psk/1.0.0/\\n/base16/\\n63e8d44cb8d738ece5681d42dc918ff882cbe28458d81f64e764f95e3f77929f\",\"Owner\":{\"ID\":\"orgadmin\",\"MSPId\":\"MSPorgA\"}}]\n"
     ]
    },
    {
     "output_type": "error",
     "ename": "SyntaxError",
     "evalue": "Unexpected end of JSON input",
     "traceback": [
      "undefined:1",
      "[",
      "",
      "SyntaxError: Unexpected end of JSON input",
      "    at JSON.parse (<anonymous>)",
      "    at evalmachine.<anonymous>:3:20",
      "    at Script.runInThisContext (node:vm:129:12)",
      "    at Object.runInThisContext (node:vm:305:38)",
      "    at run ([eval]:1020:15)",
      "    at onRunRequest ([eval]:864:18)",
      "    at onMessage ([eval]:828:13)",
      "    at process.emit (node:events:526:28)",
      "    at emit (node:internal/child_process:938:14)",
      "    at processTicksAndRejections (node:internal/process/task_queues:84:21)"
     ]
    }
   ],
   "metadata": {}
  },
  {
   "cell_type": "markdown",
   "source": [
    "### Add a data description\n",
    "After having [added](./IPFS.ipynb#Add-a-file) a file via IPFS, we will upload its metadata to Fabric via our smart contract. Note that, in this example, we give read access to all users of Organization C (Fabric identities belonging to MSP 'MSPorgC')."
   ],
   "metadata": {}
  },
  {
   "cell_type": "code",
   "execution_count": 7,
   "source": [
    "id = 'testorga.txt';\n",
    "network = 'pnet0';\n",
    "cid = 'QmQGtBqmztM5KtUCkWWXYooobJhxWfKRZrvUtmXgQxx4Ch';\n",
    "cipher = 'ChaCha20';\n",
    "cryptKey = 'EDBNNOs1dDeKXk4Id+XCqg+di/26cm3DR1I5X+Nl//o=';\n",
    "chunkSize = '10485760';\n",
    "acl = '{\"Users\":{},\"MSPs\":{\"MSPorgC\":\"r\"}}';\n",
    "fabric.createData(connectionDetails.contract, filename, network, cid, cipher, cryptKey, chunkSize, acl).then((result) => {response = result;});"
   ],
   "outputs": [
    {
     "output_type": "execute_result",
     "data": {
      "text/plain": [
       "Promise { <pending> }"
      ]
     },
     "metadata": {},
     "execution_count": 7
    }
   ],
   "metadata": {}
  },
  {
   "cell_type": "code",
   "execution_count": 8,
   "source": [
    "console.log(JSON.parse(response));"
   ],
   "outputs": [
    {
     "output_type": "stream",
     "name": "stdout",
     "text": [
      "{\"ACL\":{\"MSPs\":{\"MSPorgC\":\"r\"},\"Users\":{}},\"CID\":\"QmQGtBqmztM5KtUCkWWXYooobJhxWfKRZrvUtmXgQxx4Ch\",\"ChunkSize\":\"10485760\",\"CryptCipher\":\"ChaCha20\",\"CryptKey\":\"EDBNNOs1dDeKXk4Id+XCqg+di/26cm3DR1I5X+Nl//o=\",\"ID\":\"testorga.txt\",\"NetworkId\":\"pnet0\",\"Owner\":{\"ID\":\"orgAuser\",\"MSPId\":\"MSPorgA\"}}\n",
      "{\n",
      "  ACL: { MSPs: { MSPorgC: 'r' }, Users: {} },\n",
      "  CID: 'QmQGtBqmztM5KtUCkWWXYooobJhxWfKRZrvUtmXgQxx4Ch',\n",
      "  ChunkSize: '10485760',\n",
      "  CryptCipher: 'ChaCha20',\n",
      "  CryptKey: 'EDBNNOs1dDeKXk4Id+XCqg+di/26cm3DR1I5X+Nl//o=',\n",
      "  ID: 'testorga.txt',\n",
      "  NetworkId: 'pnet0',\n",
      "  Owner: { ID: 'orgAuser', MSPId: 'MSPorgA' }\n",
      "}\n"
     ]
    }
   ],
   "metadata": {}
  },
  {
   "cell_type": "markdown",
   "source": [
    "### Retrieve a data description\n",
    "We can retrieve a file's metadata from our Fabric channel/blockchain, provided we know its name and we have been granted access by the file's owner via the smart contract. Once we have obtained the metadata, we can then pass it to IPFS to [download](./IPFS.ipynb#Retrieve-a-file) the file itself."
   ],
   "metadata": {}
  },
  {
   "cell_type": "code",
   "execution_count": 8,
   "source": [
    "key = 'orgAuser@MSPorgA/testorga.txt';\n",
    "fabric.readData(connectionDetails.contract, key).then((result) => {response = result;});"
   ],
   "outputs": [
    {
     "output_type": "execute_result",
     "data": {
      "text/plain": [
       "Promise { <pending> }"
      ]
     },
     "metadata": {},
     "execution_count": 8
    }
   ],
   "metadata": {
    "tags": []
   }
  },
  {
   "cell_type": "code",
   "execution_count": 14,
   "source": [
    "console.log(JSON.parse(response));"
   ],
   "outputs": [
    {
     "output_type": "stream",
     "name": "stdout",
     "text": [
      "{\"ACL\":{\"MSPs\":{\"MSPorgC\":\"r\"},\"Users\":{}},\"CID\":\"QmQGtBqmztM5KtUCkWWXYooobJhxWfKRZrvUtmXgQxx4Ch\",\"ChunkSize\":\"10485760\",\"CryptCipher\":\"ChaCha20\",\"CryptKey\":\"EDBNNOs1dDeKXk4Id+XCqg+di/26cm3DR1I5X+Nl//o=\",\"ID\":\"testorga.txt\",\"NetworkId\":\"pnet0\",\"Owner\":{\"ID\":\"orgAuser\",\"MSPId\":\"MSPorgA\"}}\n",
      "{\n",
      "  ACL: { MSPs: { MSPorgC: 'r' }, Users: {} },\n",
      "  CID: 'QmQGtBqmztM5KtUCkWWXYooobJhxWfKRZrvUtmXgQxx4Ch',\n",
      "  ChunkSize: '10485760',\n",
      "  CryptCipher: 'ChaCha20',\n",
      "  CryptKey: 'EDBNNOs1dDeKXk4Id+XCqg+di/26cm3DR1I5X+Nl//o=',\n",
      "  ID: 'testorga.txt',\n",
      "  NetworkId: 'pnet0',\n",
      "  Owner: { ID: 'orgAuser', MSPId: 'MSPorgA' }\n",
      "}\n"
     ]
    }
   ],
   "metadata": {}
  },
  {
   "cell_type": "raw",
   "source": [
    "Example of trying to retrieve the data description above using a user from organization B (who is not located in the ACL):\n"
   ],
   "metadata": {}
  },
  {
   "cell_type": "markdown",
   "source": [
    "### List data descriptions\n",
    "We can also list all the data descriptions, that we have access to, for the specified user:"
   ],
   "metadata": {}
  },
  {
   "cell_type": "code",
   "execution_count": 9,
   "source": [
    "key = 'orgAuser@MSPorgA';\n",
    "fabric.listAllData(connectionDetails.contract, key).then((result) => {response = result;});"
   ],
   "outputs": [
    {
     "output_type": "execute_result",
     "data": {
      "text/plain": [
       "Promise { <pending> }"
      ]
     },
     "metadata": {},
     "execution_count": 9
    }
   ],
   "metadata": {}
  },
  {
   "cell_type": "code",
   "execution_count": 10,
   "source": [
    "for (const item of response) {\n",
    "  console.log(item);\n",
    "}"
   ],
   "outputs": [
    {
     "output_type": "stream",
     "name": "stdout",
     "text": [
      "[{\"ACL\":{\"MSPs\":{\"MSPorgC\":\"r\"},\"Users\":{}},\"CID\":\"QmQGtBqmztM5KtUCkWWXYooobJhxWfKRZrvUtmXgQxx4Ch\",\"ChunkSize\":\"10485760\",\"CryptCipher\":\"ChaCha20\",\"CryptKey\":\"EDBNNOs1dDeKXk4Id+XCqg+di/26cm3DR1I5X+Nl//o=\",\"ID\":\"testorga.txt\",\"NetworkId\":\"pnet0\",\"Owner\":{\"ID\":\"orgAuser\",\"MSPId\":\"MSPorgA\"}}]\n"
     ]
    },
    {
     "output_type": "error",
     "ename": "SyntaxError",
     "evalue": "Unexpected end of JSON input",
     "traceback": [
      "undefined:1",
      "[",
      "",
      "SyntaxError: Unexpected end of JSON input",
      "    at JSON.parse (<anonymous>)",
      "    at evalmachine.<anonymous>:3:20",
      "    at Script.runInThisContext (node:vm:129:12)",
      "    at Object.runInThisContext (node:vm:305:38)",
      "    at run ([eval]:1020:15)",
      "    at onRunRequest ([eval]:864:18)",
      "    at onMessage ([eval]:828:13)",
      "    at process.emit (node:events:526:28)",
      "    at emit (node:internal/child_process:938:14)",
      "    at processTicksAndRejections (node:internal/process/task_queues:84:21)"
     ]
    }
   ],
   "metadata": {}
  },
  {
   "cell_type": "markdown",
   "source": [
    "### Delete a data description\n",
    "We can delete a file's metadata from our Fabric channel/blockchain, provided we know its name and we have permission to do so (because we are the data description's owner or have write access)."
   ],
   "metadata": {}
  },
  {
   "cell_type": "code",
   "execution_count": null,
   "source": [
    "key = 'orgAuser@MSPorgA/testorga.txt';\n",
    "fabric.deleteData(connectionDetails.contract, key).then((result) => {response = result;});"
   ],
   "outputs": [],
   "metadata": {}
  },
  {
   "cell_type": "code",
   "execution_count": null,
   "source": [
    "console.log(response);"
   ],
   "outputs": [],
   "metadata": {}
  },
  {
   "cell_type": "markdown",
   "source": [
    " ### List the data's history\n",
    " We (the ACL entries) can view the data description's history (i.e. the transaction history of a key)."
   ],
   "metadata": {}
  },
  {
   "cell_type": "code",
   "execution_count": 6,
   "source": [
    "key = 'orgCuser@MSPorgC/testorgc.txt';\n",
    "fabric.listDataHistory(connectionDetails.contract, key).then((result) => {response = result;});"
   ],
   "outputs": [
    {
     "output_type": "execute_result",
     "data": {
      "text/plain": [
       "Promise { <pending> }"
      ]
     },
     "metadata": {},
     "execution_count": 6
    }
   ],
   "metadata": {}
  },
  {
   "cell_type": "code",
   "execution_count": 7,
   "source": [
    "for (const item of response) {\n",
    "  console.log(item);\n",
    "}"
   ],
   "outputs": [
    {
     "output_type": "stream",
     "name": "stdout",
     "text": [
      "[{\"TxID\":\"205b81ee7bef097ef49f2102738394402cf968fb19413c1fd58f93e404332fe9\",\"Timestamp\":1656078984.036,\"Data\":{\"ACL\":{\"MSPs\":{\"MSPorgC\":\"r\"},\"Users\":{}},\"CID\":\"QmQGtBqmztM5KtUCkWWXYooobJhxWfKRZrvUtmXgQxx4Ch\",\"ChunkSize\":\"10485760\",\"CryptCipher\":\"ChaCha20\",\"CryptKey\":\"EDBNNOs1dDeKXk4Id+XCqg+di/26cm3DR1I5X+Nl//o=\",\"ID\":\"testorgc.txt\",\"NetworkId\":\"pnet0\",\"Owner\":{\"ID\":\"orgCuser\",\"MSPId\":\"MSPorgC\"}}}]\n"
     ]
    },
    {
     "output_type": "error",
     "ename": "SyntaxError",
     "evalue": "Unexpected end of JSON input",
     "traceback": [
      "undefined:1",
      "[",
      "",
      "SyntaxError: Unexpected end of JSON input",
      "    at JSON.parse (<anonymous>)",
      "    at evalmachine.<anonymous>:3:20",
      "    at Script.runInThisContext (vm.js:134:12)",
      "    at Object.runInThisContext (vm.js:310:38)",
      "    at run ([eval]:1020:15)",
      "    at onRunRequest ([eval]:864:18)",
      "    at onMessage ([eval]:828:13)",
      "    at process.emit (events.js:400:28)",
      "    at emit (internal/child_process.js:912:12)",
      "    at processTicksAndRejections (internal/process/task_queues.js:83:21)"
     ]
    }
   ],
   "metadata": {}
  },
  {
   "cell_type": "markdown",
   "source": [
    "#### Close the Fabric connection"
   ],
   "metadata": {
    "tags": []
   }
  },
  {
   "cell_type": "code",
   "execution_count": 11,
   "source": [
    "fabric.closeConnkabQrOfkhUafection(connectionDetails.gateway, connectionDetails.gRpcClient);"
   ],
   "outputs": [
    {
     "output_type": "execute_result",
     "data": {
      "text/plain": [
       "Promise { undefined }"
      ]
     },
     "metadata": {},
     "execution_count": 11
    }
   ],
   "metadata": {
    "tags": []
   }
  },
  {
   "cell_type": "code",
   "execution_count": null,
   "source": [],
   "outputs": [],
   "metadata": {}
  }
 ],
 "metadata": {
  "kernelspec": {
   "display_name": "JavaScript (Node.js)",
   "language": "javascript",
   "name": "javascript"
  },
  "language_info": {
   "file_extension": ".js",
   "mimetype": "application/javascript",
   "name": "javascript",
   "version": "16.14.2"
  },
  "toc-autonumbering": false,
  "toc-showcode": false,
  "toc-showmarkdowntxt": false,
  "toc-showtags": false
 },
 "nbformat": 4,
 "nbformat_minor": 5
}