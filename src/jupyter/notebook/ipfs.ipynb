{
 "cells": [
  {
   "cell_type": "code",
   "execution_count": null,
   "id": "022a6cf6-c968-4da2-ac33-ff6000e5ab4b",
   "metadata": {
    "tags": []
   },
   "outputs": [
    {
     "name": "stdout",
     "output_type": "stream",
     "text": [
      "Requirement already satisfied: requests in /opt/conda/lib/python3.9/site-packages (2.27.1)\n",
      "Requirement already satisfied: idna<4,>=2.5 in /opt/conda/lib/python3.9/site-packages (from requests) (3.3)\n",
      "Requirement already satisfied: urllib3<1.27,>=1.21.1 in /opt/conda/lib/python3.9/site-packages (from requests) (1.26.8)\n",
      "Requirement already satisfied: certifi>=2017.4.17 in /opt/conda/lib/python3.9/site-packages (from requests) (2021.10.8)\n",
      "Requirement already satisfied: charset-normalizer~=2.0.0 in /opt/conda/lib/python3.9/site-packages (from requests) (2.0.12)\n",
      "Note: you may need to restart the kernel to use updated packages.\n"
     ]
    }
   ],
   "source": [
    "%pip install requests\n",
    "import requests\n",
    "def ipfs(api_endpoint):\n",
    "  peer = 'http://ipfs.jupyter.localhost:5001'\n",
    "  response = requests.post(peer + api_endpoint)\n",
    "  print(response.json())"
   ]
  },
  {
   "cell_type": "code",
   "execution_count": null,
   "id": "6e74334d-794b-4bc5-8c42-38bdde176343",
   "metadata": {},
   "outputs": [
    {
     "name": "stdout",
     "output_type": "stream",
     "text": [
      "{'Version': '0.11.0', 'Commit': '67220ed', 'Repo': '11', 'System': 'amd64/linux', 'Golang': 'go1.16.7'}\n"
     ]
    }
   ],
   "source": [
    "ipfs('/api/v0/version')"
   ]
  },
  {
   "cell_type": "code",
   "execution_count": 6,
   "id": "37d2d991-e31d-40a1-bd30-a556cee6486a",
   "metadata": {},
   "outputs": [
    {
     "name": "stdout",
     "output_type": "stream",
     "text": [
      "{'Peers': []}\n"
     ]
    }
   ],
   "source": [
    "ipfs('/api/v0/bootstrap/rm/all')"
   ]
  },
  {
   "cell_type": "code",
   "execution_count": 7,
   "id": "1dca7aa2-d62b-42b7-8222-435c643b55f1",
   "metadata": {},
   "outputs": [
    {
     "name": "stdout",
     "output_type": "stream",
     "text": [
      "{'Peers': []}\n"
     ]
    }
   ],
   "source": [
    "ipfs('/api/v0/bootstrap/list')"
   ]
  },
  {
   "cell_type": "code",
   "execution_count": null,
   "id": "4e9d01d3-d375-4b03-aae5-8112e6263a87",
   "metadata": {},
   "outputs": [],
   "source": []
  }
 ],
 "metadata": {
  "kernelspec": {
   "display_name": "Python 3 (ipykernel)",
   "language": "python",
   "name": "python3"
  },
  "language_info": {
   "codemirror_mode": {
    "name": "ipython",
    "version": 3
   },
   "file_extension": ".py",
   "mimetype": "text/x-python",
   "name": "python",
   "nbconvert_exporter": "python",
   "pygments_lexer": "ipython3",
   "version": "3.9.10"
  }
 },
 "nbformat": 4,
 "nbformat_minor": 5
}
